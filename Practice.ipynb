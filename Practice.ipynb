{
 "cells": [
  {
   "cell_type": "code",
   "execution_count": null,
   "id": "8c9216c1",
   "metadata": {},
   "outputs": [],
   "source": [
    " Write a program which will find all such numbers which are divisible by 7 but are not a multiple of 5,\n",
    "between 2000 and 3200 (both included). The numbers obtained should be printed in a comma-separated sequence\n",
    "on a single line. "
   ]
  },
  {
   "cell_type": "code",
   "execution_count": 7,
   "id": "246cafc7",
   "metadata": {},
   "outputs": [
    {
     "name": "stdout",
     "output_type": "stream",
     "text": [
      "2002,2009,2016,2023,2037,2044,2051,2058,2072,2079,2086,2093,2107,2114,2121,2128,2142,2149,2156,2163,2177,2184,2191,2198,2212,2219,2226,2233,2247,2254,2261,2268,2282,2289,2296,2303,2317,2324,2331,2338,2352,2359,2366,2373,2387,2394,2401,2408,2422,2429,2436,2443,2457,2464,2471,2478,2492,2499,2506,2513,2527,2534,2541,2548,2562,2569,2576,2583,2597,2604,2611,2618,2632,2639,2646,2653,2667,2674,2681,2688,2702,2709,2716,2723,2737,2744,2751,2758,2772,2779,2786,2793,2807,2814,2821,2828,2842,2849,2856,2863,2877,2884,2891,2898,2912,2919,2926,2933,2947,2954,2961,2968,2982,2989,2996,3003,3017,3024,3031,3038,3052,3059,3066,3073,3087,3094,3101,3108,3122,3129,3136,3143,3157,3164,3171,3178,3192,3199,"
     ]
    }
   ],
   "source": [
    "for i in range(2000,3201):\n",
    "    if i%7==0 and i%5!=0:\n",
    "            print(i,end=\",\")"
   ]
  },
  {
   "cell_type": "code",
   "execution_count": null,
   "id": "25596af0",
   "metadata": {},
   "outputs": [],
   "source": [
    " Write a program which can compute the factorial of a given numbers. \n",
    "    The results should be printed in a comma-separated sequence on a single line. "
   ]
  },
  {
   "cell_type": "code",
   "execution_count": 17,
   "id": "ec58756e",
   "metadata": {},
   "outputs": [
    {
     "name": "stdout",
     "output_type": "stream",
     "text": [
      "Enter the Number:0\n",
      "1\n"
     ]
    }
   ],
   "source": [
    "n=int(input(\"Enter the Number:\"))\n",
    "f=1\n",
    "for i in range(n,1,-1):\n",
    "    f=f*i\n",
    "print(f)"
   ]
  },
  {
   "cell_type": "code",
   "execution_count": null,
   "id": "88156cb5",
   "metadata": {},
   "outputs": [],
   "source": [
    " With a given integral number n, write a program to generate a dictionary that contains (i, i*i) such that is an integral\n",
    "number between 1 and n (both included) and then the program should print the dictionary. "
   ]
  },
  {
   "cell_type": "code",
   "execution_count": 11,
   "id": "c2a9ea3d",
   "metadata": {},
   "outputs": [
    {
     "ename": "SyntaxError",
     "evalue": "invalid syntax (Temp/ipykernel_3120/923284152.py, line 6)",
     "output_type": "error",
     "traceback": [
      "\u001b[1;36m  File \u001b[1;32m\"C:\\Users\\dell\\AppData\\Local\\Temp/ipykernel_3120/923284152.py\"\u001b[1;36m, line \u001b[1;32m6\u001b[0m\n\u001b[1;33m    print((a,:,b),end=\"\")\u001b[0m\n\u001b[1;37m             ^\u001b[0m\n\u001b[1;31mSyntaxError\u001b[0m\u001b[1;31m:\u001b[0m invalid syntax\n"
     ]
    }
   ],
   "source": [
    "n=int(input(\"Enter the no:\"))\n",
    "for i in range(1,n+1):\n",
    "    \n"
   ]
  },
  {
   "cell_type": "code",
   "execution_count": null,
   "id": "150449f0",
   "metadata": {},
   "outputs": [],
   "source": [
    " Write a program which accepts a sequence of comma-separated numbers from console \n",
    "and generate a list and a tuple which contains every number. \n"
   ]
  },
  {
   "cell_type": "code",
   "execution_count": 18,
   "id": "bd150db2",
   "metadata": {},
   "outputs": [
    {
     "name": "stdout",
     "output_type": "stream",
     "text": [
      "enter the no.s: 1 2 3\n",
      "['1', '2', '3']\n",
      "('1', '2', '3')\n"
     ]
    }
   ],
   "source": [
    "n=(input(\"enter the no.s: \")).split()\n",
    "print(list(n))\n",
    "print(tuple(n))\n"
   ]
  },
  {
   "cell_type": "code",
   "execution_count": null,
   "id": "4662377f",
   "metadata": {},
   "outputs": [],
   "source": [
    "Define a class which has at least two methods: \n",
    "getString: to get a string from console input \n",
    "printString: to print the string in upper case. \n",
    "Also please include simple test function to test the class methods. \n"
   ]
  },
  {
   "cell_type": "code",
   "execution_count": null,
   "id": "ff7712ad",
   "metadata": {},
   "outputs": [],
   "source": []
  }
 ],
 "metadata": {
  "kernelspec": {
   "display_name": "Python 3 (ipykernel)",
   "language": "python",
   "name": "python3"
  },
  "language_info": {
   "codemirror_mode": {
    "name": "ipython",
    "version": 3
   },
   "file_extension": ".py",
   "mimetype": "text/x-python",
   "name": "python",
   "nbconvert_exporter": "python",
   "pygments_lexer": "ipython3",
   "version": "3.9.7"
  }
 },
 "nbformat": 4,
 "nbformat_minor": 5
}
