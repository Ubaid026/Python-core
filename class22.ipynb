{
 "cells": [
  {
   "cell_type": "markdown",
   "id": "d4554560",
   "metadata": {},
   "source": [
    "# Properties of object oriented programming:\n",
    "#  1)inheritance\n",
    "#   2)polymorphism\n",
    "#    3)data abstraction\n",
    "#     4)encapsulation"
   ]
  },
  {
   "cell_type": "markdown",
   "id": "7991a00d",
   "metadata": {},
   "source": [
    "###   1)polymorphism\n"
   ]
  },
  {
   "cell_type": "code",
   "execution_count": 1,
   "id": "fd0d261e",
   "metadata": {},
   "outputs": [
    {
     "name": "stdout",
     "output_type": "stream",
     "text": [
      "the population of india is 1.3\n",
      "the population of pakistan is 0.7\n"
     ]
    }
   ],
   "source": [
    "class india:\n",
    "    def pop(self):\n",
    "        print(f\"the population of india is {1.3}\")\n",
    "class pakistan:\n",
    "     def pop(self):\n",
    "        print(f\"the population of pakistan is {0.7}\")\n",
    "i=india()\n",
    "p=pakistan()\n",
    "for country in i,p:\n",
    "    country.pop()\n",
    "    "
   ]
  },
  {
   "cell_type": "markdown",
   "id": "9e64dc64",
   "metadata": {},
   "source": [
    "###  2)Encapsulation:"
   ]
  },
  {
   "cell_type": "code",
   "execution_count": 6,
   "id": "90bfb986",
   "metadata": {},
   "outputs": [
    {
     "data": {
      "text/plain": [
       "1"
      ]
     },
     "execution_count": 6,
     "metadata": {},
     "output_type": "execute_result"
    }
   ],
   "source": [
    "class laptop:\n",
    "    def __init__(self,photos,playlist,games):\n",
    "        self.__photos=photos        #private\n",
    "        self._playlist=playlist     #protected\n",
    "        self.games=games\n",
    "    def show(self):\n",
    "        pass\n",
    "l=laptop(1,\"song\",\"gta\")\n",
    "l._laptop__photos     #private"
   ]
  },
  {
   "cell_type": "code",
   "execution_count": 7,
   "id": "9e4e5c54",
   "metadata": {},
   "outputs": [
    {
     "data": {
      "text/plain": [
       "'song'"
      ]
     },
     "execution_count": 7,
     "metadata": {},
     "output_type": "execute_result"
    }
   ],
   "source": [
    "class laptop:\n",
    "    def __init__(self,photos,playlist,games):\n",
    "        self.__photos=photos        #private\n",
    "        self._playlist=playlist     #protected\n",
    "        self.games=games\n",
    "    def show(self):\n",
    "        pass\n",
    "l=laptop(1,\"song\",\"gta\")\n",
    "l._playlist    #protected"
   ]
  },
  {
   "cell_type": "markdown",
   "id": "b4335cba",
   "metadata": {},
   "source": [
    "### 3)Data abstraction"
   ]
  },
  {
   "cell_type": "code",
   "execution_count": 11,
   "id": "d876832d",
   "metadata": {},
   "outputs": [],
   "source": [
    "from abc import ABC,abstractmethod"
   ]
  },
  {
   "cell_type": "code",
   "execution_count": 13,
   "id": "d4d4a28b",
   "metadata": {},
   "outputs": [
    {
     "ename": "TypeError",
     "evalue": "Can't instantiate abstract class calc with abstract method add",
     "output_type": "error",
     "traceback": [
      "\u001b[1;31m---------------------------------------------------------------------------\u001b[0m",
      "\u001b[1;31mTypeError\u001b[0m                                 Traceback (most recent call last)",
      "\u001b[1;32m~\\AppData\\Local\\Temp/ipykernel_14624/3414586639.py\u001b[0m in \u001b[0;36m<module>\u001b[1;34m\u001b[0m\n\u001b[0;32m      7\u001b[0m         \u001b[0mc\u001b[0m\u001b[1;33m=\u001b[0m\u001b[0mself\u001b[0m\u001b[1;33m.\u001b[0m\u001b[0ma\u001b[0m\u001b[1;33m+\u001b[0m\u001b[0mself\u001b[0m\u001b[1;33m.\u001b[0m\u001b[0mb\u001b[0m\u001b[1;33m\u001b[0m\u001b[1;33m\u001b[0m\u001b[0m\n\u001b[0;32m      8\u001b[0m         \u001b[0mprint\u001b[0m\u001b[1;33m(\u001b[0m\u001b[0mc\u001b[0m\u001b[1;33m)\u001b[0m\u001b[1;33m\u001b[0m\u001b[1;33m\u001b[0m\u001b[0m\n\u001b[1;32m----> 9\u001b[1;33m \u001b[0mc\u001b[0m\u001b[1;33m=\u001b[0m\u001b[0mcalc\u001b[0m\u001b[1;33m(\u001b[0m\u001b[1;33m)\u001b[0m\u001b[1;33m\u001b[0m\u001b[1;33m\u001b[0m\u001b[0m\n\u001b[0m\u001b[0;32m     10\u001b[0m \u001b[0mc\u001b[0m\u001b[1;33m.\u001b[0m\u001b[0madd\u001b[0m\u001b[1;33m(\u001b[0m\u001b[1;33m)\u001b[0m\u001b[1;33m\u001b[0m\u001b[1;33m\u001b[0m\u001b[0m\n\u001b[0;32m     11\u001b[0m \u001b[1;33m\u001b[0m\u001b[0m\n",
      "\u001b[1;31mTypeError\u001b[0m: Can't instantiate abstract class calc with abstract method add"
     ]
    }
   ],
   "source": [
    "class calc(ABC):\n",
    "    def __init__(self):\n",
    "        self.a=10\n",
    "        self.b=20\n",
    "    @abstractmethod\n",
    "    def add(self):\n",
    "        c=self.a+self.b\n",
    "        print(c)\n",
    "c=calc()\n",
    "c.add()\n",
    "        "
   ]
  },
  {
   "cell_type": "markdown",
   "id": "1a9c869d",
   "metadata": {},
   "source": [
    "#  INHERITANCE"
   ]
  },
  {
   "cell_type": "code",
   "execution_count": 2,
   "id": "b2a6c8a7",
   "metadata": {},
   "outputs": [
    {
     "name": "stdout",
     "output_type": "stream",
     "text": [
      "this method is hidden cannot open or use this 100\n",
      "the a is of black and has a maxspeed of 310\n",
      "310\n",
      "a\n",
      "black\n",
      "this is price of sedan 100000\n"
     ]
    }
   ],
   "source": [
    "from abc import ABC,abstractmethod\n",
    "class Car(ABC):\n",
    "    def __init__(self):\n",
    "        self.name=\"a\"\n",
    "        self.color=\"black\"\n",
    "        self.maxspeed=310\n",
    "    def show(self):\n",
    "        print(f\"the {self.name} is of {self.color} and has a maxspeed of {self.maxspeed}\")\n",
    "    @abstractmethod\n",
    "    def price(self,x):\n",
    "        print(f\"this method is hidden cannot open or use this\",x)\n",
    "class sedan(Car):\n",
    "    def __init__(self):\n",
    "        super().__init__()\n",
    "        super().price(100)\n",
    "    def price(self):\n",
    "        print(\"this is price of sedan\",100000)\n",
    "obj1=sedan()\n",
    "obj1.show()\n",
    "print(obj1.maxspeed)\n",
    "print(obj1.name)\n",
    "print(obj1.color)\n",
    "obj1.price()"
   ]
  },
  {
   "cell_type": "code",
   "execution_count": 4,
   "id": "d1a71dbf",
   "metadata": {},
   "outputs": [
    {
     "name": "stdout",
     "output_type": "stream",
     "text": [
      "sunny singh is a nice person\n",
      "the 110023 having name sunny singh has scored 100 marks\n"
     ]
    }
   ],
   "source": [
    "class Person:\n",
    "    def __init__(self,fname,lname):\n",
    "        self.fname=fname\n",
    "        self.lname=lname\n",
    "    def details(self):\n",
    "        print(f\"{self.fname} {self.lname} is a nice person\")\n",
    "class student(Person):\n",
    "    def __init__(self,fname,lname,stid):\n",
    "        self.fname=fname\n",
    "        self.lname=lname\n",
    "        self.stid=stid\n",
    "    def print_name(self):\n",
    "        print(f\"the {self.stid} having name {self.fname} {self.lname} has scored 100 marks\")\n",
    "s=student(\"sunny\",\"singh\",110023)\n",
    "s.details()\n",
    "s.print_name()"
   ]
  },
  {
   "cell_type": "code",
   "execution_count": 7,
   "id": "44212e27",
   "metadata": {},
   "outputs": [
    {
     "name": "stdout",
     "output_type": "stream",
     "text": [
      "sunny singh is a nice person\n",
      "the 110023 having name sunny singh has scored 100 marks\n"
     ]
    }
   ],
   "source": [
    "class Person:\n",
    "    def __init__(self):\n",
    "        self.fname=\"sunny\"\n",
    "        self.lname=\"singh\"\n",
    "    def details(self):\n",
    "        print(f\"{self.fname} {self.lname} is a nice person\")\n",
    "class student(Person):\n",
    "    def __init__(self,stid):\n",
    "        super().__init__()\n",
    "        self.stid=stid\n",
    "    def print_name(self):\n",
    "        print(f\"the {self.stid} having name {self.fname} {self.lname} has scored 100 marks\")\n",
    "s=student(110023)\n",
    "s.details()\n",
    "s.print_name()"
   ]
  },
  {
   "cell_type": "code",
   "execution_count": null,
   "id": "b1616895",
   "metadata": {},
   "outputs": [],
   "source": [
    "WAC TRANSPORT and def a constructor for the same for different transport type then define another class \n",
    "tax  and tax the vehicle according\n",
    "car_tax=2000\n",
    "bus_tax=1000\n",
    "two_wheeler=500\n",
    "govt_transport=free"
   ]
  },
  {
   "cell_type": "code",
   "execution_count": 13,
   "id": "fa1ad869",
   "metadata": {},
   "outputs": [
    {
     "name": "stdout",
     "output_type": "stream",
     "text": [
      "Enter the type of transport:bus\n",
      "tax is 1000\n"
     ]
    }
   ],
   "source": [
    "class transport:\n",
    "    def __init__(self):\n",
    "        self.ttype=input(\"Enter the type of transport:\")\n",
    "class tax(transport):\n",
    "    def __init__(self):\n",
    "        super().__init__()\n",
    "    def show_tax(self):\n",
    "        if self.ttype==\"car\":\n",
    "            print(\"tax is 2000\")\n",
    "        elif self.ttype==\"bus\":\n",
    "            print(\"tax is 1000\")\n",
    "        elif self.ttype==\"two_wheeler\":\n",
    "            print(\"tax is 500\")\n",
    "        elif self.ttype==\"govt\":\n",
    "            print(\"tax free\")\n",
    "t=tax()\n",
    "t.show_tax()\n",
    "        "
   ]
  },
  {
   "cell_type": "code",
   "execution_count": 3,
   "id": "b90abc65",
   "metadata": {},
   "outputs": [
    {
     "ename": "NameError",
     "evalue": "name 'rb' is not defined",
     "output_type": "error",
     "traceback": [
      "\u001b[1;31m---------------------------------------------------------------------------\u001b[0m",
      "\u001b[1;31mNameError\u001b[0m                                 Traceback (most recent call last)",
      "\u001b[1;32m~\\AppData\\Local\\Temp/ipykernel_11964/776109282.py\u001b[0m in \u001b[0;36m<module>\u001b[1;34m\u001b[0m\n\u001b[0;32m      7\u001b[0m         \u001b[0mrb\u001b[0m\u001b[1;33m==\u001b[0m\u001b[1;34m\"self.bal\"\u001b[0m\u001b[1;33m-\u001b[0m\u001b[1;34m\"self.withdrawl_amount\"\u001b[0m\u001b[1;33m\u001b[0m\u001b[1;33m\u001b[0m\u001b[0m\n\u001b[0;32m      8\u001b[0m         \u001b[0mprint\u001b[0m\u001b[1;33m(\u001b[0m\u001b[1;34m\"rb\"\u001b[0m\u001b[1;33m)\u001b[0m\u001b[1;33m\u001b[0m\u001b[1;33m\u001b[0m\u001b[0m\n\u001b[1;32m----> 9\u001b[1;33m \u001b[0mb\u001b[0m\u001b[1;33m=\u001b[0m\u001b[0mwithdraw\u001b[0m\u001b[1;33m(\u001b[0m\u001b[1;33m)\u001b[0m\u001b[1;33m\u001b[0m\u001b[1;33m\u001b[0m\u001b[0m\n\u001b[0m\u001b[0;32m     10\u001b[0m \u001b[0mb\u001b[0m\u001b[1;33m.\u001b[0m\u001b[0mself\u001b[0m\u001b[1;33m\u001b[0m\u001b[1;33m\u001b[0m\u001b[0m\n",
      "\u001b[1;32m~\\AppData\\Local\\Temp/ipykernel_11964/776109282.py\u001b[0m in \u001b[0;36m__init__\u001b[1;34m(self)\u001b[0m\n\u001b[0;32m      5\u001b[0m \u001b[1;32mclass\u001b[0m \u001b[0mwithdraw\u001b[0m\u001b[1;33m(\u001b[0m\u001b[0mbank\u001b[0m\u001b[1;33m)\u001b[0m\u001b[1;33m:\u001b[0m\u001b[1;33m\u001b[0m\u001b[1;33m\u001b[0m\u001b[0m\n\u001b[0;32m      6\u001b[0m     \u001b[1;32mdef\u001b[0m \u001b[0m__init__\u001b[0m\u001b[1;33m(\u001b[0m\u001b[0mself\u001b[0m\u001b[1;33m)\u001b[0m\u001b[1;33m:\u001b[0m\u001b[1;33m\u001b[0m\u001b[1;33m\u001b[0m\u001b[0m\n\u001b[1;32m----> 7\u001b[1;33m         \u001b[0mrb\u001b[0m\u001b[1;33m==\u001b[0m\u001b[1;34m\"self.bal\"\u001b[0m\u001b[1;33m-\u001b[0m\u001b[1;34m\"self.withdrawl_amount\"\u001b[0m\u001b[1;33m\u001b[0m\u001b[1;33m\u001b[0m\u001b[0m\n\u001b[0m\u001b[0;32m      8\u001b[0m         \u001b[0mprint\u001b[0m\u001b[1;33m(\u001b[0m\u001b[1;34m\"rb\"\u001b[0m\u001b[1;33m)\u001b[0m\u001b[1;33m\u001b[0m\u001b[1;33m\u001b[0m\u001b[0m\n\u001b[0;32m      9\u001b[0m \u001b[0mb\u001b[0m\u001b[1;33m=\u001b[0m\u001b[0mwithdraw\u001b[0m\u001b[1;33m(\u001b[0m\u001b[1;33m)\u001b[0m\u001b[1;33m\u001b[0m\u001b[1;33m\u001b[0m\u001b[0m\n",
      "\u001b[1;31mNameError\u001b[0m: name 'rb' is not defined"
     ]
    }
   ],
   "source": [
    "class bank:\n",
    "    def __init__(self):\n",
    "        self.bal=int(input(\"Enter the balance:\"))\n",
    "        self.withdrawl_amount=int(input(\"Enter the balance withdrawn:\"))"
   ]
  },
  {
   "cell_type": "code",
   "execution_count": null,
   "id": "149192bf",
   "metadata": {},
   "outputs": [],
   "source": []
  }
 ],
 "metadata": {
  "kernelspec": {
   "display_name": "Python 3 (ipykernel)",
   "language": "python",
   "name": "python3"
  },
  "language_info": {
   "codemirror_mode": {
    "name": "ipython",
    "version": 3
   },
   "file_extension": ".py",
   "mimetype": "text/x-python",
   "name": "python",
   "nbconvert_exporter": "python",
   "pygments_lexer": "ipython3",
   "version": "3.9.7"
  }
 },
 "nbformat": 4,
 "nbformat_minor": 5
}
