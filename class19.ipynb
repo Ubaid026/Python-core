{
 "cells": [
  {
   "cell_type": "markdown",
   "id": "f22af927",
   "metadata": {},
   "source": [
    "# file handling\n",
    "#  x for write\n",
    "#  r for read\n",
    "#  a for append\n",
    "#  w for write"
   ]
  },
  {
   "cell_type": "code",
   "execution_count": null,
   "id": "c14d0027",
   "metadata": {},
   "outputs": [],
   "source": [
    "file:text file"
   ]
  },
  {
   "cell_type": "code",
   "execution_count": 8,
   "id": "9b0a8bf2",
   "metadata": {},
   "outputs": [
    {
     "ename": "FileExistsError",
     "evalue": "[Errno 17] File exists: 'abc.txt'",
     "output_type": "error",
     "traceback": [
      "\u001b[1;31m---------------------------------------------------------------------------\u001b[0m",
      "\u001b[1;31mFileExistsError\u001b[0m                           Traceback (most recent call last)",
      "\u001b[1;32m~\\AppData\\Local\\Temp/ipykernel_13160/4023043559.py\u001b[0m in \u001b[0;36m<module>\u001b[1;34m\u001b[0m\n\u001b[1;32m----> 1\u001b[1;33m \u001b[0mfile\u001b[0m\u001b[1;33m=\u001b[0m\u001b[0mopen\u001b[0m\u001b[1;33m(\u001b[0m\u001b[1;34m\"abc.txt\"\u001b[0m\u001b[1;33m,\u001b[0m\u001b[1;34m\"x\"\u001b[0m\u001b[1;33m)\u001b[0m\u001b[1;33m\u001b[0m\u001b[1;33m\u001b[0m\u001b[0m\n\u001b[0m\u001b[0;32m      2\u001b[0m \u001b[0mfile\u001b[0m\u001b[1;33m.\u001b[0m\u001b[0mwrite\u001b[0m\u001b[1;33m(\u001b[0m\u001b[1;34m\"the cat is small\\n the dog is black\\n\"\u001b[0m\u001b[1;33m)\u001b[0m\u001b[1;33m\u001b[0m\u001b[1;33m\u001b[0m\u001b[0m\n",
      "\u001b[1;31mFileExistsError\u001b[0m: [Errno 17] File exists: 'abc.txt'"
     ]
    }
   ],
   "source": [
    "file=open(\"abc.txt\",\"x\")\n",
    "file.write(\"the cat is small\\n the dog is black\\n\")"
   ]
  },
  {
   "cell_type": "code",
   "execution_count": 2,
   "id": "878d240a",
   "metadata": {},
   "outputs": [
    {
     "name": "stdout",
     "output_type": "stream",
     "text": [
      "the cat is small\n",
      "\n",
      " the dog is black\n"
     ]
    }
   ],
   "source": [
    "file=open(\"abc.txt\",\"r\")\n",
    "for i in file:\n",
    "    print(i)"
   ]
  },
  {
   "cell_type": "code",
   "execution_count": 4,
   "id": "5aa6e358",
   "metadata": {},
   "outputs": [
    {
     "data": {
      "text/plain": [
       "'the cat is small\\n the dog is black'"
      ]
     },
     "execution_count": 4,
     "metadata": {},
     "output_type": "execute_result"
    }
   ],
   "source": [
    "file=open(\"abc.txt\",\"r\")\n",
    "file.read()"
   ]
  },
  {
   "cell_type": "code",
   "execution_count": 5,
   "id": "39de3308",
   "metadata": {},
   "outputs": [
    {
     "name": "stdout",
     "output_type": "stream",
     "text": [
      "the cat is small\n",
      " the dog is black\n"
     ]
    }
   ],
   "source": [
    "with open(\"abc.txt\") as f:        #with is a keyword\n",
    "    print(f.read())"
   ]
  },
  {
   "cell_type": "code",
   "execution_count": 6,
   "id": "81655700",
   "metadata": {},
   "outputs": [],
   "source": [
    "with open(\"abc.txt\",\"a\") as f:\n",
    "    f.write(\"lets go for a walk\\n carry\")"
   ]
  },
  {
   "cell_type": "code",
   "execution_count": 9,
   "id": "5697812c",
   "metadata": {},
   "outputs": [
    {
     "name": "stdout",
     "output_type": "stream",
     "text": [
      "the cat is small\n",
      " the dog is blacklets go for a walk\n",
      " carry out stuff\n",
      "\n"
     ]
    }
   ],
   "source": [
    "with open(\"abc.txt\") as f:        \n",
    "    print(f.read())"
   ]
  },
  {
   "cell_type": "code",
   "execution_count": 10,
   "id": "9c4f1f41",
   "metadata": {},
   "outputs": [],
   "source": [
    "with open(\"abc.txt\",\"w\") as f:\n",
    "    f.write(\"walking is good for u\\n this is a park\\n\")\n",
    "    "
   ]
  },
  {
   "cell_type": "code",
   "execution_count": 11,
   "id": "8defb9f1",
   "metadata": {},
   "outputs": [
    {
     "name": "stdout",
     "output_type": "stream",
     "text": [
      "walking is good for u\n",
      " this is a park\n",
      "\n"
     ]
    }
   ],
   "source": [
    "with open(\"abc.txt\") as f:        \n",
    "    print(f.read())"
   ]
  },
  {
   "cell_type": "code",
   "execution_count": 12,
   "id": "031ca0b8",
   "metadata": {},
   "outputs": [
    {
     "name": "stdout",
     "output_type": "stream",
     "text": [
      "walking is good for u\n",
      " this is a park\n",
      "\n"
     ]
    }
   ],
   "source": [
    "with open(\"abc.txt\",\"r+\") as f:\n",
    "    print(f.read())\n",
    "    f.write(\"today is thursday\\n tomorrow is festival\\n\")\n",
    "    "
   ]
  },
  {
   "cell_type": "code",
   "execution_count": 13,
   "id": "81346dc8",
   "metadata": {},
   "outputs": [
    {
     "name": "stdout",
     "output_type": "stream",
     "text": [
      "walking is good for u\n",
      " this is a park\n",
      "today is thursday\n",
      " tomorrow is festival\n",
      "\n"
     ]
    }
   ],
   "source": [
    "with open(\"abc.txt\") as f:        \n",
    "    print(f.read())"
   ]
  },
  {
   "cell_type": "code",
   "execution_count": 24,
   "id": "8040ca3f",
   "metadata": {},
   "outputs": [
    {
     "name": "stdout",
     "output_type": "stream",
     "text": [
      "\n"
     ]
    }
   ],
   "source": [
    "with open(\"abc.txt\",\"a+\") as f:\n",
    "    print(f.read())\n",
    "    f.write(\"go to school tommorow\\n\")"
   ]
  },
  {
   "cell_type": "code",
   "execution_count": 25,
   "id": "46f1d621",
   "metadata": {},
   "outputs": [
    {
     "name": "stdout",
     "output_type": "stream",
     "text": [
      "go to school\n",
      "go to school tommorow\n",
      "\n"
     ]
    }
   ],
   "source": [
    "with open(\"abc.txt\") as f:        \n",
    "    print(f.read())"
   ]
  },
  {
   "cell_type": "code",
   "execution_count": 19,
   "id": "1b63a1d4",
   "metadata": {},
   "outputs": [
    {
     "name": "stdout",
     "output_type": "stream",
     "text": [
      "walking is good for u\n",
      " this is a park\n",
      "today is thursday\n",
      " tomorrow is festival\n",
      "\n"
     ]
    }
   ],
   "source": [
    "with open(\"abc.txt\") as f:        \n",
    "    print(f.read())"
   ]
  },
  {
   "cell_type": "code",
   "execution_count": 22,
   "id": "6f65d22f",
   "metadata": {},
   "outputs": [
    {
     "name": "stdout",
     "output_type": "stream",
     "text": [
      "\n"
     ]
    }
   ],
   "source": [
    "with open(\"abc.txt\",\"w+\") as f:\n",
    "    print(f.read())\n",
    "    f.write(\"go to school\\n\")"
   ]
  },
  {
   "cell_type": "code",
   "execution_count": 23,
   "id": "2eece5f8",
   "metadata": {},
   "outputs": [
    {
     "name": "stdout",
     "output_type": "stream",
     "text": [
      "go to school\n",
      "\n"
     ]
    }
   ],
   "source": [
    "with open(\"abc.txt\") as f:        \n",
    "    print(f.read())"
   ]
  },
  {
   "cell_type": "code",
   "execution_count": 1,
   "id": "0d9a79c5",
   "metadata": {},
   "outputs": [],
   "source": [
    "file=open(\"xyz.txt\",\"x\")"
   ]
  },
  {
   "cell_type": "code",
   "execution_count": 2,
   "id": "7cb8bcdb",
   "metadata": {},
   "outputs": [
    {
     "data": {
      "text/plain": [
       "12"
      ]
     },
     "execution_count": 2,
     "metadata": {},
     "output_type": "execute_result"
    }
   ],
   "source": [
    "file.write(\"how are you\\n\")"
   ]
  },
  {
   "cell_type": "code",
   "execution_count": 5,
   "id": "d3a9ccfb",
   "metadata": {},
   "outputs": [
    {
     "name": "stdout",
     "output_type": "stream",
     "text": [
      "\n"
     ]
    }
   ],
   "source": [
    "with open(\"xyz.txt\") as f:\n",
    "    print(f.read())"
   ]
  },
  {
   "cell_type": "code",
   "execution_count": 6,
   "id": "c85adcbb",
   "metadata": {},
   "outputs": [],
   "source": [
    "with open(\"xyz.txt\",\"a\") as f:\n",
    "    f.write(\"how are you\\n\")"
   ]
  },
  {
   "cell_type": "code",
   "execution_count": 7,
   "id": "8a8af15e",
   "metadata": {},
   "outputs": [
    {
     "name": "stdout",
     "output_type": "stream",
     "text": [
      "how are you\n",
      "\n"
     ]
    }
   ],
   "source": [
    "with open(\"xyz.txt\") as f:\n",
    "    print(f.read())"
   ]
  },
  {
   "cell_type": "code",
   "execution_count": 8,
   "id": "1f221b8f",
   "metadata": {},
   "outputs": [
    {
     "name": "stdout",
     "output_type": "stream",
     "text": [
      "\n"
     ]
    }
   ],
   "source": [
    "with open(\"xyz.txt\",\"a+\") as f:\n",
    "    print(f.read())\n",
    "    f.write(\"I am fine\\n\")"
   ]
  },
  {
   "cell_type": "code",
   "execution_count": 9,
   "id": "7ed14882",
   "metadata": {},
   "outputs": [
    {
     "name": "stdout",
     "output_type": "stream",
     "text": [
      "how are you\n",
      "I am fine\n",
      "\n"
     ]
    }
   ],
   "source": [
    "with open(\"xyz.txt\") as f:\n",
    "    print(f.read())"
   ]
  },
  {
   "cell_type": "code",
   "execution_count": 2,
   "id": "44e223bb",
   "metadata": {},
   "outputs": [],
   "source": [
    "file=open(\"cda.txt\",\"x\")"
   ]
  },
  {
   "cell_type": "code",
   "execution_count": 3,
   "id": "355f226f",
   "metadata": {},
   "outputs": [],
   "source": [
    "with open(\"cda.txt\",\"w\") as f:\n",
    "    f.write(\"how are u\\n\")"
   ]
  },
  {
   "cell_type": "code",
   "execution_count": 4,
   "id": "00c437a1",
   "metadata": {},
   "outputs": [
    {
     "name": "stdout",
     "output_type": "stream",
     "text": [
      "how are u\n",
      "\n"
     ]
    }
   ],
   "source": [
    "with open(\"cda.txt\") as f:\n",
    "    print(f.read())"
   ]
  },
  {
   "cell_type": "code",
   "execution_count": 6,
   "id": "21ace8ae",
   "metadata": {},
   "outputs": [],
   "source": [
    "with open(\"cda.txt\",\"a\") as f:\n",
    "    f.write(\"i am good\")"
   ]
  },
  {
   "cell_type": "code",
   "execution_count": 7,
   "id": "1f49c3ff",
   "metadata": {},
   "outputs": [
    {
     "name": "stdout",
     "output_type": "stream",
     "text": [
      "how are u\n",
      "i am good\n"
     ]
    }
   ],
   "source": [
    "with open(\"cda.txt\") as f:\n",
    "    print(f.read())"
   ]
  },
  {
   "cell_type": "code",
   "execution_count": 8,
   "id": "68a2bd99",
   "metadata": {},
   "outputs": [],
   "source": [
    "with open('cda.txt',\"w\") as f:\n",
    "    f.write(\"how is it going\")"
   ]
  },
  {
   "cell_type": "code",
   "execution_count": null,
   "id": "6f4e8717",
   "metadata": {},
   "outputs": [],
   "source": [
    "with open(\"cda.txt\") as f:\n",
    "    pri"
   ]
  }
 ],
 "metadata": {
  "kernelspec": {
   "display_name": "Python 3 (ipykernel)",
   "language": "python",
   "name": "python3"
  },
  "language_info": {
   "codemirror_mode": {
    "name": "ipython",
    "version": 3
   },
   "file_extension": ".py",
   "mimetype": "text/x-python",
   "name": "python",
   "nbconvert_exporter": "python",
   "pygments_lexer": "ipython3",
   "version": "3.9.7"
  }
 },
 "nbformat": 4,
 "nbformat_minor": 5
}
