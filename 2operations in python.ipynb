{
 "cells": [
  {
   "cell_type": "code",
   "execution_count": 1,
   "id": "a3baad04",
   "metadata": {},
   "outputs": [],
   "source": [
    "a=10\n",
    "b=20"
   ]
  },
  {
   "cell_type": "code",
   "execution_count": 2,
   "id": "51ac7b4a",
   "metadata": {},
   "outputs": [
    {
     "data": {
      "text/plain": [
       "30"
      ]
     },
     "execution_count": 2,
     "metadata": {},
     "output_type": "execute_result"
    }
   ],
   "source": [
    "a+b"
   ]
  },
  {
   "cell_type": "code",
   "execution_count": 3,
   "id": "e031d707",
   "metadata": {},
   "outputs": [
    {
     "data": {
      "text/plain": [
       "300"
      ]
     },
     "execution_count": 3,
     "metadata": {},
     "output_type": "execute_result"
    }
   ],
   "source": [
    "100+200"
   ]
  },
  {
   "cell_type": "code",
   "execution_count": 4,
   "id": "126d274a",
   "metadata": {},
   "outputs": [
    {
     "data": {
      "text/plain": [
       "-10"
      ]
     },
     "execution_count": 4,
     "metadata": {},
     "output_type": "execute_result"
    }
   ],
   "source": [
    "a-b"
   ]
  },
  {
   "cell_type": "code",
   "execution_count": 5,
   "id": "ffe38e87",
   "metadata": {},
   "outputs": [
    {
     "data": {
      "text/plain": [
       "200"
      ]
     },
     "execution_count": 5,
     "metadata": {},
     "output_type": "execute_result"
    }
   ],
   "source": [
    "a*b"
   ]
  },
  {
   "cell_type": "code",
   "execution_count": 6,
   "id": "d399cbce",
   "metadata": {},
   "outputs": [
    {
     "data": {
      "text/plain": [
       "0.5"
      ]
     },
     "execution_count": 6,
     "metadata": {},
     "output_type": "execute_result"
    }
   ],
   "source": [
    "a/b"
   ]
  },
  {
   "cell_type": "code",
   "execution_count": 1,
   "id": "7d10ac23",
   "metadata": {},
   "outputs": [],
   "source": [
    "#exponential power"
   ]
  },
  {
   "cell_type": "code",
   "execution_count": 8,
   "id": "c2d44af2",
   "metadata": {},
   "outputs": [
    {
     "data": {
      "text/plain": [
       "100"
      ]
     },
     "execution_count": 8,
     "metadata": {},
     "output_type": "execute_result"
    }
   ],
   "source": [
    "a**2"
   ]
  },
  {
   "cell_type": "code",
   "execution_count": 10,
   "id": "14da8764",
   "metadata": {},
   "outputs": [
    {
     "data": {
      "text/plain": [
       "2.5"
      ]
     },
     "execution_count": 10,
     "metadata": {},
     "output_type": "execute_result"
    }
   ],
   "source": [
    "5/2"
   ]
  },
  {
   "cell_type": "code",
   "execution_count": 12,
   "id": "665064d7",
   "metadata": {},
   "outputs": [
    {
     "data": {
      "text/plain": [
       "2"
      ]
     },
     "execution_count": 12,
     "metadata": {},
     "output_type": "execute_result"
    }
   ],
   "source": [
    "5//2 #float division"
   ]
  },
  {
   "cell_type": "code",
   "execution_count": 14,
   "id": "2c03bb68",
   "metadata": {},
   "outputs": [
    {
     "data": {
      "text/plain": [
       "1"
      ]
     },
     "execution_count": 14,
     "metadata": {},
     "output_type": "execute_result"
    }
   ],
   "source": [
    "#modulo operation\n",
    "5%2"
   ]
  },
  {
   "cell_type": "code",
   "execution_count": 15,
   "id": "8b7a6a5a",
   "metadata": {},
   "outputs": [],
   "source": [
    "a=34\n",
    "b=45\n",
    "c=23\n",
    "d=53"
   ]
  },
  {
   "cell_type": "code",
   "execution_count": 16,
   "id": "71c37a93",
   "metadata": {},
   "outputs": [
    {
     "data": {
      "text/plain": [
       "155"
      ]
     },
     "execution_count": 16,
     "metadata": {},
     "output_type": "execute_result"
    }
   ],
   "source": [
    "a+b+c+d"
   ]
  },
  {
   "cell_type": "code",
   "execution_count": 18,
   "id": "f968cf16",
   "metadata": {},
   "outputs": [
    {
     "data": {
      "text/plain": [
       "38.75"
      ]
     },
     "execution_count": 18,
     "metadata": {},
     "output_type": "execute_result"
    }
   ],
   "source": [
    "155/4"
   ]
  },
  {
   "cell_type": "code",
   "execution_count": 19,
   "id": "00a50cc5",
   "metadata": {},
   "outputs": [
    {
     "data": {
      "text/plain": [
       "3"
      ]
     },
     "execution_count": 19,
     "metadata": {},
     "output_type": "execute_result"
    }
   ],
   "source": [
    "155%4"
   ]
  },
  {
   "cell_type": "code",
   "execution_count": 20,
   "id": "e5b89bf6",
   "metadata": {},
   "outputs": [
    {
     "data": {
      "text/plain": [
       "38"
      ]
     },
     "execution_count": 20,
     "metadata": {},
     "output_type": "execute_result"
    }
   ],
   "source": [
    "155//4"
   ]
  },
  {
   "cell_type": "code",
   "execution_count": 22,
   "id": "8b650f71",
   "metadata": {},
   "outputs": [
    {
     "data": {
      "text/plain": [
       "2"
      ]
     },
     "execution_count": 22,
     "metadata": {},
     "output_type": "execute_result"
    }
   ],
   "source": [
    "8-3*2-1+1"
   ]
  },
  {
   "cell_type": "code",
   "execution_count": 28,
   "id": "e43070ae",
   "metadata": {},
   "outputs": [
    {
     "data": {
      "text/plain": [
       "0"
      ]
     },
     "execution_count": 28,
     "metadata": {},
     "output_type": "execute_result"
    }
   ],
   "source": [
    "8-3*2-(1+1)"
   ]
  },
  {
   "cell_type": "code",
   "execution_count": 29,
   "id": "3c3c8bac",
   "metadata": {},
   "outputs": [],
   "source": [
    "a=12\n",
    "b=21"
   ]
  },
  {
   "cell_type": "code",
   "execution_count": 30,
   "id": "c87cb59a",
   "metadata": {},
   "outputs": [
    {
     "data": {
      "text/plain": [
       "False"
      ]
     },
     "execution_count": 30,
     "metadata": {},
     "output_type": "execute_result"
    }
   ],
   "source": [
    "a>b"
   ]
  },
  {
   "cell_type": "code",
   "execution_count": 31,
   "id": "d71599f0",
   "metadata": {},
   "outputs": [
    {
     "data": {
      "text/plain": [
       "True"
      ]
     },
     "execution_count": 31,
     "metadata": {},
     "output_type": "execute_result"
    }
   ],
   "source": [
    "b>a"
   ]
  },
  {
   "cell_type": "code",
   "execution_count": 32,
   "id": "3696b566",
   "metadata": {},
   "outputs": [
    {
     "data": {
      "text/plain": [
       "False"
      ]
     },
     "execution_count": 32,
     "metadata": {},
     "output_type": "execute_result"
    }
   ],
   "source": [
    "a>=b #a>b a==b"
   ]
  },
  {
   "cell_type": "code",
   "execution_count": 33,
   "id": "47c9158b",
   "metadata": {},
   "outputs": [
    {
     "data": {
      "text/plain": [
       "True"
      ]
     },
     "execution_count": 33,
     "metadata": {},
     "output_type": "execute_result"
    }
   ],
   "source": [
    "a<=b #a<b a==b"
   ]
  },
  {
   "cell_type": "code",
   "execution_count": 34,
   "id": "e1e398f6",
   "metadata": {},
   "outputs": [
    {
     "data": {
      "text/plain": [
       "False"
      ]
     },
     "execution_count": 34,
     "metadata": {},
     "output_type": "execute_result"
    }
   ],
   "source": [
    "a==b"
   ]
  },
  {
   "cell_type": "code",
   "execution_count": 35,
   "id": "72cc7bb3",
   "metadata": {},
   "outputs": [
    {
     "data": {
      "text/plain": [
       "True"
      ]
     },
     "execution_count": 35,
     "metadata": {},
     "output_type": "execute_result"
    }
   ],
   "source": [
    "a!=b"
   ]
  },
  {
   "cell_type": "code",
   "execution_count": 36,
   "id": "520c40c5",
   "metadata": {},
   "outputs": [
    {
     "data": {
      "text/plain": [
       "True"
      ]
     },
     "execution_count": 36,
     "metadata": {},
     "output_type": "execute_result"
    }
   ],
   "source": [
    "c=4\n",
    "d=4\n",
    "c==d"
   ]
  },
  {
   "cell_type": "code",
   "execution_count": 37,
   "id": "6ebb1347",
   "metadata": {},
   "outputs": [],
   "source": [
    "a=\"rainy\"\n",
    "b=\"sunny\""
   ]
  },
  {
   "cell_type": "code",
   "execution_count": 38,
   "id": "d0e4e2c5",
   "metadata": {},
   "outputs": [
    {
     "data": {
      "text/plain": [
       "False"
      ]
     },
     "execution_count": 38,
     "metadata": {},
     "output_type": "execute_result"
    }
   ],
   "source": [
    "a==b"
   ]
  },
  {
   "cell_type": "code",
   "execution_count": 39,
   "id": "f5b6fab4",
   "metadata": {},
   "outputs": [
    {
     "data": {
      "text/plain": [
       "False"
      ]
     },
     "execution_count": 39,
     "metadata": {},
     "output_type": "execute_result"
    }
   ],
   "source": [
    "w=\"cold\"\n",
    "w==\"rainy\""
   ]
  },
  {
   "cell_type": "code",
   "execution_count": 40,
   "id": "1e33059c",
   "metadata": {},
   "outputs": [],
   "source": [
    "#assignment operation"
   ]
  },
  {
   "cell_type": "code",
   "execution_count": 43,
   "id": "2d2207f1",
   "metadata": {},
   "outputs": [
    {
     "ename": "TypeError",
     "evalue": "can only concatenate str (not \"int\") to str",
     "output_type": "error",
     "traceback": [
      "\u001b[1;31m---------------------------------------------------------------------------\u001b[0m",
      "\u001b[1;31mTypeError\u001b[0m                                 Traceback (most recent call last)",
      "\u001b[1;32m~\\AppData\\Local\\Temp/ipykernel_10664/619302330.py\u001b[0m in \u001b[0;36m<module>\u001b[1;34m\u001b[0m\n\u001b[1;32m----> 1\u001b[1;33m \u001b[0ma\u001b[0m\u001b[1;33m=\u001b[0m \u001b[0ma\u001b[0m\u001b[1;33m+\u001b[0m\u001b[1;36m10\u001b[0m\u001b[1;33m\u001b[0m\u001b[1;33m\u001b[0m\u001b[0m\n\u001b[0m\u001b[0;32m      2\u001b[0m \u001b[0ma\u001b[0m\u001b[1;33m\u001b[0m\u001b[1;33m\u001b[0m\u001b[0m\n",
      "\u001b[1;31mTypeError\u001b[0m: can only concatenate str (not \"int\") to str"
     ]
    }
   ],
   "source": [
    "a= a+10\n",
    "a"
   ]
  },
  {
   "cell_type": "code",
   "execution_count": 44,
   "id": "f10a6e11",
   "metadata": {},
   "outputs": [
    {
     "ename": "TypeError",
     "evalue": "can only concatenate str (not \"int\") to str",
     "output_type": "error",
     "traceback": [
      "\u001b[1;31m---------------------------------------------------------------------------\u001b[0m",
      "\u001b[1;31mTypeError\u001b[0m                                 Traceback (most recent call last)",
      "\u001b[1;32m~\\AppData\\Local\\Temp/ipykernel_10664/2879981625.py\u001b[0m in \u001b[0;36m<module>\u001b[1;34m\u001b[0m\n\u001b[1;32m----> 1\u001b[1;33m \u001b[0ma\u001b[0m\u001b[1;33m+=\u001b[0m\u001b[1;36m10\u001b[0m\u001b[1;33m\u001b[0m\u001b[1;33m\u001b[0m\u001b[0m\n\u001b[0m\u001b[0;32m      2\u001b[0m \u001b[0ma\u001b[0m\u001b[1;33m\u001b[0m\u001b[1;33m\u001b[0m\u001b[0m\n",
      "\u001b[1;31mTypeError\u001b[0m: can only concatenate str (not \"int\") to str"
     ]
    }
   ],
   "source": [
    "a+=10\n",
    "a"
   ]
  },
  {
   "cell_type": "code",
   "execution_count": 45,
   "id": "98cafacf",
   "metadata": {},
   "outputs": [],
   "source": [
    "a=10"
   ]
  },
  {
   "cell_type": "code",
   "execution_count": 46,
   "id": "2f1892dd",
   "metadata": {},
   "outputs": [],
   "source": [
    "a=a+10"
   ]
  },
  {
   "cell_type": "code",
   "execution_count": 47,
   "id": "845360ef",
   "metadata": {},
   "outputs": [
    {
     "data": {
      "text/plain": [
       "20"
      ]
     },
     "execution_count": 47,
     "metadata": {},
     "output_type": "execute_result"
    }
   ],
   "source": [
    "a"
   ]
  },
  {
   "cell_type": "code",
   "execution_count": 48,
   "id": "b73195d2",
   "metadata": {},
   "outputs": [],
   "source": [
    "a+=10"
   ]
  },
  {
   "cell_type": "code",
   "execution_count": 49,
   "id": "129d67a7",
   "metadata": {},
   "outputs": [
    {
     "data": {
      "text/plain": [
       "30"
      ]
     },
     "execution_count": 49,
     "metadata": {},
     "output_type": "execute_result"
    }
   ],
   "source": [
    "a"
   ]
  },
  {
   "cell_type": "code",
   "execution_count": 50,
   "id": "1f24374e",
   "metadata": {},
   "outputs": [],
   "source": [
    "a*=3"
   ]
  },
  {
   "cell_type": "code",
   "execution_count": 51,
   "id": "32bac595",
   "metadata": {},
   "outputs": [
    {
     "data": {
      "text/plain": [
       "90"
      ]
     },
     "execution_count": 51,
     "metadata": {},
     "output_type": "execute_result"
    }
   ],
   "source": [
    "a"
   ]
  },
  {
   "cell_type": "code",
   "execution_count": 52,
   "id": "481abd07",
   "metadata": {},
   "outputs": [
    {
     "data": {
      "text/plain": [
       "270"
      ]
     },
     "execution_count": 52,
     "metadata": {},
     "output_type": "execute_result"
    }
   ],
   "source": [
    "a=a*3\n",
    "a"
   ]
  },
  {
   "cell_type": "code",
   "execution_count": 53,
   "id": "67ddfa3b",
   "metadata": {},
   "outputs": [
    {
     "data": {
      "text/plain": [
       "220"
      ]
     },
     "execution_count": 53,
     "metadata": {},
     "output_type": "execute_result"
    }
   ],
   "source": [
    "a-=50\n",
    "a"
   ]
  },
  {
   "cell_type": "code",
   "execution_count": 54,
   "id": "85880d6e",
   "metadata": {},
   "outputs": [],
   "source": [
    "#l0gical operation"
   ]
  },
  {
   "cell_type": "code",
   "execution_count": 64,
   "id": "48ad4928",
   "metadata": {},
   "outputs": [
    {
     "data": {
      "text/plain": [
       "False"
      ]
     },
     "execution_count": 64,
     "metadata": {},
     "output_type": "execute_result"
    }
   ],
   "source": [
    "b=30\n",
    "a>b and a==b"
   ]
  },
  {
   "cell_type": "code",
   "execution_count": 57,
   "id": "1555176b",
   "metadata": {},
   "outputs": [
    {
     "data": {
      "text/plain": [
       "True"
      ]
     },
     "execution_count": 57,
     "metadata": {},
     "output_type": "execute_result"
    }
   ],
   "source": [
    "a>b or a==b"
   ]
  },
  {
   "cell_type": "code",
   "execution_count": 60,
   "id": "75bc5b6a",
   "metadata": {},
   "outputs": [
    {
     "data": {
      "text/plain": [
       "False"
      ]
     },
     "execution_count": 60,
     "metadata": {},
     "output_type": "execute_result"
    }
   ],
   "source": [
    "not a>b"
   ]
  },
  {
   "cell_type": "code",
   "execution_count": 61,
   "id": "f5e8e6ff",
   "metadata": {},
   "outputs": [],
   "source": [
    "#identity operation"
   ]
  },
  {
   "cell_type": "code",
   "execution_count": 62,
   "id": "c25dc9f4",
   "metadata": {},
   "outputs": [
    {
     "data": {
      "text/plain": [
       "220"
      ]
     },
     "execution_count": 62,
     "metadata": {},
     "output_type": "execute_result"
    }
   ],
   "source": [
    "a"
   ]
  },
  {
   "cell_type": "code",
   "execution_count": 65,
   "id": "59667164",
   "metadata": {},
   "outputs": [
    {
     "data": {
      "text/plain": [
       "30"
      ]
     },
     "execution_count": 65,
     "metadata": {},
     "output_type": "execute_result"
    }
   ],
   "source": [
    "b"
   ]
  },
  {
   "cell_type": "code",
   "execution_count": 66,
   "id": "75e4c7b0",
   "metadata": {},
   "outputs": [
    {
     "data": {
      "text/plain": [
       "1910379341072"
      ]
     },
     "execution_count": 66,
     "metadata": {},
     "output_type": "execute_result"
    }
   ],
   "source": [
    "id(a)"
   ]
  },
  {
   "cell_type": "code",
   "execution_count": 67,
   "id": "0d5e88e7",
   "metadata": {},
   "outputs": [
    {
     "data": {
      "text/plain": [
       "1910379146448"
      ]
     },
     "execution_count": 67,
     "metadata": {},
     "output_type": "execute_result"
    }
   ],
   "source": [
    "id(b)"
   ]
  },
  {
   "cell_type": "code",
   "execution_count": 68,
   "id": "214a4d02",
   "metadata": {},
   "outputs": [
    {
     "data": {
      "text/plain": [
       "True"
      ]
     },
     "execution_count": 68,
     "metadata": {},
     "output_type": "execute_result"
    }
   ],
   "source": [
    "a is not b"
   ]
  },
  {
   "cell_type": "code",
   "execution_count": 69,
   "id": "d1e74475",
   "metadata": {},
   "outputs": [
    {
     "name": "stdout",
     "output_type": "stream",
     "text": [
      "Help on built-in function id in module builtins:\n",
      "\n",
      "id(obj, /)\n",
      "    Return the identity of an object.\n",
      "    \n",
      "    This is guaranteed to be unique among simultaneously existing objects.\n",
      "    (CPython uses the object's memory address.)\n",
      "\n"
     ]
    }
   ],
   "source": [
    "help(id)"
   ]
  },
  {
   "cell_type": "code",
   "execution_count": 70,
   "id": "90a0f7f3",
   "metadata": {},
   "outputs": [],
   "source": [
    "#membership :"
   ]
  },
  {
   "cell_type": "code",
   "execution_count": 71,
   "id": "68ca7350",
   "metadata": {},
   "outputs": [
    {
     "data": {
      "text/plain": [
       "True"
      ]
     },
     "execution_count": 71,
     "metadata": {},
     "output_type": "execute_result"
    }
   ],
   "source": [
    "\"a\" in \"aman\""
   ]
  },
  {
   "cell_type": "code",
   "execution_count": 72,
   "id": "be4d8e90",
   "metadata": {},
   "outputs": [
    {
     "data": {
      "text/plain": [
       "True"
      ]
     },
     "execution_count": 72,
     "metadata": {},
     "output_type": "execute_result"
    }
   ],
   "source": [
    "10 in [12,34,5657,10]"
   ]
  },
  {
   "cell_type": "code",
   "execution_count": 73,
   "id": "7daa3708",
   "metadata": {},
   "outputs": [
    {
     "data": {
      "text/plain": [
       "False"
      ]
     },
     "execution_count": 73,
     "metadata": {},
     "output_type": "execute_result"
    }
   ],
   "source": [
    "10 in [12,34,56]"
   ]
  },
  {
   "cell_type": "code",
   "execution_count": 74,
   "id": "ac7386ce",
   "metadata": {},
   "outputs": [
    {
     "data": {
      "text/plain": [
       "True"
      ]
     },
     "execution_count": 74,
     "metadata": {},
     "output_type": "execute_result"
    }
   ],
   "source": [
    "10 not in [12,34,56]"
   ]
  },
  {
   "cell_type": "code",
   "execution_count": 82,
   "id": "db724978",
   "metadata": {},
   "outputs": [
    {
     "ename": "SyntaxError",
     "evalue": "invalid syntax (Temp/ipykernel_10664/315437074.py, line 3)",
     "output_type": "error",
     "traceback": [
      "\u001b[1;36m  File \u001b[1;32m\"C:\\Users\\dell\\AppData\\Local\\Temp/ipykernel_10664/315437074.py\"\u001b[1;36m, line \u001b[1;32m3\u001b[0m\n\u001b[1;33m    & - and\u001b[0m\n\u001b[1;37m    ^\u001b[0m\n\u001b[1;31mSyntaxError\u001b[0m\u001b[1;31m:\u001b[0m invalid syntax\n"
     ]
    }
   ],
   "source": [
    "##bitwise operation\n",
    "\n",
    "& - and\n",
    "| - or\n",
    "~ - not"
   ]
  },
  {
   "cell_type": "code",
   "execution_count": 78,
   "id": "1e9008ab",
   "metadata": {},
   "outputs": [
    {
     "data": {
      "text/plain": [
       "0"
      ]
     },
     "execution_count": 78,
     "metadata": {},
     "output_type": "execute_result"
    }
   ],
   "source": [
    "0&1"
   ]
  },
  {
   "cell_type": "code",
   "execution_count": 79,
   "id": "d017057a",
   "metadata": {},
   "outputs": [
    {
     "data": {
      "text/plain": [
       "1"
      ]
     },
     "execution_count": 79,
     "metadata": {},
     "output_type": "execute_result"
    }
   ],
   "source": [
    "0|1"
   ]
  },
  {
   "cell_type": "code",
   "execution_count": 80,
   "id": "2c22afa1",
   "metadata": {},
   "outputs": [
    {
     "data": {
      "text/plain": [
       "-1"
      ]
     },
     "execution_count": 80,
     "metadata": {},
     "output_type": "execute_result"
    }
   ],
   "source": [
    "~0"
   ]
  },
  {
   "cell_type": "code",
   "execution_count": 81,
   "id": "3e8b46b7",
   "metadata": {},
   "outputs": [
    {
     "data": {
      "text/plain": [
       "-11"
      ]
     },
     "execution_count": 81,
     "metadata": {},
     "output_type": "execute_result"
    }
   ],
   "source": [
    "~10"
   ]
  },
  {
   "cell_type": "code",
   "execution_count": 85,
   "id": "ff2618f6",
   "metadata": {},
   "outputs": [
    {
     "name": "stdout",
     "output_type": "stream",
     "text": [
      "Enter the value55\n"
     ]
    }
   ],
   "source": [
    "a=int(input(\"Enter the value\"))"
   ]
  },
  {
   "cell_type": "code",
   "execution_count": 86,
   "id": "741e87bb",
   "metadata": {},
   "outputs": [
    {
     "data": {
      "text/plain": [
       "55"
      ]
     },
     "execution_count": 86,
     "metadata": {},
     "output_type": "execute_result"
    }
   ],
   "source": [
    "a"
   ]
  },
  {
   "cell_type": "code",
   "execution_count": 87,
   "id": "ad0a91a8",
   "metadata": {},
   "outputs": [
    {
     "name": "stdout",
     "output_type": "stream",
     "text": [
      "Enter the weight 23.6\n"
     ]
    }
   ],
   "source": [
    "c=float(input(\"Enter the weight \"))"
   ]
  },
  {
   "cell_type": "code",
   "execution_count": 88,
   "id": "bc5511d4",
   "metadata": {},
   "outputs": [
    {
     "data": {
      "text/plain": [
       "23.6"
      ]
     },
     "execution_count": 88,
     "metadata": {},
     "output_type": "execute_result"
    }
   ],
   "source": [
    "c"
   ]
  },
  {
   "cell_type": "code",
   "execution_count": 89,
   "id": "25687901",
   "metadata": {},
   "outputs": [
    {
     "ename": "SyntaxError",
     "evalue": "invalid syntax (Temp/ipykernel_10664/3061378721.py, line 1)",
     "output_type": "error",
     "traceback": [
      "\u001b[1;36m  File \u001b[1;32m\"C:\\Users\\dell\\AppData\\Local\\Temp/ipykernel_10664/3061378721.py\"\u001b[1;36m, line \u001b[1;32m1\u001b[0m\n\u001b[1;33m    WAP to compute BMI given we have to take input from the user regarding his weight and height,\u001b[0m\n\u001b[1;37m        ^\u001b[0m\n\u001b[1;31mSyntaxError\u001b[0m\u001b[1;31m:\u001b[0m invalid syntax\n"
     ]
    }
   ],
   "source": [
    "WAP to compute BMI given we have to take input from the user regarding his weight and height,\n",
    "BMI=w/h**2 height should be in metres"
   ]
  },
  {
   "cell_type": "code",
   "execution_count": 91,
   "id": "69fa2be4",
   "metadata": {},
   "outputs": [
    {
     "data": {
      "text/plain": [
       "1.8418314255983348"
      ]
     },
     "execution_count": 91,
     "metadata": {},
     "output_type": "execute_result"
    }
   ],
   "source": [
    "w=70.8\n",
    "h=6.2\n",
    "w/h**2"
   ]
  },
  {
   "cell_type": "code",
   "execution_count": 1,
   "id": "d3264222",
   "metadata": {},
   "outputs": [
    {
     "name": "stdout",
     "output_type": "stream",
     "text": [
      "Enter the weight 14.5\n",
      "Enter the height 23.6\n"
     ]
    },
    {
     "data": {
      "text/plain": [
       "0.026"
      ]
     },
     "execution_count": 1,
     "metadata": {},
     "output_type": "execute_result"
    }
   ],
   "source": [
    "w=float(input(\"Enter the weight \"))\n",
    "h=float(input(\"Enter the height \"))\n",
    "BMI=w/h**2\n",
    "round(BMI,3)"
   ]
  },
  {
   "cell_type": "code",
   "execution_count": null,
   "id": "c19e305e",
   "metadata": {},
   "outputs": [],
   "source": [
    "WAP to compute the area of triangle , u have to take input from the user regarding base and height\n",
    "ar=1/2*base*height"
   ]
  },
  {
   "cell_type": "code",
   "execution_count": 8,
   "id": "d3927962",
   "metadata": {},
   "outputs": [
    {
     "name": "stdout",
     "output_type": "stream",
     "text": [
      "enter the base:12\n",
      "enter the height:14\n"
     ]
    },
    {
     "data": {
      "text/plain": [
       "84.0"
      ]
     },
     "execution_count": 8,
     "metadata": {},
     "output_type": "execute_result"
    }
   ],
   "source": [
    "b=int(input(\"enter the base:\"))\n",
    "h=int(input(\"enter the height:\")\n",
    "ar=1/2*b*h\n",
    "ar"
   ]
  },
  {
   "cell_type": "code",
   "execution_count": 2,
   "id": "f76da1f9",
   "metadata": {},
   "outputs": [
    {
     "name": "stdout",
     "output_type": "stream",
     "text": [
      "Enter the base 5\n",
      "enter the height 8\n"
     ]
    },
    {
     "data": {
      "text/plain": [
       "20.0"
      ]
     },
     "execution_count": 2,
     "metadata": {},
     "output_type": "execute_result"
    }
   ],
   "source": [
    "base=int(input(\"Enter the base \"))\n",
    "height=int(input(\"enter the height \"))\n",
    "ar=1/2*base*height\n",
    "ar"
   ]
  },
  {
   "cell_type": "code",
   "execution_count": null,
   "id": "a3e88acc",
   "metadata": {},
   "outputs": [],
   "source": [
    "ar"
   ]
  },
  {
   "cell_type": "code",
   "execution_count": null,
   "id": "c46e4c0f",
   "metadata": {},
   "outputs": [],
   "source": [
    "#computing area of circle"
   ]
  },
  {
   "cell_type": "code",
   "execution_count": 98,
   "id": "ec6ca1f8",
   "metadata": {},
   "outputs": [
    {
     "data": {
      "text/plain": [
       "31.400000000000002"
      ]
     },
     "execution_count": 98,
     "metadata": {},
     "output_type": "execute_result"
    }
   ],
   "source": [
    "v=5 #radius\n",
    "d=3.14 #pie\n",
    "f1=d*v*2\n",
    "f1"
   ]
  },
  {
   "cell_type": "code",
   "execution_count": 101,
   "id": "98fbbb5c",
   "metadata": {},
   "outputs": [],
   "source": [
    "# conditions:\n"
   ]
  },
  {
   "cell_type": "code",
   "execution_count": 100,
   "id": "a58c1158",
   "metadata": {},
   "outputs": [
    {
     "ename": "SyntaxError",
     "evalue": "invalid syntax (Temp/ipykernel_10664/39361665.py, line 1)",
     "output_type": "error",
     "traceback": [
      "\u001b[1;36m  File \u001b[1;32m\"C:\\Users\\dell\\AppData\\Local\\Temp/ipykernel_10664/39361665.py\"\u001b[1;36m, line \u001b[1;32m1\u001b[0m\n\u001b[1;33m    if,else,elif\u001b[0m\n\u001b[1;37m      ^\u001b[0m\n\u001b[1;31mSyntaxError\u001b[0m\u001b[1;31m:\u001b[0m invalid syntax\n"
     ]
    }
   ],
   "source": [
    "if,else,elif"
   ]
  },
  {
   "cell_type": "code",
   "execution_count": 6,
   "id": "ec545f83",
   "metadata": {},
   "outputs": [
    {
     "ename": "SyntaxError",
     "evalue": "unmatched ')' (Temp/ipykernel_4692/3375262343.py, line 3)",
     "output_type": "error",
     "traceback": [
      "\u001b[1;36m  File \u001b[1;32m\"C:\\Users\\dell\\AppData\\Local\\Temp/ipykernel_4692/3375262343.py\"\u001b[1;36m, line \u001b[1;32m3\u001b[0m\n\u001b[1;33m    1)umbrella\u001b[0m\n\u001b[1;37m     ^\u001b[0m\n\u001b[1;31mSyntaxError\u001b[0m\u001b[1;31m:\u001b[0m unmatched ')'\n"
     ]
    }
   ],
   "source": [
    "# if it is raining outside, then what are we going to do\n",
    "print\n",
    "1)umbrella\n",
    "2)shelter\n",
    "3)stay here\n",
    "4)raincoat\n",
    "car\n",
    "etc\n"
   ]
  },
  {
   "cell_type": "code",
   "execution_count": null,
   "id": "1e568c59",
   "metadata": {},
   "outputs": [],
   "source": []
  },
  {
   "cell_type": "code",
   "execution_count": 4,
   "id": "07bada75",
   "metadata": {},
   "outputs": [
    {
     "name": "stdout",
     "output_type": "stream",
     "text": [
      "heads or tails:tails\n",
      "pak wins the toss\n",
      "Bat or Ballbat\n",
      "babar will open\n"
     ]
    }
   ],
   "source": [
    "toss=input(\"heads or tails:\")\n",
    "if toss==\"heads\":\n",
    "    print(\"India wins the toss\")\n",
    "    choice=input(\"Bat or Ball\")\n",
    "    if choice==\"bat\":\n",
    "        print(\"Rahul will open\")\n",
    "    else:\n",
    "            print(\"Bumrah will bowl\")\n",
    "else:\n",
    "                print(\"pak wins the toss\")\n",
    "                choice=input(\"Bat or Ball\")\n",
    "                if choice==\"bat\":\n",
    "                    print(\"babar will open\")\n",
    "                else:\n",
    "                    print(\"shaheen will bowl\")\n",
    "    "
   ]
  },
  {
   "cell_type": "code",
   "execution_count": 109,
   "id": "f27121c6",
   "metadata": {},
   "outputs": [],
   "source": [
    "#WAP to take two inputs from the user which is a,b and compare which is largest\n"
   ]
  },
  {
   "cell_type": "code",
   "execution_count": 112,
   "id": "9580742e",
   "metadata": {},
   "outputs": [
    {
     "name": "stdout",
     "output_type": "stream",
     "text": [
      "Enter the first no:12\n",
      "Enter the second no:32\n",
      "b is largest\n"
     ]
    }
   ],
   "source": [
    "a=int(input(\"Enter the first no:\"))\n",
    "b=int(input(\"Enter the second no:\"))\n",
    "if a>b:\n",
    "    print(\"a is largest\")\n",
    "elif a<b:\n",
    "    print(\"b is largest\")\n",
    "else:\n",
    "    print(\"equal\")\n"
   ]
  },
  {
   "cell_type": "code",
   "execution_count": 19,
   "id": "1ea00c8a",
   "metadata": {},
   "outputs": [
    {
     "name": "stdout",
     "output_type": "stream",
     "text": [
      "enter the first no:1\n",
      "enter the second no:2\n",
      "enter the third no:3\n",
      "a is smallest\n"
     ]
    }
   ],
   "source": [
    "a=int(input(\"enter the first no:\"))\n",
    "b=int(input(\"enter the second no:\"))\n",
    "c=int(input(\"enter the third no:\"))\n",
    "if a<b and a<c:\n",
    "    print(\"a is smallest\")\n",
    "elif b<a and b<c:\n",
    "    print(\"b is smallest\")\n",
    "elif c<a and c<a:\n",
    "    print(\"c is smallest\")\n",
    "elif a==b==c:\n",
    "    print(\"equal\")\n",
    "elif a==b and a<c:\n",
    "    print(\"a and b are smallest\")\n",
    "elif b==c and b<a:\n",
    "    print(\"b and c are smallest\")\n",
    "elif a==c and a<b:\n",
    "    print(\"a and c are smallest\")\n",
    "elif a==b and a>c:\n",
    "    print(\"c is smallest\")\n",
    "elif b==c and b>a:\n",
    "    print(\"a is smallest\")\n",
    "elif a==c and a>b:\n",
    "    print(\"b is smallest\")\n",
    "elif a<=b and b<c:\n",
    "    print(\"a and b are small\")\n",
    "\n"
   ]
  },
  {
   "cell_type": "code",
   "execution_count": 17,
   "id": "076fb484",
   "metadata": {},
   "outputs": [
    {
     "name": "stdout",
     "output_type": "stream",
     "text": [
      "enter the first no:1\n",
      "enter the second no:2\n",
      "enter the third no:1\n",
      "enter the 4th no:4\n",
      "undefined\n"
     ]
    }
   ],
   "source": [
    "a=int(input(\"enter the first no:\"))\n",
    "b=int(input(\"enter the second no:\"))\n",
    "c=int(input(\"enter the third no:\"))\n",
    "d=int(input(\"enter the 4th no:\"))\n",
    "if a<b and a<c and a<d:\n",
    "    print(\"a is small\")\n",
    "elif b<a and b<c and b<d:\n",
    "    print(\"b is small\")\n",
    "elif c<a and c<b and C<d:\n",
    "    print(\"c is small\")\n",
    "elif d<a and d<b and d<c:\n",
    "    print(\"d is small\")\n",
    "elif a==b==c and a<d:\n",
    "    print(\"a,b and c are small\")\n",
    "else:\n",
    "    print(\"undefined\")\n",
    "\n"
   ]
  },
  {
   "cell_type": "code",
   "execution_count": 9,
   "id": "c2d60e3c",
   "metadata": {},
   "outputs": [
    {
     "name": "stdout",
     "output_type": "stream",
     "text": [
      "Enter the marks:33\n",
      "fail\n"
     ]
    }
   ],
   "source": [
    "a=int(input(\"Enter the marks:\"))\n",
    "if a<=33:\n",
    "    print(\"fail\")\n",
    "elif a>33 and a<100:\n",
    "    print(\"pass\")"
   ]
  },
  {
   "cell_type": "code",
   "execution_count": 10,
   "id": "164a8ae5",
   "metadata": {},
   "outputs": [
    {
     "data": {
      "text/plain": [
       "3.3333333333333335"
      ]
     },
     "execution_count": 10,
     "metadata": {},
     "output_type": "execute_result"
    }
   ],
   "source": [
    "a=10\n",
    "b=3\n",
    "a/b"
   ]
  },
  {
   "cell_type": "code",
   "execution_count": 11,
   "id": "dc3f67c2",
   "metadata": {},
   "outputs": [
    {
     "data": {
      "text/plain": [
       "1"
      ]
     },
     "execution_count": 11,
     "metadata": {},
     "output_type": "execute_result"
    }
   ],
   "source": [
    "a%b"
   ]
  },
  {
   "cell_type": "code",
   "execution_count": 12,
   "id": "bdfcb485",
   "metadata": {},
   "outputs": [
    {
     "data": {
      "text/plain": [
       "3"
      ]
     },
     "execution_count": 12,
     "metadata": {},
     "output_type": "execute_result"
    }
   ],
   "source": [
    "a//b"
   ]
  },
  {
   "cell_type": "code",
   "execution_count": 13,
   "id": "e7296052",
   "metadata": {},
   "outputs": [
    {
     "data": {
      "text/plain": [
       "13"
      ]
     },
     "execution_count": 13,
     "metadata": {},
     "output_type": "execute_result"
    }
   ],
   "source": [
    "a+b"
   ]
  },
  {
   "cell_type": "code",
   "execution_count": null,
   "id": "8769d583",
   "metadata": {},
   "outputs": [],
   "source": []
  }
 ],
 "metadata": {
  "kernelspec": {
   "display_name": "Python 3 (ipykernel)",
   "language": "python",
   "name": "python3"
  },
  "language_info": {
   "codemirror_mode": {
    "name": "ipython",
    "version": 3
   },
   "file_extension": ".py",
   "mimetype": "text/x-python",
   "name": "python",
   "nbconvert_exporter": "python",
   "pygments_lexer": "ipython3",
   "version": "3.9.7"
  }
 },
 "nbformat": 4,
 "nbformat_minor": 5
}
