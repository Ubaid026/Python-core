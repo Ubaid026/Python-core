{
 "cells": [
  {
   "cell_type": "markdown",
   "id": "94c1b235",
   "metadata": {},
   "source": [
    "#  Exceptional handling :error handling\n",
    "#  type error\n",
    "#  name error"
   ]
  },
  {
   "cell_type": "code",
   "execution_count": null,
   "id": "260bf651",
   "metadata": {},
   "outputs": [],
   "source": [
    "1)try"
   ]
  },
  {
   "cell_type": "code",
   "execution_count": 1,
   "id": "72037bd7",
   "metadata": {},
   "outputs": [
    {
     "name": "stdout",
     "output_type": "stream",
     "text": [
      " i wil be excuted if the try is wrong\n",
      "35\n",
      "i will be excuted in both the given conditions\n",
      "the cat\n",
      " the dog\n",
      " they are friends\n",
      "\n"
     ]
    }
   ],
   "source": [
    "try:\n",
    "    with open(\"xyz.txt\",\"r\") as f:\n",
    "        print(f.write(\"gshdfsggssh\\n\"))\n",
    "except:\n",
    "    print(\" i wil be excuted if the try is wrong\")\n",
    "    with open(\"xyz.txt\",\"w\") as f:\n",
    "        print(f.write(\"the cat\\n the dog\\n they are friends\\n\"))\n",
    "else:\n",
    "    print(\"i will be excuted if the try is right\")\n",
    "finally:\n",
    "    print(\"i will be excuted in both the given conditions\")\n",
    "    with open(\"xyz.txt\",\"r\") as f:\n",
    "        print(f.read())"
   ]
  },
  {
   "cell_type": "code",
   "execution_count": 6,
   "id": "ff36be69",
   "metadata": {},
   "outputs": [
    {
     "name": "stdout",
     "output_type": "stream",
     "text": [
      "enter no:0\n",
      "enter no in except block:0\n",
      "no:8\n",
      "0.625 value of finally block\n",
      "0.625\n"
     ]
    }
   ],
   "source": [
    "try:\n",
    "    a=int(input(\"enter no:\"))\n",
    "    c=5/a\n",
    "except:\n",
    "    try:\n",
    "        a=int(input(\"enter no in except block:\"))\n",
    "        c=5/a\n",
    "        print(c)\n",
    "    except:\n",
    "        pass\n",
    "else:\n",
    "     print(c,\"try c value\")\n",
    "finally:\n",
    "    try:\n",
    "        a=int(input(\"no:\"))\n",
    "        c=5/a\n",
    "        print(c,\"value of finally block\")\n",
    "    except:\n",
    "        pass\n",
    "    else:\n",
    "        print(c)"
   ]
  },
  {
   "cell_type": "code",
   "execution_count": 8,
   "id": "7859deec",
   "metadata": {},
   "outputs": [
    {
     "name": "stdout",
     "output_type": "stream",
     "text": [
      "can only concatenate str (not \"int\") to str\n"
     ]
    }
   ],
   "source": [
    "try:\n",
    "    \"sda\"+67\n",
    "except Exception as e:\n",
    "    print(e)"
   ]
  },
  {
   "cell_type": "code",
   "execution_count": 9,
   "id": "cc18cb25",
   "metadata": {},
   "outputs": [
    {
     "name": "stdout",
     "output_type": "stream",
     "text": [
      "division by zero\n"
     ]
    }
   ],
   "source": [
    "try:\n",
    "    8/0\n",
    "except Exception as e:\n",
    "    print(e)"
   ]
  },
  {
   "cell_type": "code",
   "execution_count": 10,
   "id": "6d583b44",
   "metadata": {},
   "outputs": [
    {
     "name": "stdout",
     "output_type": "stream",
     "text": [
      "i will handle inputoutput error\n"
     ]
    }
   ],
   "source": [
    "try:\n",
    "    with open(\"xyz.txt\",\"r\") as f:\n",
    "        print(f.write(\"acstsf\\n\"))\n",
    "except IOError:\n",
    "    print(\"i will handle inputoutput error\")\n",
    "except ZeroDivisionError:\n",
    "    print(\"i will handle zero division error\")"
   ]
  },
  {
   "cell_type": "code",
   "execution_count": 17,
   "id": "1a85c90c",
   "metadata": {},
   "outputs": [
    {
     "name": "stdout",
     "output_type": "stream",
     "text": [
      "enter the ist digit:2\n",
      "enter the 2nd digit:0\n",
      "entering except block\n",
      "enter the ist digit:8\n",
      "enter the 2nd digit:0\n",
      "still the wrong input\n",
      "code executed completely\n",
      "enter the ist digit:8\n",
      "enter the 2nd digit:7\n",
      "1.1428571428571428\n",
      "the final result is:1.1428571428571428\n",
      "code executed completely\n"
     ]
    }
   ],
   "source": [
    "while True:\n",
    "    try:\n",
    "        s1=int(input(\"enter the ist digit:\"))\n",
    "        s2=int(input(\"enter the 2nd digit:\"))\n",
    "        s3=s1/s2\n",
    "        print(s3)\n",
    "    except:\n",
    "        print(\"entering except block\")\n",
    "        try:\n",
    "            s1=int(input(\"enter the ist digit:\"))\n",
    "            s2=int(input(\"enter the 2nd digit:\"))\n",
    "            s3=s1/s2\n",
    "        except:\n",
    "            print(\"still the wrong input\")\n",
    "        else:\n",
    "            print(s3)\n",
    "    else:\n",
    "        print(f\"the final result is:{s3}\")\n",
    "        break\n",
    "    finally:\n",
    "        print(f\"code executed completely\")\n",
    "            \n",
    "        \n",
    "    "
   ]
  },
  {
   "cell_type": "code",
   "execution_count": null,
   "id": "125793b5",
   "metadata": {},
   "outputs": [],
   "source": [
    "try:\n",
    "    a=int(input(\"Enter the no:\"))\n",
    "    c=5/a\n",
    "except:\n",
    "    try:\n",
    "        a=int(input(\"enter no:\"))\n",
    "        c=5/a\n",
    "        print(c)\n",
    "    except:\n",
    "        pass\n",
    "    else:\n",
    "        "
   ]
  }
 ],
 "metadata": {
  "kernelspec": {
   "display_name": "Python 3 (ipykernel)",
   "language": "python",
   "name": "python3"
  },
  "language_info": {
   "codemirror_mode": {
    "name": "ipython",
    "version": 3
   },
   "file_extension": ".py",
   "mimetype": "text/x-python",
   "name": "python",
   "nbconvert_exporter": "python",
   "pygments_lexer": "ipython3",
   "version": "3.9.7"
  }
 },
 "nbformat": 4,
 "nbformat_minor": 5
}
