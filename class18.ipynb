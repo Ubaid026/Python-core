{
 "cells": [
  {
   "cell_type": "markdown",
   "id": "2fbe31de",
   "metadata": {},
   "source": [
    "# dictionary:dict"
   ]
  },
  {
   "cell_type": "code",
   "execution_count": 1,
   "id": "33d2a439",
   "metadata": {},
   "outputs": [
    {
     "data": {
      "text/plain": [
       "{1: 'aman', 2: 34, 3: True}"
      ]
     },
     "execution_count": 1,
     "metadata": {},
     "output_type": "execute_result"
    }
   ],
   "source": [
    "d={1:\"aman\",2:34,3:True}\n",
    "d"
   ]
  },
  {
   "cell_type": "code",
   "execution_count": 2,
   "id": "6e9010db",
   "metadata": {},
   "outputs": [
    {
     "data": {
      "text/plain": [
       "dict"
      ]
     },
     "execution_count": 2,
     "metadata": {},
     "output_type": "execute_result"
    }
   ],
   "source": [
    "type(d)"
   ]
  },
  {
   "cell_type": "code",
   "execution_count": 4,
   "id": "7e5875bb",
   "metadata": {},
   "outputs": [
    {
     "data": {
      "text/plain": [
       "{1: 'singh', 2: 34, 3: True}"
      ]
     },
     "execution_count": 4,
     "metadata": {},
     "output_type": "execute_result"
    }
   ],
   "source": [
    "d[1]=\"singh\"\n",
    "d"
   ]
  },
  {
   "cell_type": "code",
   "execution_count": null,
   "id": "5f7c6dae",
   "metadata": {},
   "outputs": [],
   "source": [
    "#dictionary is mutable i:e, we can change values"
   ]
  },
  {
   "cell_type": "code",
   "execution_count": 5,
   "id": "988325cd",
   "metadata": {},
   "outputs": [
    {
     "data": {
      "text/plain": [
       "{1: 'singh', 2: 34, 3: True, 5: 54}"
      ]
     },
     "execution_count": 5,
     "metadata": {},
     "output_type": "execute_result"
    }
   ],
   "source": [
    "d[5]=54\n",
    "d"
   ]
  },
  {
   "cell_type": "code",
   "execution_count": 7,
   "id": "55a31b46",
   "metadata": {},
   "outputs": [
    {
     "data": {
      "text/plain": [
       "{23: [3, 4, 5], 45: (56, 78, 90, 'aman'), 'a': {1, 2, 3}}"
      ]
     },
     "execution_count": 7,
     "metadata": {},
     "output_type": "execute_result"
    }
   ],
   "source": [
    "d={23:[3,4,5],45:(56,78,90,\"aman\"),'a':{1,2,3}}\n",
    "d"
   ]
  },
  {
   "cell_type": "code",
   "execution_count": 9,
   "id": "d51690ae",
   "metadata": {},
   "outputs": [
    {
     "data": {
      "text/plain": [
       "'ma'"
      ]
     },
     "execution_count": 9,
     "metadata": {},
     "output_type": "execute_result"
    }
   ],
   "source": [
    "d[45][3][1:3]        slicing"
   ]
  },
  {
   "cell_type": "code",
   "execution_count": null,
   "id": "af4580ef",
   "metadata": {},
   "outputs": [],
   "source": [
    "nested dictionaries"
   ]
  },
  {
   "cell_type": "code",
   "execution_count": 13,
   "id": "dcd07b4a",
   "metadata": {},
   "outputs": [
    {
     "data": {
      "text/plain": [
       "'value'"
      ]
     },
     "execution_count": 13,
     "metadata": {},
     "output_type": "execute_result"
    }
   ],
   "source": [
    "d={\"key\":{\"nestedkey\":{\"subnestedkey\":\"value\"}}}\n",
    "d[\"key\"][\"nestedkey\"][\"subnestedkey\"]"
   ]
  },
  {
   "cell_type": "code",
   "execution_count": 12,
   "id": "6d6dc990",
   "metadata": {},
   "outputs": [
    {
     "data": {
      "text/plain": [
       "'vle'"
      ]
     },
     "execution_count": 12,
     "metadata": {},
     "output_type": "execute_result"
    }
   ],
   "source": [
    "d={\"key\":{\"nestedkey\":{\"subnestedkey\":\"value\"}}}\n",
    "d[\"key\"][\"nestedkey\"][\"subnestedkey\"][0:6:2]"
   ]
  },
  {
   "cell_type": "code",
   "execution_count": 14,
   "id": "b82f5fcc",
   "metadata": {},
   "outputs": [],
   "source": [
    "d={1:11,2:22,3:33}"
   ]
  },
  {
   "cell_type": "code",
   "execution_count": 27,
   "id": "d048664e",
   "metadata": {},
   "outputs": [
    {
     "data": {
      "text/plain": [
       "{4: 'aman', 5: 'aman', 6: 'aman'}"
      ]
     },
     "execution_count": 27,
     "metadata": {},
     "output_type": "execute_result"
    }
   ],
   "source": [
    "d.fromkeys([4,5,6],\"aman\")"
   ]
  },
  {
   "cell_type": "code",
   "execution_count": 30,
   "id": "30455544",
   "metadata": {},
   "outputs": [
    {
     "data": {
      "text/plain": [
       "{4: 'aman', 5: 'aman', 6: 'aman'}"
      ]
     },
     "execution_count": 30,
     "metadata": {},
     "output_type": "execute_result"
    }
   ],
   "source": [
    "d"
   ]
  },
  {
   "cell_type": "code",
   "execution_count": 31,
   "id": "642496f7",
   "metadata": {},
   "outputs": [
    {
     "data": {
      "text/plain": [
       "'aman'"
      ]
     },
     "execution_count": 31,
     "metadata": {},
     "output_type": "execute_result"
    }
   ],
   "source": [
    "d.get(4)"
   ]
  },
  {
   "cell_type": "code",
   "execution_count": 32,
   "id": "768ae684",
   "metadata": {},
   "outputs": [
    {
     "data": {
      "text/plain": [
       "dict_keys([4, 5, 6])"
      ]
     },
     "execution_count": 32,
     "metadata": {},
     "output_type": "execute_result"
    }
   ],
   "source": [
    "d.keys()"
   ]
  },
  {
   "cell_type": "code",
   "execution_count": 33,
   "id": "812e744a",
   "metadata": {},
   "outputs": [
    {
     "data": {
      "text/plain": [
       "dict_values(['aman', 'aman', 'aman'])"
      ]
     },
     "execution_count": 33,
     "metadata": {},
     "output_type": "execute_result"
    }
   ],
   "source": [
    "d.values()"
   ]
  },
  {
   "cell_type": "code",
   "execution_count": 34,
   "id": "0b688c0e",
   "metadata": {},
   "outputs": [
    {
     "data": {
      "text/plain": [
       "dict_items([(4, 'aman'), (5, 'aman'), (6, 'aman')])"
      ]
     },
     "execution_count": 34,
     "metadata": {},
     "output_type": "execute_result"
    }
   ],
   "source": [
    "d.items()"
   ]
  },
  {
   "cell_type": "code",
   "execution_count": 35,
   "id": "b549f629",
   "metadata": {},
   "outputs": [
    {
     "data": {
      "text/plain": [
       "'aman'"
      ]
     },
     "execution_count": 35,
     "metadata": {},
     "output_type": "execute_result"
    }
   ],
   "source": [
    "d.pop(6)"
   ]
  },
  {
   "cell_type": "code",
   "execution_count": 36,
   "id": "6de423fb",
   "metadata": {},
   "outputs": [
    {
     "data": {
      "text/plain": [
       "{4: 'aman', 5: 'aman'}"
      ]
     },
     "execution_count": 36,
     "metadata": {},
     "output_type": "execute_result"
    }
   ],
   "source": [
    "d"
   ]
  },
  {
   "cell_type": "code",
   "execution_count": 37,
   "id": "e727bf4f",
   "metadata": {},
   "outputs": [
    {
     "data": {
      "text/plain": [
       "(5, 'aman')"
      ]
     },
     "execution_count": 37,
     "metadata": {},
     "output_type": "execute_result"
    }
   ],
   "source": [
    "d.popitem()"
   ]
  },
  {
   "cell_type": "code",
   "execution_count": 38,
   "id": "26c74152",
   "metadata": {},
   "outputs": [
    {
     "data": {
      "text/plain": [
       "(4, 'aman')"
      ]
     },
     "execution_count": 38,
     "metadata": {},
     "output_type": "execute_result"
    }
   ],
   "source": [
    "d.popitem()"
   ]
  },
  {
   "cell_type": "code",
   "execution_count": 39,
   "id": "719a5601",
   "metadata": {},
   "outputs": [
    {
     "data": {
      "text/plain": [
       "{}"
      ]
     },
     "execution_count": 39,
     "metadata": {},
     "output_type": "execute_result"
    }
   ],
   "source": [
    "d"
   ]
  },
  {
   "cell_type": "code",
   "execution_count": 40,
   "id": "c224b9b5",
   "metadata": {},
   "outputs": [
    {
     "data": {
      "text/plain": [
       "{1: 'aman', 2: 'singh', 'wer': 23}"
      ]
     },
     "execution_count": 40,
     "metadata": {},
     "output_type": "execute_result"
    }
   ],
   "source": [
    "d[1]=\"aman\"\n",
    "d[2]=\"singh\"\n",
    "d[\"wer\"]=23\n",
    "d"
   ]
  },
  {
   "cell_type": "code",
   "execution_count": 41,
   "id": "cd8c8548",
   "metadata": {},
   "outputs": [
    {
     "data": {
      "text/plain": [
       "{1: 'raj', 2: 'singh', 'wer': 23}"
      ]
     },
     "execution_count": 41,
     "metadata": {},
     "output_type": "execute_result"
    }
   ],
   "source": [
    "d[1]=\"raj\"\n",
    "d"
   ]
  },
  {
   "cell_type": "code",
   "execution_count": 42,
   "id": "f0dcc849",
   "metadata": {},
   "outputs": [],
   "source": [
    "d.update()"
   ]
  },
  {
   "cell_type": "code",
   "execution_count": 43,
   "id": "117793f7",
   "metadata": {},
   "outputs": [
    {
     "data": {
      "text/plain": [
       "5600"
      ]
     },
     "execution_count": 43,
     "metadata": {},
     "output_type": "execute_result"
    }
   ],
   "source": [
    "d.setdefault(4,5600)\n"
   ]
  },
  {
   "cell_type": "code",
   "execution_count": 44,
   "id": "7aabdc82",
   "metadata": {},
   "outputs": [
    {
     "data": {
      "text/plain": [
       "{1: 'raj', 2: 'singh', 'wer': 23, 4: 5600}"
      ]
     },
     "execution_count": 44,
     "metadata": {},
     "output_type": "execute_result"
    }
   ],
   "source": [
    "d"
   ]
  },
  {
   "cell_type": "code",
   "execution_count": 45,
   "id": "1bd1da81",
   "metadata": {},
   "outputs": [],
   "source": [
    "d1={4:44,5:55}\n",
    "d.update(d1)"
   ]
  },
  {
   "cell_type": "code",
   "execution_count": 46,
   "id": "bdc0795e",
   "metadata": {},
   "outputs": [
    {
     "data": {
      "text/plain": [
       "{1: 'raj', 2: 'singh', 'wer': 23, 4: 44, 5: 55}"
      ]
     },
     "execution_count": 46,
     "metadata": {},
     "output_type": "execute_result"
    }
   ],
   "source": [
    "d"
   ]
  },
  {
   "cell_type": "code",
   "execution_count": 47,
   "id": "9daf8700",
   "metadata": {},
   "outputs": [
    {
     "name": "stdout",
     "output_type": "stream",
     "text": [
      "1\n",
      "2\n",
      "wer\n",
      "4\n",
      "5\n"
     ]
    }
   ],
   "source": [
    "for i in d:\n",
    "    print(i)"
   ]
  },
  {
   "cell_type": "code",
   "execution_count": 49,
   "id": "9f67373d",
   "metadata": {},
   "outputs": [
    {
     "data": {
      "text/plain": [
       "23"
      ]
     },
     "execution_count": 49,
     "metadata": {},
     "output_type": "execute_result"
    }
   ],
   "source": [
    "d.pop(\"wer\")"
   ]
  },
  {
   "cell_type": "code",
   "execution_count": 50,
   "id": "ae36f713",
   "metadata": {},
   "outputs": [
    {
     "data": {
      "text/plain": [
       "{1: 'raj', 2: 'singh', 4: 44, 5: 55}"
      ]
     },
     "execution_count": 50,
     "metadata": {},
     "output_type": "execute_result"
    }
   ],
   "source": [
    "d"
   ]
  },
  {
   "cell_type": "code",
   "execution_count": 51,
   "id": "e285c0c5",
   "metadata": {},
   "outputs": [
    {
     "data": {
      "text/plain": [
       "{1: 'raj', 2: 'singh', 4: 44, 5: 55, 3: 22}"
      ]
     },
     "execution_count": 51,
     "metadata": {},
     "output_type": "execute_result"
    }
   ],
   "source": [
    "d[3]=22\n",
    "d"
   ]
  },
  {
   "cell_type": "code",
   "execution_count": 52,
   "id": "148ae23e",
   "metadata": {},
   "outputs": [
    {
     "name": "stdout",
     "output_type": "stream",
     "text": [
      "raj\n",
      "singh\n",
      "44\n",
      "55\n",
      "22\n"
     ]
    }
   ],
   "source": [
    "for i in d.values():\n",
    "    print(i)"
   ]
  },
  {
   "cell_type": "code",
   "execution_count": 53,
   "id": "62d6e5c2",
   "metadata": {},
   "outputs": [
    {
     "name": "stdout",
     "output_type": "stream",
     "text": [
      "1 raj\n",
      "2 singh\n",
      "4 44\n",
      "5 55\n",
      "3 22\n"
     ]
    }
   ],
   "source": [
    "for i,j in d.items():\n",
    "    print(i,j)"
   ]
  },
  {
   "cell_type": "code",
   "execution_count": 55,
   "id": "d19f4fd4",
   "metadata": {},
   "outputs": [
    {
     "name": "stdout",
     "output_type": "stream",
     "text": [
      "neha 33 is young\n",
      "varun 55 is old\n",
      "pooja 34 is young\n",
      "golu 19 is young\n",
      "ramesh 45 is old\n"
     ]
    }
   ],
   "source": [
    "d={\"neha\":33,\"varun\":55,\"pooja\":34,\"golu\":19,\"ramesh\":45}\n",
    "for i,j in d.items():\n",
    "    if j>44:\n",
    "        print(i,j,\"is old\")\n",
    "    else:\n",
    "        print(i,j,\"is young\")"
   ]
  },
  {
   "cell_type": "code",
   "execution_count": 59,
   "id": "df814d63",
   "metadata": {},
   "outputs": [
    {
     "data": {
      "text/plain": [
       "{'O': 'orange', 'B': 'banana', 'A': 'apple', 'G': 'grapes', 'M': 'mango'}"
      ]
     },
     "execution_count": 59,
     "metadata": {},
     "output_type": "execute_result"
    }
   ],
   "source": [
    "l=[\"orange\",\"banana\",\"apple\",\"grapes\",\"mango\"]\n",
    "d={}\n",
    "for i in l:\n",
    "    d[i[0].upper()]=i\n",
    "d\n",
    "    "
   ]
  },
  {
   "cell_type": "code",
   "execution_count": 61,
   "id": "479b485c",
   "metadata": {},
   "outputs": [
    {
     "name": "stdout",
     "output_type": "stream",
     "text": [
      "valid\n"
     ]
    }
   ],
   "source": [
    "s=\"12345\"\n",
    "if s.isdigit() and len(s)==5:\n",
    "    print(\"valid\")"
   ]
  },
  {
   "cell_type": "code",
   "execution_count": 7,
   "id": "27919d83",
   "metadata": {},
   "outputs": [
    {
     "name": "stdout",
     "output_type": "stream",
     "text": [
      "4\n",
      "-1\n",
      "0\n"
     ]
    }
   ],
   "source": [
    "l=[\"the casino\",\"they are playing\",\"casinoville\"]\n",
    "for i in l:\n",
    "    print(i.find(\"casino\"))"
   ]
  },
  {
   "cell_type": "code",
   "execution_count": 12,
   "id": "fbb788e8",
   "metadata": {},
   "outputs": [
    {
     "name": "stdout",
     "output_type": "stream",
     "text": [
      "0\n"
     ]
    }
   ],
   "source": [
    "def f(word):\n",
    "    list=[\"The Learn Python Challenge Casino\",\"They Bought a Car\",\"Casinoville\"]\n",
    "    l=[]\n",
    "    for i in list:\n",
    "        i=i.lower()\n",
    "        l.append(i)\n",
    "        if i.find(\"casino\")>0:\n",
    "            print(l.index(i))\n",
    "f(\"casino\")"
   ]
  },
  {
   "cell_type": "code",
   "execution_count": 4,
   "id": "7e60a37f",
   "metadata": {},
   "outputs": [
    {
     "data": {
      "text/plain": [
       "{'casino': [0, 1], 'they': [1]}"
      ]
     },
     "execution_count": 4,
     "metadata": {},
     "output_type": "execute_result"
    }
   ],
   "source": [
    "doc_list=[\"The Learn Python Challenge Casino\",\"They Bought a Car and a casino\",\"Casinoville\"]\n",
    "l=[]\n",
    "l1=[]\n",
    "l2=[]\n",
    "for i in doc_list:\n",
    "    i=i.lower()\n",
    "    l.append(i)\n",
    "    if i.find(\"casino\")>0:\n",
    "        l1.append(l.index(i))\n",
    "        #print(l1)\n",
    "        if i.find(\"they\")==0:\n",
    "            l2.append(l.index(i))\n",
    "            #print(l2)\n",
    "d={}\n",
    "keyword=[\"casino\",\"they\"]\n",
    "for i in keyword:\n",
    "    if keyword.index(i)==0:\n",
    "        d[i]=l1\n",
    "    else:\n",
    "        d[i]=l2\n",
    "d\n",
    "    "
   ]
  },
  {
   "cell_type": "code",
   "execution_count": null,
   "id": "f9a21cd2",
   "metadata": {},
   "outputs": [],
   "source": []
  }
 ],
 "metadata": {
  "kernelspec": {
   "display_name": "Python 3 (ipykernel)",
   "language": "python",
   "name": "python3"
  },
  "language_info": {
   "codemirror_mode": {
    "name": "ipython",
    "version": 3
   },
   "file_extension": ".py",
   "mimetype": "text/x-python",
   "name": "python",
   "nbconvert_exporter": "python",
   "pygments_lexer": "ipython3",
   "version": "3.9.7"
  }
 },
 "nbformat": 4,
 "nbformat_minor": 5
}
