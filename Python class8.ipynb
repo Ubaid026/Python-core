{
 "cells": [
  {
   "cell_type": "code",
   "execution_count": null,
   "id": "1db037a3",
   "metadata": {},
   "outputs": [],
   "source": [
    "WAP to check how many fruits in a list have a in them , and we\n",
    "need to print that fruit only"
   ]
  },
  {
   "cell_type": "code",
   "execution_count": 4,
   "id": "6a749e35",
   "metadata": {},
   "outputs": [
    {
     "name": "stdout",
     "output_type": "stream",
     "text": [
      "apple\n",
      "banana\n",
      "apricot\n",
      "orange\n",
      "avacados\n"
     ]
    }
   ],
   "source": [
    "fruits=[\"apple\",\"banana\",\"apricot\",\"orange\",\"avacados\",\"kiwi\",\"blueberry\"]\n",
    "for i in fruits:\n",
    "    if \"a\" in i:\n",
    "        print(i)\n"
   ]
  },
  {
   "cell_type": "code",
   "execution_count": null,
   "id": "6759d67b",
   "metadata": {},
   "outputs": [],
   "source": [
    "for loops:\n",
    "   1)range(start,stop,step) \n",
    "   2)list\n",
    "    3)string"
   ]
  },
  {
   "cell_type": "code",
   "execution_count": null,
   "id": "0bfc1a8e",
   "metadata": {},
   "outputs": [],
   "source": [
    "nested for loop"
   ]
  },
  {
   "cell_type": "code",
   "execution_count": 18,
   "id": "7811665c",
   "metadata": {},
   "outputs": [
    {
     "name": "stdout",
     "output_type": "stream",
     "text": [
      "1\n",
      "a\n",
      "1\n",
      "2\n",
      "3\n",
      "b\n",
      "1\n",
      "2\n",
      "3\n",
      "2\n",
      "a\n",
      "1\n",
      "2\n",
      "3\n",
      "b\n",
      "1\n",
      "2\n",
      "3\n"
     ]
    }
   ],
   "source": [
    "for i in range(1,3):\n",
    "    print(i)\n",
    "    for j in[\"a\",\"b\"]:\n",
    "        print(j)\n",
    "        for k in range(1,4):\n",
    "            print(k)\n",
    "     \n"
   ]
  },
  {
   "cell_type": "code",
   "execution_count": 19,
   "id": "e3d650ff",
   "metadata": {},
   "outputs": [
    {
     "name": "stdout",
     "output_type": "stream",
     "text": [
      "Table of: 2\n",
      "2 x 1 = 2\n",
      "2 x 2 = 4\n",
      "2 x 3 = 6\n",
      "2 x 4 = 8\n",
      "2 x 5 = 10\n",
      "2 x 6 = 12\n",
      "2 x 7 = 14\n",
      "2 x 8 = 16\n",
      "2 x 9 = 18\n",
      "2 x 10 = 20\n",
      " \n",
      "Table of: 3\n",
      "3 x 1 = 3\n",
      "3 x 2 = 6\n",
      "3 x 3 = 9\n",
      "3 x 4 = 12\n",
      "3 x 5 = 15\n",
      "3 x 6 = 18\n",
      "3 x 7 = 21\n",
      "3 x 8 = 24\n",
      "3 x 9 = 27\n",
      "3 x 10 = 30\n",
      " \n",
      "Table of: 4\n",
      "4 x 1 = 4\n",
      "4 x 2 = 8\n",
      "4 x 3 = 12\n",
      "4 x 4 = 16\n",
      "4 x 5 = 20\n",
      "4 x 6 = 24\n",
      "4 x 7 = 28\n",
      "4 x 8 = 32\n",
      "4 x 9 = 36\n",
      "4 x 10 = 40\n",
      " \n",
      "Table of: 5\n",
      "5 x 1 = 5\n",
      "5 x 2 = 10\n",
      "5 x 3 = 15\n",
      "5 x 4 = 20\n",
      "5 x 5 = 25\n",
      "5 x 6 = 30\n",
      "5 x 7 = 35\n",
      "5 x 8 = 40\n",
      "5 x 9 = 45\n",
      "5 x 10 = 50\n",
      " \n",
      "Table of: 6\n",
      "6 x 1 = 6\n",
      "6 x 2 = 12\n",
      "6 x 3 = 18\n",
      "6 x 4 = 24\n",
      "6 x 5 = 30\n",
      "6 x 6 = 36\n",
      "6 x 7 = 42\n",
      "6 x 8 = 48\n",
      "6 x 9 = 54\n",
      "6 x 10 = 60\n",
      " \n",
      "Table of: 7\n",
      "7 x 1 = 7\n",
      "7 x 2 = 14\n",
      "7 x 3 = 21\n",
      "7 x 4 = 28\n",
      "7 x 5 = 35\n",
      "7 x 6 = 42\n",
      "7 x 7 = 49\n",
      "7 x 8 = 56\n",
      "7 x 9 = 63\n",
      "7 x 10 = 70\n",
      " \n",
      "Table of: 8\n",
      "8 x 1 = 8\n",
      "8 x 2 = 16\n",
      "8 x 3 = 24\n",
      "8 x 4 = 32\n",
      "8 x 5 = 40\n",
      "8 x 6 = 48\n",
      "8 x 7 = 56\n",
      "8 x 8 = 64\n",
      "8 x 9 = 72\n",
      "8 x 10 = 80\n",
      " \n",
      "Table of: 9\n",
      "9 x 1 = 9\n",
      "9 x 2 = 18\n",
      "9 x 3 = 27\n",
      "9 x 4 = 36\n",
      "9 x 5 = 45\n",
      "9 x 6 = 54\n",
      "9 x 7 = 63\n",
      "9 x 8 = 72\n",
      "9 x 9 = 81\n",
      "9 x 10 = 90\n",
      " \n",
      "Table of: 10\n",
      "10 x 1 = 10\n",
      "10 x 2 = 20\n",
      "10 x 3 = 30\n",
      "10 x 4 = 40\n",
      "10 x 5 = 50\n",
      "10 x 6 = 60\n",
      "10 x 7 = 70\n",
      "10 x 8 = 80\n",
      "10 x 9 = 90\n",
      "10 x 10 = 100\n",
      " \n"
     ]
    }
   ],
   "source": [
    "for i in range(2,11):\n",
    "    print(\"Table of:\",i)\n",
    "    for a in range(1,11):\n",
    "        print(i,\"x\",a,\"=\",i*a)\n",
    "    print(\" \")"
   ]
  },
  {
   "cell_type": "code",
   "execution_count": 10,
   "id": "50ed83cb",
   "metadata": {},
   "outputs": [
    {
     "name": "stdout",
     "output_type": "stream",
     "text": [
      "Table of: 2\n",
      "2 x 10 = 20\n",
      "2 x 9 = 18\n",
      "2 x 8 = 16\n",
      "2 x 7 = 14\n",
      "2 x 6 = 12\n",
      "2 x 5 = 10\n",
      "2 x 4 = 8\n",
      "2 x 3 = 6\n",
      "2 x 2 = 4\n",
      "2 x 1 = 2\n",
      " \n",
      "Table of: 3\n",
      "3 x 10 = 30\n",
      "3 x 9 = 27\n",
      "3 x 8 = 24\n",
      "3 x 7 = 21\n",
      "3 x 6 = 18\n",
      "3 x 5 = 15\n",
      "3 x 4 = 12\n",
      "3 x 3 = 9\n",
      "3 x 2 = 6\n",
      "3 x 1 = 3\n",
      " \n",
      "Table of: 4\n",
      "4 x 10 = 40\n",
      "4 x 9 = 36\n",
      "4 x 8 = 32\n",
      "4 x 7 = 28\n",
      "4 x 6 = 24\n",
      "4 x 5 = 20\n",
      "4 x 4 = 16\n",
      "4 x 3 = 12\n",
      "4 x 2 = 8\n",
      "4 x 1 = 4\n",
      " \n",
      "Table of: 5\n",
      "5 x 10 = 50\n",
      "5 x 9 = 45\n",
      "5 x 8 = 40\n",
      "5 x 7 = 35\n",
      "5 x 6 = 30\n",
      "5 x 5 = 25\n",
      "5 x 4 = 20\n",
      "5 x 3 = 15\n",
      "5 x 2 = 10\n",
      "5 x 1 = 5\n",
      " \n",
      "Table of: 6\n",
      "6 x 10 = 60\n",
      "6 x 9 = 54\n",
      "6 x 8 = 48\n",
      "6 x 7 = 42\n",
      "6 x 6 = 36\n",
      "6 x 5 = 30\n",
      "6 x 4 = 24\n",
      "6 x 3 = 18\n",
      "6 x 2 = 12\n",
      "6 x 1 = 6\n",
      " \n",
      "Table of: 7\n",
      "7 x 10 = 70\n",
      "7 x 9 = 63\n",
      "7 x 8 = 56\n",
      "7 x 7 = 49\n",
      "7 x 6 = 42\n",
      "7 x 5 = 35\n",
      "7 x 4 = 28\n",
      "7 x 3 = 21\n",
      "7 x 2 = 14\n",
      "7 x 1 = 7\n",
      " \n",
      "Table of: 8\n",
      "8 x 10 = 80\n",
      "8 x 9 = 72\n",
      "8 x 8 = 64\n",
      "8 x 7 = 56\n",
      "8 x 6 = 48\n",
      "8 x 5 = 40\n",
      "8 x 4 = 32\n",
      "8 x 3 = 24\n",
      "8 x 2 = 16\n",
      "8 x 1 = 8\n",
      " \n",
      "Table of: 9\n",
      "9 x 10 = 90\n",
      "9 x 9 = 81\n",
      "9 x 8 = 72\n",
      "9 x 7 = 63\n",
      "9 x 6 = 54\n",
      "9 x 5 = 45\n",
      "9 x 4 = 36\n",
      "9 x 3 = 27\n",
      "9 x 2 = 18\n",
      "9 x 1 = 9\n",
      " \n",
      "Table of: 10\n",
      "10 x 10 = 100\n",
      "10 x 9 = 90\n",
      "10 x 8 = 80\n",
      "10 x 7 = 70\n",
      "10 x 6 = 60\n",
      "10 x 5 = 50\n",
      "10 x 4 = 40\n",
      "10 x 3 = 30\n",
      "10 x 2 = 20\n",
      "10 x 1 = 10\n",
      " \n"
     ]
    }
   ],
   "source": [
    "for i in range(2,11):\n",
    "    print(\"Table of:\",i)\n",
    "    for a in range(10,0,-1):\n",
    "        print(i,\"x\",a,\"=\",i*a)\n",
    "    print(\" \")"
   ]
  },
  {
   "cell_type": "code",
   "execution_count": 11,
   "id": "3c8d0fd8",
   "metadata": {},
   "outputs": [
    {
     "name": "stdout",
     "output_type": "stream",
     "text": [
      "0\n",
      "1\n",
      "2\n",
      "3\n",
      "4\n",
      "5\n",
      "6\n",
      "7\n",
      "8\n",
      "9\n"
     ]
    }
   ],
   "source": [
    "for i in range(10):      #it will take take as stop if there is only one number in range\n",
    "    print(i)"
   ]
  },
  {
   "cell_type": "code",
   "execution_count": 23,
   "id": "fcab2f15",
   "metadata": {},
   "outputs": [
    {
     "name": "stdout",
     "output_type": "stream",
     "text": [
      "Python is fun "
     ]
    }
   ],
   "source": [
    "l=[[\"Python\"],[\"is\"],[\"fun\"]]\n",
    "for i in l:\n",
    "    for j in i:\n",
    "        print(j,end=\" \")"
   ]
  },
  {
   "cell_type": "code",
   "execution_count": null,
   "id": "1574fff0",
   "metadata": {},
   "outputs": [],
   "source": [
    "lets suppose i have nos from 1to 20 and i need to tell which are prime which are composite"
   ]
  },
  {
   "cell_type": "code",
   "execution_count": 3,
   "id": "ecf71860",
   "metadata": {},
   "outputs": [
    {
     "name": "stdout",
     "output_type": "stream",
     "text": [
      "prime 2\n",
      "prime 3\n",
      "composite 4\n",
      "prime 5\n",
      "composite 6\n",
      "prime 7\n",
      "composite 8\n",
      "composite 9\n",
      "composite 10\n",
      "prime 11\n",
      "composite 12\n",
      "prime 13\n",
      "composite 14\n",
      "composite 15\n",
      "composite 16\n",
      "prime 17\n",
      "composite 18\n",
      "prime 19\n",
      "composite 20\n"
     ]
    }
   ],
   "source": [
    "for i in range(2,21):\n",
    "    c=1\n",
    "    for j in range(2,i+1):\n",
    "        if i%j==0:\n",
    "            c=c+1\n",
    "        \n",
    "    if c>2:\n",
    "        print(\"composite\",i)\n",
    "    else:\n",
    "        print(\"prime\",i)\n",
    "            \n",
    "        \n",
    "            "
   ]
  },
  {
   "cell_type": "code",
   "execution_count": null,
   "id": "259411f0",
   "metadata": {},
   "outputs": [],
   "source": []
  }
 ],
 "metadata": {
  "kernelspec": {
   "display_name": "Python 3 (ipykernel)",
   "language": "python",
   "name": "python3"
  },
  "language_info": {
   "codemirror_mode": {
    "name": "ipython",
    "version": 3
   },
   "file_extension": ".py",
   "mimetype": "text/x-python",
   "name": "python",
   "nbconvert_exporter": "python",
   "pygments_lexer": "ipython3",
   "version": "3.9.7"
  }
 },
 "nbformat": 4,
 "nbformat_minor": 5
}
