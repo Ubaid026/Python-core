{
 "cells": [
  {
   "cell_type": "markdown",
   "id": "42b7507d",
   "metadata": {},
   "source": [
    "# ischeck methods"
   ]
  },
  {
   "cell_type": "code",
   "execution_count": 1,
   "id": "6f324244",
   "metadata": {},
   "outputs": [
    {
     "data": {
      "text/plain": [
       "True"
      ]
     },
     "execution_count": 1,
     "metadata": {},
     "output_type": "execute_result"
    }
   ],
   "source": [
    "a=\"123\"\n",
    "a.isdigit()"
   ]
  },
  {
   "cell_type": "code",
   "execution_count": 2,
   "id": "e0370362",
   "metadata": {},
   "outputs": [
    {
     "data": {
      "text/plain": [
       "False"
      ]
     },
     "execution_count": 2,
     "metadata": {},
     "output_type": "execute_result"
    }
   ],
   "source": [
    "a=\"123abc\"\n",
    "a.isdigit()"
   ]
  },
  {
   "cell_type": "code",
   "execution_count": 3,
   "id": "d990d182",
   "metadata": {},
   "outputs": [
    {
     "data": {
      "text/plain": [
       "True"
      ]
     },
     "execution_count": 3,
     "metadata": {},
     "output_type": "execute_result"
    }
   ],
   "source": [
    "s=\"abc\"\n",
    "s.isalpha()"
   ]
  },
  {
   "cell_type": "code",
   "execution_count": 4,
   "id": "fdac8660",
   "metadata": {},
   "outputs": [
    {
     "data": {
      "text/plain": [
       "False"
      ]
     },
     "execution_count": 4,
     "metadata": {},
     "output_type": "execute_result"
    }
   ],
   "source": [
    "s=\"ab12\"\n",
    "s.isalpha()"
   ]
  },
  {
   "cell_type": "code",
   "execution_count": 5,
   "id": "d7367766",
   "metadata": {},
   "outputs": [
    {
     "data": {
      "text/plain": [
       "True"
      ]
     },
     "execution_count": 5,
     "metadata": {},
     "output_type": "execute_result"
    }
   ],
   "source": [
    "s.isalnum()"
   ]
  },
  {
   "cell_type": "code",
   "execution_count": 6,
   "id": "e0a0596d",
   "metadata": {},
   "outputs": [
    {
     "data": {
      "text/plain": [
       "True"
      ]
     },
     "execution_count": 6,
     "metadata": {},
     "output_type": "execute_result"
    }
   ],
   "source": [
    "s.islower()"
   ]
  },
  {
   "cell_type": "code",
   "execution_count": 8,
   "id": "2c11b74b",
   "metadata": {},
   "outputs": [
    {
     "data": {
      "text/plain": [
       "True"
      ]
     },
     "execution_count": 8,
     "metadata": {},
     "output_type": "execute_result"
    }
   ],
   "source": [
    "s=\"ACF\"\n",
    "s.isupper()"
   ]
  },
  {
   "cell_type": "code",
   "execution_count": 10,
   "id": "c26d5805",
   "metadata": {},
   "outputs": [
    {
     "data": {
      "text/plain": [
       "False"
      ]
     },
     "execution_count": 10,
     "metadata": {},
     "output_type": "execute_result"
    }
   ],
   "source": [
    "s=\"AmAn\"\n",
    "s.istitle()"
   ]
  },
  {
   "cell_type": "code",
   "execution_count": 11,
   "id": "3644c266",
   "metadata": {},
   "outputs": [
    {
     "data": {
      "text/plain": [
       "True"
      ]
     },
     "execution_count": 11,
     "metadata": {},
     "output_type": "execute_result"
    }
   ],
   "source": [
    "s=\"Aman\"\n",
    "s.istitle()"
   ]
  },
  {
   "cell_type": "code",
   "execution_count": 12,
   "id": "973f3d2e",
   "metadata": {},
   "outputs": [
    {
     "data": {
      "text/plain": [
       "True"
      ]
     },
     "execution_count": 12,
     "metadata": {},
     "output_type": "execute_result"
    }
   ],
   "source": [
    "s=\"Am The Cat\"\n",
    "s.istitle()"
   ]
  },
  {
   "cell_type": "code",
   "execution_count": 15,
   "id": "3f542d83",
   "metadata": {},
   "outputs": [
    {
     "data": {
      "text/plain": [
       "'aman'"
      ]
     },
     "execution_count": 15,
     "metadata": {},
     "output_type": "execute_result"
    }
   ],
   "source": [
    "s=\"\"\n",
    "type(s)\n",
    "s=s.join(\"aman\")\n",
    "s"
   ]
  },
  {
   "cell_type": "code",
   "execution_count": 16,
   "id": "5e9a053a",
   "metadata": {},
   "outputs": [
    {
     "data": {
      "text/plain": [
       "'aman:shivani'"
      ]
     },
     "execution_count": 16,
     "metadata": {},
     "output_type": "execute_result"
    }
   ],
   "source": [
    "s=\":\"\n",
    "s.join([\"aman\",\"shivani\"])"
   ]
  },
  {
   "cell_type": "code",
   "execution_count": 18,
   "id": "418772c3",
   "metadata": {},
   "outputs": [
    {
     "data": {
      "text/plain": [
       "['a', 'an ku', 'ar singh']"
      ]
     },
     "execution_count": 18,
     "metadata": {},
     "output_type": "execute_result"
    }
   ],
   "source": [
    "s=\"aman kumar singh\"\n",
    "s.split(sep=\"m\")"
   ]
  },
  {
   "cell_type": "code",
   "execution_count": 19,
   "id": "d5321129",
   "metadata": {},
   "outputs": [
    {
     "data": {
      "text/plain": [
       "['aman', 'kumar', 'singh']"
      ]
     },
     "execution_count": 19,
     "metadata": {},
     "output_type": "execute_result"
    }
   ],
   "source": [
    "s=\"aman kumar singh\"                 #makes list\n",
    "s.split()                            #all m"
   ]
  },
  {
   "cell_type": "code",
   "execution_count": 21,
   "id": "6b7b6f0c",
   "metadata": {},
   "outputs": [
    {
     "data": {
      "text/plain": [
       "('aman', ' ', 'kumar singh')"
      ]
     },
     "execution_count": 21,
     "metadata": {},
     "output_type": "execute_result"
    }
   ],
   "source": [
    "s.partition(\" \")         #makes tuple     #first m"
   ]
  },
  {
   "cell_type": "code",
   "execution_count": 22,
   "id": "6109027c",
   "metadata": {},
   "outputs": [
    {
     "data": {
      "text/plain": [
       "'apan kupar singh'"
      ]
     },
     "execution_count": 22,
     "metadata": {},
     "output_type": "execute_result"
    }
   ],
   "source": [
    "s.replace(\"m\",\"p\")"
   ]
  },
  {
   "cell_type": "code",
   "execution_count": 23,
   "id": "63ad6f47",
   "metadata": {},
   "outputs": [
    {
     "data": {
      "text/plain": [
       "'sded sddd'"
      ]
     },
     "execution_count": 23,
     "metadata": {},
     "output_type": "execute_result"
    }
   ],
   "source": [
    "s=\"     sded sddd    \"\n",
    "s.strip()"
   ]
  },
  {
   "cell_type": "code",
   "execution_count": 24,
   "id": "b71c7016",
   "metadata": {},
   "outputs": [
    {
     "data": {
      "text/plain": [
       "'sded sddd    '"
      ]
     },
     "execution_count": 24,
     "metadata": {},
     "output_type": "execute_result"
    }
   ],
   "source": [
    "s.lstrip()"
   ]
  },
  {
   "cell_type": "code",
   "execution_count": 25,
   "id": "0c258f03",
   "metadata": {},
   "outputs": [
    {
     "data": {
      "text/plain": [
       "'     sded sddd'"
      ]
     },
     "execution_count": 25,
     "metadata": {},
     "output_type": "execute_result"
    }
   ],
   "source": [
    "s.rstrip()"
   ]
  },
  {
   "cell_type": "code",
   "execution_count": 26,
   "id": "6c0dedd1",
   "metadata": {},
   "outputs": [
    {
     "data": {
      "text/plain": [
       "23"
      ]
     },
     "execution_count": 26,
     "metadata": {},
     "output_type": "execute_result"
    }
   ],
   "source": [
    "s=\"the cat is wrong i am right\"\n",
    "s.rindex(\"i\")"
   ]
  },
  {
   "cell_type": "code",
   "execution_count": 30,
   "id": "1886a554",
   "metadata": {},
   "outputs": [
    {
     "data": {
      "text/plain": [
       "8"
      ]
     },
     "execution_count": 30,
     "metadata": {},
     "output_type": "execute_result"
    }
   ],
   "source": [
    "s.index(\"i\")"
   ]
  },
  {
   "cell_type": "code",
   "execution_count": 31,
   "id": "0fe8da80",
   "metadata": {},
   "outputs": [
    {
     "data": {
      "text/plain": [
       "['the cat is wrong i am right']"
      ]
     },
     "execution_count": 31,
     "metadata": {},
     "output_type": "execute_result"
    }
   ],
   "source": [
    "s.splitlines()"
   ]
  },
  {
   "cell_type": "code",
   "execution_count": 35,
   "id": "72385843",
   "metadata": {},
   "outputs": [
    {
     "data": {
      "text/plain": [
       "True"
      ]
     },
     "execution_count": 35,
     "metadata": {},
     "output_type": "execute_result"
    }
   ],
   "source": [
    "s=\"10\"\n",
    "s.isdecimal()"
   ]
  },
  {
   "cell_type": "code",
   "execution_count": null,
   "id": "31b13fd8",
   "metadata": {},
   "outputs": [],
   "source": [
    "WAP to check conditions for password\n",
    "len   ==10\n",
    "1 alphabet uppercase\n",
    "1 special character\n",
    "1 alphabet lowercase\n",
    "1 digit atleast"
   ]
  },
  {
   "cell_type": "code",
   "execution_count": null,
   "id": "3617190a",
   "metadata": {},
   "outputs": [],
   "source": []
  },
  {
   "cell_type": "code",
   "execution_count": 4,
   "id": "8737fae6",
   "metadata": {},
   "outputs": [
    {
     "name": "stdout",
     "output_type": "stream",
     "text": [
      "Enter the password:AMAnq@12qw\n",
      "AMAnq@12qw is valid !\n"
     ]
    }
   ],
   "source": [
    "p=input(\"Enter the password:\")\n",
    "u,l,d,sp=0,0,0,0\n",
    "for i in p:\n",
    "    if i.isupper():\n",
    "        u=u+1\n",
    "    elif i.islower():\n",
    "        l=l+1\n",
    "    elif i.isdigit():\n",
    "        d=d+1\n",
    "    else:\n",
    "        sp=sp+1\n",
    "if u>0 and l>0 and d>0 and sp>0 and len(p)>=10:\n",
    "    print(p,\"is valid !\")\n",
    "else:\n",
    "    print(p,\"is not valid!\")\n"
   ]
  },
  {
   "cell_type": "code",
   "execution_count": 14,
   "id": "cfceed6d",
   "metadata": {},
   "outputs": [
    {
     "name": "stdout",
     "output_type": "stream",
     "text": [
      "Enter the passwords:sacsaa\n",
      "sacsaa is not valid!\n"
     ]
    }
   ],
   "source": [
    "p=input(\"Enter the passwords:\").split()\n",
    "for i in p:\n",
    "    u,l,d,sp=0,0,0,0\n",
    "    for j in i:\n",
    "        if j.isupper():\n",
    "            u=u+1\n",
    "        elif j.islower():\n",
    "            l=l+1\n",
    "        elif j.isdigit():\n",
    "            d=d+1\n",
    "        else:\n",
    "            sp=sp+1\n",
    "    if u>0 and l>0 and d>0 and sp>0 and len(i)>=10:\n",
    "        print(i,\"is valid !\")\n",
    "    else:\n",
    "        print(i,\"is not valid!\")\n",
    "        \n",
    "    \n"
   ]
  }
 ],
 "metadata": {
  "kernelspec": {
   "display_name": "Python 3 (ipykernel)",
   "language": "python",
   "name": "python3"
  },
  "language_info": {
   "codemirror_mode": {
    "name": "ipython",
    "version": 3
   },
   "file_extension": ".py",
   "mimetype": "text/x-python",
   "name": "python",
   "nbconvert_exporter": "python",
   "pygments_lexer": "ipython3",
   "version": "3.9.7"
  }
 },
 "nbformat": 4,
 "nbformat_minor": 5
}
