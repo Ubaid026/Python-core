{
 "cells": [
  {
   "cell_type": "code",
   "execution_count": 4,
   "id": "a5d5dc12",
   "metadata": {},
   "outputs": [
    {
     "name": "stdout",
     "output_type": "stream",
     "text": [
      "enter the number:789\n",
      "1\n",
      "3\n",
      "263\n",
      "789\n",
      "no of factors: 4\n",
      "composite\n"
     ]
    }
   ],
   "source": [
    "n=int(input(\"enter the number:\"))\n",
    "c=0\n",
    "for i in range(1,n+1):\n",
    "    if n%i==0:\n",
    "        print(i)\n",
    "        c=c+1\n",
    "print(\"no of factors:\",c)\n",
    "if c>2:\n",
    "        print(\"composite\")\n",
    "else:\n",
    "    print(\"prime\")"
   ]
  },
  {
   "cell_type": "code",
   "execution_count": null,
   "id": "97c8dc12",
   "metadata": {},
   "outputs": [],
   "source": [
    "we have to find factorial of a number remember factorial of 0 is 1\n",
    "and fact of 1 is 1\n",
    "and fact of negative is not possible\n"
   ]
  },
  {
   "cell_type": "code",
   "execution_count": 6,
   "id": "932125b1",
   "metadata": {},
   "outputs": [
    {
     "name": "stdout",
     "output_type": "stream",
     "text": [
      "Enter the no:4\n",
      "24\n"
     ]
    }
   ],
   "source": [
    "n=int(input(\"Enter the no:\"))\n",
    "if n==1 or n==0:\n",
    "    print(\"fact is 1\")\n",
    "elif n>0:\n",
    "    f=1\n",
    "    for i in range(n,1,-1):\n",
    "        f=f*i\n",
    "    print(f)\n",
    "else:\n",
    "    print(\"not possible\")\n",
    "    "
   ]
  },
  {
   "cell_type": "code",
   "execution_count": 3,
   "id": "5c84b2e9",
   "metadata": {},
   "outputs": [
    {
     "ename": "SyntaxError",
     "evalue": "invalid syntax (Temp/ipykernel_14332/3117071779.py, line 1)",
     "output_type": "error",
     "traceback": [
      "\u001b[1;36m  File \u001b[1;32m\"C:\\Users\\dell\\AppData\\Local\\Temp/ipykernel_14332/3117071779.py\"\u001b[1;36m, line \u001b[1;32m1\u001b[0m\n\u001b[1;33m    WAP to print fizz for all nos which are divisible by 3,print buzz for all the nos divisible\u001b[0m\n\u001b[1;37m        ^\u001b[0m\n\u001b[1;31mSyntaxError\u001b[0m\u001b[1;31m:\u001b[0m invalid syntax\n"
     ]
    }
   ],
   "source": [
    "WAP to print fizz for all nos which are divisible by 3,print buzz for all the nos divisible \n",
    "by 5 and print fizzbuzz for all the numbers div by 3 and 5 both in range 1 to 50"
   ]
  },
  {
   "cell_type": "code",
   "execution_count": 22,
   "id": "023a2588",
   "metadata": {},
   "outputs": [
    {
     "name": "stdout",
     "output_type": "stream",
     "text": [
      "fizz 3\n",
      "buzz 5\n",
      "fizz 6\n",
      "fizz 9\n",
      "buzz 10\n",
      "fizz 12\n",
      "fizzbuzz 15\n",
      "fizz 18\n",
      "buzz 20\n",
      "fizz 21\n",
      "fizz 24\n",
      "buzz 25\n",
      "fizz 27\n",
      "fizzbuzz 30\n",
      "fizz 33\n",
      "buzz 35\n",
      "fizz 36\n",
      "fizz 39\n",
      "buzz 40\n",
      "fizz 42\n",
      "fizzbuzz 45\n",
      "fizz 48\n",
      "buzz 50\n"
     ]
    }
   ],
   "source": [
    "for i in range(1,51):\n",
    "    if i%3==0 and i%5==0:\n",
    "        print(\"fizzbuzz\",i)\n",
    "    elif i%3==0:\n",
    "        print(\"fizz\",i)\n",
    "    elif i%5==0:\n",
    "        print(\"buzz\",i)"
   ]
  },
  {
   "cell_type": "code",
   "execution_count": 23,
   "id": "98286248",
   "metadata": {},
   "outputs": [
    {
     "name": "stdout",
     "output_type": "stream",
     "text": [
      "1\n",
      "2\n",
      "3\n",
      "4\n",
      "5\n"
     ]
    }
   ],
   "source": [
    "l=[1,2,3,4,5]\n",
    "for i in l:\n",
    "    print(i)"
   ]
  },
  {
   "cell_type": "code",
   "execution_count": 25,
   "id": "41ac700f",
   "metadata": {},
   "outputs": [
    {
     "name": "stdout",
     "output_type": "stream",
     "text": [
      "Aman Singh"
     ]
    }
   ],
   "source": [
    "s=\"Aman Singh\"\n",
    "for i in s:\n",
    "    print(i,end=\"\")"
   ]
  },
  {
   "cell_type": "code",
   "execution_count": null,
   "id": "43441e98",
   "metadata": {},
   "outputs": [],
   "source": [
    "wap to find the no of elements in list"
   ]
  },
  {
   "cell_type": "code",
   "execution_count": 8,
   "id": "cef38270",
   "metadata": {},
   "outputs": [
    {
     "name": "stdout",
     "output_type": "stream",
     "text": [
      "9\n",
      "91\n"
     ]
    }
   ],
   "source": [
    "l=[12,13,1,2,3,4,5,6,45]\n",
    "c=0\n",
    "s=0\n",
    "for i in l:\n",
    "    c=c+1\n",
    "    s=s+i\n",
    "print(c)\n",
    "print(s)"
   ]
  },
  {
   "cell_type": "code",
   "execution_count": 35,
   "id": "3ba591de",
   "metadata": {},
   "outputs": [
    {
     "name": "stdout",
     "output_type": "stream",
     "text": [
      "vowels: 3\n",
      "consonants: 7\n"
     ]
    }
   ],
   "source": [
    "s=\"Helloworld\"\n",
    "l=[\"a\",\"e\",\"i\",\"o\",\"u\"]\n",
    "c=0\n",
    "d=0\n",
    "for i in s:\n",
    "    if i in l:\n",
    "        c=c+1\n",
    "    else:\n",
    "        d=d+1\n",
    "print(\"vowels:\",c)\n",
    "print(\"consonants:\",d)\n",
    "    "
   ]
  },
  {
   "cell_type": "code",
   "execution_count": null,
   "id": "151dae72",
   "metadata": {},
   "outputs": [],
   "source": []
  }
 ],
 "metadata": {
  "kernelspec": {
   "display_name": "Python 3 (ipykernel)",
   "language": "python",
   "name": "python3"
  },
  "language_info": {
   "codemirror_mode": {
    "name": "ipython",
    "version": 3
   },
   "file_extension": ".py",
   "mimetype": "text/x-python",
   "name": "python",
   "nbconvert_exporter": "python",
   "pygments_lexer": "ipython3",
   "version": "3.9.7"
  }
 },
 "nbformat": 4,
 "nbformat_minor": 5
}
