{
 "cells": [
  {
   "cell_type": "markdown",
   "id": "62f0687f",
   "metadata": {},
   "source": [
    "# strings: used to store text information\n",
    "## s=\"aman is lazy\"\n",
    "## s1=\"123sdv@!#\"\n",
    "## s2=\"100\"\n",
    "## s3=\"awa23\""
   ]
  },
  {
   "cell_type": "code",
   "execution_count": null,
   "id": "ed82852a",
   "metadata": {},
   "outputs": [],
   "source": [
    "indexing and slicing in a string:"
   ]
  },
  {
   "cell_type": "code",
   "execution_count": null,
   "id": "34216672",
   "metadata": {},
   "outputs": [],
   "source": [
    "indexing:numbering"
   ]
  },
  {
   "cell_type": "code",
   "execution_count": null,
   "id": "3bb9fc69",
   "metadata": {},
   "outputs": [],
   "source": [
    "slicing:to print particular part of a string"
   ]
  },
  {
   "cell_type": "code",
   "execution_count": 4,
   "id": "1edb2574",
   "metadata": {},
   "outputs": [
    {
     "data": {
      "text/plain": [
       "'own'"
      ]
     },
     "execution_count": 4,
     "metadata": {},
     "output_type": "execute_result"
    }
   ],
   "source": [
    "s=\"brown\"\n",
    "s[2:5:1]\n"
   ]
  },
  {
   "cell_type": "code",
   "execution_count": 5,
   "id": "6ec682e3",
   "metadata": {},
   "outputs": [
    {
     "data": {
      "text/plain": [
       "'brown'"
      ]
     },
     "execution_count": 5,
     "metadata": {},
     "output_type": "execute_result"
    }
   ],
   "source": [
    "s[:]"
   ]
  },
  {
   "cell_type": "code",
   "execution_count": 6,
   "id": "3673c0e2",
   "metadata": {},
   "outputs": [
    {
     "data": {
      "text/plain": [
       "'nworb'"
      ]
     },
     "execution_count": 6,
     "metadata": {},
     "output_type": "execute_result"
    }
   ],
   "source": [
    "s[::-1]"
   ]
  },
  {
   "cell_type": "code",
   "execution_count": 14,
   "id": "be89eed2",
   "metadata": {},
   "outputs": [
    {
     "data": {
      "text/plain": [
       "('m', 'p', 's')"
      ]
     },
     "execution_count": 14,
     "metadata": {},
     "output_type": "execute_result"
    }
   ],
   "source": [
    "s=\"Mimpaprasad\"\n",
    "s[2],s[5],s[8]"
   ]
  },
  {
   "cell_type": "code",
   "execution_count": 13,
   "id": "38f81e38",
   "metadata": {},
   "outputs": [
    {
     "data": {
      "text/plain": [
       "'helloworl'"
      ]
     },
     "execution_count": 13,
     "metadata": {},
     "output_type": "execute_result"
    }
   ],
   "source": [
    "a=\"helloworld\"\n",
    "a[0:9]"
   ]
  },
  {
   "cell_type": "markdown",
   "id": "8660fc3f",
   "metadata": {},
   "source": [
    "# properties of a string"
   ]
  },
  {
   "cell_type": "markdown",
   "id": "9fec1dc9",
   "metadata": {},
   "source": [
    "# 1)mutability\n",
    "strings are immutable in nature.\n"
   ]
  },
  {
   "cell_type": "code",
   "execution_count": 15,
   "id": "77f83a8d",
   "metadata": {},
   "outputs": [
    {
     "ename": "TypeError",
     "evalue": "'str' object does not support item assignment",
     "output_type": "error",
     "traceback": [
      "\u001b[1;31m---------------------------------------------------------------------------\u001b[0m",
      "\u001b[1;31mTypeError\u001b[0m                                 Traceback (most recent call last)",
      "\u001b[1;32m~\\AppData\\Local\\Temp/ipykernel_8392/1727385125.py\u001b[0m in \u001b[0;36m<module>\u001b[1;34m\u001b[0m\n\u001b[0;32m      1\u001b[0m \u001b[0ms\u001b[0m\u001b[1;33m=\u001b[0m\u001b[1;34m\"aman\"\u001b[0m\u001b[1;33m\u001b[0m\u001b[1;33m\u001b[0m\u001b[0m\n\u001b[1;32m----> 2\u001b[1;33m \u001b[0ms\u001b[0m\u001b[1;33m[\u001b[0m\u001b[1;36m0\u001b[0m\u001b[1;33m]\u001b[0m\u001b[1;33m=\u001b[0m\u001b[1;34m\"d\"\u001b[0m\u001b[1;33m\u001b[0m\u001b[1;33m\u001b[0m\u001b[0m\n\u001b[0m",
      "\u001b[1;31mTypeError\u001b[0m: 'str' object does not support item assignment"
     ]
    }
   ],
   "source": [
    "s=\"aman\"\n",
    "s[0]=\"d\""
   ]
  },
  {
   "cell_type": "markdown",
   "id": "0c238e42",
   "metadata": {},
   "source": [
    "# 2)concatination"
   ]
  },
  {
   "cell_type": "code",
   "execution_count": 16,
   "id": "fba3db9b",
   "metadata": {},
   "outputs": [
    {
     "data": {
      "text/plain": [
       "'amansingh'"
      ]
     },
     "execution_count": 16,
     "metadata": {},
     "output_type": "execute_result"
    }
   ],
   "source": [
    "s=\"aman\"+\"singh\"\n",
    "s"
   ]
  },
  {
   "cell_type": "code",
   "execution_count": 17,
   "id": "db026a04",
   "metadata": {},
   "outputs": [
    {
     "data": {
      "text/plain": [
       "['__add__',\n",
       " '__class__',\n",
       " '__contains__',\n",
       " '__delattr__',\n",
       " '__dir__',\n",
       " '__doc__',\n",
       " '__eq__',\n",
       " '__format__',\n",
       " '__ge__',\n",
       " '__getattribute__',\n",
       " '__getitem__',\n",
       " '__getnewargs__',\n",
       " '__gt__',\n",
       " '__hash__',\n",
       " '__init__',\n",
       " '__init_subclass__',\n",
       " '__iter__',\n",
       " '__le__',\n",
       " '__len__',\n",
       " '__lt__',\n",
       " '__mod__',\n",
       " '__mul__',\n",
       " '__ne__',\n",
       " '__new__',\n",
       " '__reduce__',\n",
       " '__reduce_ex__',\n",
       " '__repr__',\n",
       " '__rmod__',\n",
       " '__rmul__',\n",
       " '__setattr__',\n",
       " '__sizeof__',\n",
       " '__str__',\n",
       " '__subclasshook__',\n",
       " 'capitalize',\n",
       " 'casefold',\n",
       " 'center',\n",
       " 'count',\n",
       " 'encode',\n",
       " 'endswith',\n",
       " 'expandtabs',\n",
       " 'find',\n",
       " 'format',\n",
       " 'format_map',\n",
       " 'index',\n",
       " 'isalnum',\n",
       " 'isalpha',\n",
       " 'isascii',\n",
       " 'isdecimal',\n",
       " 'isdigit',\n",
       " 'isidentifier',\n",
       " 'islower',\n",
       " 'isnumeric',\n",
       " 'isprintable',\n",
       " 'isspace',\n",
       " 'istitle',\n",
       " 'isupper',\n",
       " 'join',\n",
       " 'ljust',\n",
       " 'lower',\n",
       " 'lstrip',\n",
       " 'maketrans',\n",
       " 'partition',\n",
       " 'removeprefix',\n",
       " 'removesuffix',\n",
       " 'replace',\n",
       " 'rfind',\n",
       " 'rindex',\n",
       " 'rjust',\n",
       " 'rpartition',\n",
       " 'rsplit',\n",
       " 'rstrip',\n",
       " 'split',\n",
       " 'splitlines',\n",
       " 'startswith',\n",
       " 'strip',\n",
       " 'swapcase',\n",
       " 'title',\n",
       " 'translate',\n",
       " 'upper',\n",
       " 'zfill']"
      ]
     },
     "execution_count": 17,
     "metadata": {},
     "output_type": "execute_result"
    }
   ],
   "source": [
    "dir(str)"
   ]
  },
  {
   "cell_type": "code",
   "execution_count": 23,
   "id": "976276f3",
   "metadata": {},
   "outputs": [
    {
     "data": {
      "text/plain": [
       "'Shubam'"
      ]
     },
     "execution_count": 23,
     "metadata": {},
     "output_type": "execute_result"
    }
   ],
   "source": [
    "s=\"shubam\"\n",
    "s.capitalize()       #methods"
   ]
  },
  {
   "cell_type": "code",
   "execution_count": 22,
   "id": "1909f3f0",
   "metadata": {},
   "outputs": [
    {
     "data": {
      "text/plain": [
       "'@@madrid@@'"
      ]
     },
     "execution_count": 22,
     "metadata": {},
     "output_type": "execute_result"
    }
   ],
   "source": [
    "s=\"madrid\"\n",
    "s.center(10,'@')"
   ]
  },
  {
   "cell_type": "code",
   "execution_count": 24,
   "id": "acc3c4b7",
   "metadata": {},
   "outputs": [
    {
     "data": {
      "text/plain": [
       "'##madrid#'"
      ]
     },
     "execution_count": 24,
     "metadata": {},
     "output_type": "execute_result"
    }
   ],
   "source": [
    "s=\"madrid\"\n",
    "s.center(9,'#')"
   ]
  },
  {
   "cell_type": "code",
   "execution_count": 26,
   "id": "1a8d4e27",
   "metadata": {},
   "outputs": [
    {
     "data": {
      "text/plain": [
       "1"
      ]
     },
     "execution_count": 26,
     "metadata": {},
     "output_type": "execute_result"
    }
   ],
   "source": [
    "s=\"madrid\"               #important\n",
    "s.count('m')"
   ]
  },
  {
   "cell_type": "code",
   "execution_count": 28,
   "id": "2aa068dd",
   "metadata": {},
   "outputs": [
    {
     "data": {
      "text/plain": [
       "1"
      ]
     },
     "execution_count": 28,
     "metadata": {},
     "output_type": "execute_result"
    }
   ],
   "source": [
    "s=\"the cat is sitting on the table and is eating food\"\n",
    "s.count('cat')"
   ]
  },
  {
   "cell_type": "code",
   "execution_count": 29,
   "id": "c1b66b9b",
   "metadata": {},
   "outputs": [
    {
     "data": {
      "text/plain": [
       "2"
      ]
     },
     "execution_count": 29,
     "metadata": {},
     "output_type": "execute_result"
    }
   ],
   "source": [
    "s=\"the cat is sitting on the table and is eating food\"\n",
    "s.count('is')"
   ]
  },
  {
   "cell_type": "code",
   "execution_count": 30,
   "id": "9c8a1f20",
   "metadata": {},
   "outputs": [
    {
     "data": {
      "text/plain": [
       "b'madrid'"
      ]
     },
     "execution_count": 30,
     "metadata": {},
     "output_type": "execute_result"
    }
   ],
   "source": [
    "s=\"madrid\"\n",
    "s.encode()"
   ]
  },
  {
   "cell_type": "code",
   "execution_count": 31,
   "id": "8e2408df",
   "metadata": {},
   "outputs": [
    {
     "data": {
      "text/plain": [
       "True"
      ]
     },
     "execution_count": 31,
     "metadata": {},
     "output_type": "execute_result"
    }
   ],
   "source": [
    "s=\"madrid\"\n",
    "s.endswith(\"d\")"
   ]
  },
  {
   "cell_type": "code",
   "execution_count": 32,
   "id": "50f84900",
   "metadata": {},
   "outputs": [
    {
     "data": {
      "text/plain": [
       "False"
      ]
     },
     "execution_count": 32,
     "metadata": {},
     "output_type": "execute_result"
    }
   ],
   "source": [
    "s=\"madrid\"\n",
    "s.endswith(\"i\")"
   ]
  },
  {
   "cell_type": "code",
   "execution_count": 33,
   "id": "08a7232c",
   "metadata": {},
   "outputs": [
    {
     "data": {
      "text/plain": [
       "True"
      ]
     },
     "execution_count": 33,
     "metadata": {},
     "output_type": "execute_result"
    }
   ],
   "source": [
    "s=\"madrid\"\n",
    "s.startswith(\"m\")"
   ]
  },
  {
   "cell_type": "code",
   "execution_count": 34,
   "id": "459c7f97",
   "metadata": {},
   "outputs": [
    {
     "data": {
      "text/plain": [
       "'hello   world'"
      ]
     },
     "execution_count": 34,
     "metadata": {},
     "output_type": "execute_result"
    }
   ],
   "source": [
    "s=\"hello\\tworld\"\n",
    "s.expandtabs()"
   ]
  },
  {
   "cell_type": "code",
   "execution_count": 35,
   "id": "c8ce5595",
   "metadata": {},
   "outputs": [
    {
     "data": {
      "text/plain": [
       "2"
      ]
     },
     "execution_count": 35,
     "metadata": {},
     "output_type": "execute_result"
    }
   ],
   "source": [
    "s=\"ubaid\"\n",
    "s.find(\"a\")"
   ]
  },
  {
   "cell_type": "code",
   "execution_count": 37,
   "id": "b2cbbeb8",
   "metadata": {},
   "outputs": [
    {
     "data": {
      "text/plain": [
       "2"
      ]
     },
     "execution_count": 37,
     "metadata": {},
     "output_type": "execute_result"
    }
   ],
   "source": [
    "s.index(\"a\")"
   ]
  },
  {
   "cell_type": "code",
   "execution_count": 41,
   "id": "35e70128",
   "metadata": {},
   "outputs": [
    {
     "data": {
      "text/plain": [
       "4"
      ]
     },
     "execution_count": 41,
     "metadata": {},
     "output_type": "execute_result"
    }
   ],
   "source": [
    "a=\"the tiger roars\"\n",
    "a.find(\"tiger\")"
   ]
  },
  {
   "cell_type": "code",
   "execution_count": 42,
   "id": "0e6cd304",
   "metadata": {},
   "outputs": [
    {
     "data": {
      "text/plain": [
       "9"
      ]
     },
     "execution_count": 42,
     "metadata": {},
     "output_type": "execute_result"
    }
   ],
   "source": [
    "\"the lion king\".index(\"king\")"
   ]
  },
  {
   "cell_type": "code",
   "execution_count": 43,
   "id": "bb2eefe1",
   "metadata": {},
   "outputs": [
    {
     "data": {
      "text/plain": [
       "9"
      ]
     },
     "execution_count": 43,
     "metadata": {},
     "output_type": "execute_result"
    }
   ],
   "source": [
    "\"the lion king\".find(\"king\")"
   ]
  },
  {
   "cell_type": "code",
   "execution_count": null,
   "id": "fed0ba78",
   "metadata": {},
   "outputs": [],
   "source": [
    "given a string i want to print 3 and 5 index value of the string"
   ]
  },
  {
   "cell_type": "code",
   "execution_count": 45,
   "id": "900c921f",
   "metadata": {},
   "outputs": [
    {
     "name": "stdout",
     "output_type": "stream",
     "text": [
      "0\n",
      "1\n",
      "2\n",
      "3\n",
      "4\n",
      "5\n",
      "6\n",
      "7\n",
      "8\n",
      "9\n"
     ]
    }
   ],
   "source": [
    "s=\"helloworld\"\n",
    "for i in range(len(s)):\n",
    "    print(i)"
   ]
  },
  {
   "cell_type": "code",
   "execution_count": 46,
   "id": "c33fc231",
   "metadata": {},
   "outputs": [
    {
     "name": "stdout",
     "output_type": "stream",
     "text": [
      "l\n",
      "w\n"
     ]
    }
   ],
   "source": [
    "s=\"helloworld\"\n",
    "for i in range(len(s)):\n",
    "    if i==3 or i==5:\n",
    "        print(s[i])"
   ]
  },
  {
   "cell_type": "code",
   "execution_count": 47,
   "id": "7b2de5d4",
   "metadata": {},
   "outputs": [
    {
     "data": {
      "text/plain": [
       "'helloworld'"
      ]
     },
     "execution_count": 47,
     "metadata": {},
     "output_type": "execute_result"
    }
   ],
   "source": [
    "s.format()"
   ]
  },
  {
   "cell_type": "code",
   "execution_count": 51,
   "id": "5b806346",
   "metadata": {},
   "outputs": [
    {
     "name": "stdout",
     "output_type": "stream",
     "text": [
      "3 x 1= 3\n",
      "3 x 2= 6\n",
      "3 x 3= 9\n",
      "3 x 4= 12\n",
      "3 x 5= 15\n",
      "3 x 6= 18\n",
      "3 x 7= 21\n",
      "3 x 8= 24\n",
      "3 x 9= 27\n",
      "3 x 10= 30\n"
     ]
    }
   ],
   "source": [
    "n=3\n",
    "for i in range(1,11):\n",
    "    print(\"{} x {}= {}\".format(n,i,n*i))"
   ]
  },
  {
   "cell_type": "code",
   "execution_count": 53,
   "id": "03d20cc8",
   "metadata": {},
   "outputs": [
    {
     "name": "stdout",
     "output_type": "stream",
     "text": [
      "3 x 1= 3\n",
      "3 x 2= 6\n",
      "3 x 3= 9\n",
      "3 x 4= 12\n",
      "3 x 5= 15\n",
      "3 x 6= 18\n",
      "3 x 7= 21\n",
      "3 x 8= 24\n",
      "3 x 9= 27\n",
      "3 x 10= 30\n"
     ]
    }
   ],
   "source": [
    "n=3\n",
    "for i in range(1,11):\n",
    "    print(f\"{n} x {i}= {n*i}\")"
   ]
  },
  {
   "cell_type": "code",
   "execution_count": 55,
   "id": "27fb7d97",
   "metadata": {},
   "outputs": [
    {
     "data": {
      "text/plain": [
       "'HELLOWORLD'"
      ]
     },
     "execution_count": 55,
     "metadata": {},
     "output_type": "execute_result"
    }
   ],
   "source": [
    "s.upper()"
   ]
  },
  {
   "cell_type": "markdown",
   "id": "951aa910",
   "metadata": {},
   "source": [
    " #imp loops conditions and functions"
   ]
  },
  {
   "cell_type": "code",
   "execution_count": 2,
   "id": "164b8bc3",
   "metadata": {},
   "outputs": [
    {
     "data": {
      "text/plain": [
       "'Helloworld'"
      ]
     },
     "execution_count": 2,
     "metadata": {},
     "output_type": "execute_result"
    }
   ],
   "source": [
    "s=\"helloworld\"\n",
    "s.title()"
   ]
  },
  {
   "cell_type": "code",
   "execution_count": 4,
   "id": "08a07e09",
   "metadata": {},
   "outputs": [
    {
     "data": {
      "text/plain": [
       "['helloworld']"
      ]
     },
     "execution_count": 4,
     "metadata": {},
     "output_type": "execute_result"
    }
   ],
   "source": [
    "s.split()"
   ]
  },
  {
   "cell_type": "code",
   "execution_count": 5,
   "id": "b706f175",
   "metadata": {},
   "outputs": [
    {
     "data": {
      "text/plain": [
       "'HELLOWORLD'"
      ]
     },
     "execution_count": 5,
     "metadata": {},
     "output_type": "execute_result"
    }
   ],
   "source": [
    "s.swapcase()"
   ]
  },
  {
   "cell_type": "code",
   "execution_count": 13,
   "id": "629ad276",
   "metadata": {},
   "outputs": [
    {
     "data": {
      "text/plain": [
       "'hello aman'"
      ]
     },
     "execution_count": 13,
     "metadata": {},
     "output_type": "execute_result"
    }
   ],
   "source": [
    "s=\"HELLo aman\"\n",
    "s.lower()"
   ]
  },
  {
   "cell_type": "code",
   "execution_count": null,
   "id": "12322237",
   "metadata": {},
   "outputs": [],
   "source": []
  }
 ],
 "metadata": {
  "kernelspec": {
   "display_name": "Python 3 (ipykernel)",
   "language": "python",
   "name": "python3"
  },
  "language_info": {
   "codemirror_mode": {
    "name": "ipython",
    "version": 3
   },
   "file_extension": ".py",
   "mimetype": "text/x-python",
   "name": "python",
   "nbconvert_exporter": "python",
   "pygments_lexer": "ipython3",
   "version": "3.9.7"
  }
 },
 "nbformat": 4,
 "nbformat_minor": 5
}
