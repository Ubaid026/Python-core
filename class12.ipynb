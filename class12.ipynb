{
 "cells": [
  {
   "cell_type": "markdown",
   "id": "a407bb7e",
   "metadata": {},
   "source": [
    "# jump statements\n",
    "1)break   sudden stop\n",
    "2)continue   skip a step\n",
    "3)pass      does nothing"
   ]
  },
  {
   "cell_type": "code",
   "execution_count": 1,
   "id": "03870b02",
   "metadata": {},
   "outputs": [
    {
     "name": "stdout",
     "output_type": "stream",
     "text": [
      "Mad"
     ]
    }
   ],
   "source": [
    "for i in \"Madrid\":\n",
    "    if i==\"r\":\n",
    "        break\n",
    "        print(\"er\")\n",
    "    else:\n",
    "        print(i,end=\"\")"
   ]
  },
  {
   "cell_type": "code",
   "execution_count": 6,
   "id": "bfcc91f1",
   "metadata": {},
   "outputs": [
    {
     "name": "stdout",
     "output_type": "stream",
     "text": [
      "Madid"
     ]
    }
   ],
   "source": [
    "for i in \"Madrid\":\n",
    "    if i==\"r\":\n",
    "        continue\n",
    "        print(\"er\")\n",
    "    else:\n",
    "        print(i,end=\"\")"
   ]
  },
  {
   "cell_type": "code",
   "execution_count": 1,
   "id": "78eecce3",
   "metadata": {},
   "outputs": [
    {
     "name": "stdout",
     "output_type": "stream",
     "text": [
      "Madid"
     ]
    }
   ],
   "source": [
    "for i in \"Madrid\":\n",
    "    if i==\"r\":\n",
    "        pass\n",
    "    else:\n",
    "        print(i,end=\"\")"
   ]
  },
  {
   "cell_type": "code",
   "execution_count": null,
   "id": "54161a48",
   "metadata": {},
   "outputs": [],
   "source": [
    "wap to print the cube of numbers except 3 and 8"
   ]
  },
  {
   "cell_type": "code",
   "execution_count": 16,
   "id": "75f37961",
   "metadata": {},
   "outputs": [
    {
     "name": "stdout",
     "output_type": "stream",
     "text": [
      "1\n",
      "8\n",
      "64\n",
      "125\n",
      "216\n",
      "343\n",
      "729\n",
      "1000\n"
     ]
    }
   ],
   "source": [
    "i=1\n",
    "while i<=10:\n",
    "    if i==3 or i==8:\n",
    "        i+=1\n",
    "        continue\n",
    "    else:\n",
    "        print(i**3)\n",
    "        i+=1\n",
    "    \n",
    "    "
   ]
  },
  {
   "cell_type": "code",
   "execution_count": null,
   "id": "96e95006",
   "metadata": {},
   "outputs": [],
   "source": [
    "WAP to print \"spiderman superman\"\n",
    "this string without space"
   ]
  },
  {
   "cell_type": "code",
   "execution_count": 26,
   "id": "9723139e",
   "metadata": {},
   "outputs": [
    {
     "name": "stdout",
     "output_type": "stream",
     "text": [
      "spidermansuperman"
     ]
    }
   ],
   "source": [
    "l=[\"spiderman\",\"superman\"]\n",
    "for i in l:\n",
    "    if i==\"\":\n",
    "        continue\n",
    "    else:\n",
    "        print(i,end=\"\")"
   ]
  },
  {
   "cell_type": "markdown",
   "id": "fbcc6586",
   "metadata": {},
   "source": [
    "# infinite while loop"
   ]
  },
  {
   "cell_type": "code",
   "execution_count": 34,
   "id": "3dc9df32",
   "metadata": {},
   "outputs": [
    {
     "name": "stdout",
     "output_type": "stream",
     "text": [
      "1728\n",
      "1000\n",
      "729\n",
      "1331\n",
      "2197\n"
     ]
    }
   ],
   "source": [
    "while True:\n",
    "    l=[12,10,9,11,13,22,15]\n",
    "    for i in l:\n",
    "        if i**3>8000:\n",
    "            break\n",
    "        else:\n",
    "            print(i**3)\n",
    "    break       "
   ]
  },
  {
   "cell_type": "code",
   "execution_count": 2,
   "id": "4bba77fd",
   "metadata": {},
   "outputs": [
    {
     "name": "stdout",
     "output_type": "stream",
     "text": [
      "Enter username:ubaid12\n",
      "Enter password:123456\n",
      "logged in\n"
     ]
    }
   ],
   "source": [
    "c=0\n",
    "while True:\n",
    "    u=input(\"Enter username:\")\n",
    "    p=input(\"Enter password:\")\n",
    "    if u==\"ubaid12\" and p==\"123456\":\n",
    "        print(\"logged in\")\n",
    "        break\n",
    "    else:\n",
    "        print(\"incorrect\")\n",
    "        c=c+1\n",
    "    if c==3:\n",
    "        print(\"blocked\")\n",
    "        break"
   ]
  },
  {
   "cell_type": "code",
   "execution_count": null,
   "id": "9951628b",
   "metadata": {},
   "outputs": [],
   "source": []
  }
 ],
 "metadata": {
  "kernelspec": {
   "display_name": "Python 3 (ipykernel)",
   "language": "python",
   "name": "python3"
  },
  "language_info": {
   "codemirror_mode": {
    "name": "ipython",
    "version": 3
   },
   "file_extension": ".py",
   "mimetype": "text/x-python",
   "name": "python",
   "nbconvert_exporter": "python",
   "pygments_lexer": "ipython3",
   "version": "3.9.7"
  }
 },
 "nbformat": 4,
 "nbformat_minor": 5
}
