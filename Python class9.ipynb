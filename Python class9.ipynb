{
 "cells": [
  {
   "cell_type": "code",
   "execution_count": 5,
   "id": "f6bfe292",
   "metadata": {},
   "outputs": [
    {
     "name": "stdout",
     "output_type": "stream",
     "text": [
      "20\n",
      "10\n"
     ]
    }
   ],
   "source": [
    "a=10\n",
    "b=20\n",
    "c=a\n",
    "a=b\n",
    "b=c\n",
    "print(a)\n",
    "print(b)"
   ]
  },
  {
   "cell_type": "code",
   "execution_count": 10,
   "id": "3476b213",
   "metadata": {},
   "outputs": [
    {
     "name": "stdout",
     "output_type": "stream",
     "text": [
      "0\n",
      "1\n",
      "1\n",
      "2\n",
      "3\n",
      "5\n",
      "8\n",
      "13\n",
      "21\n",
      "34\n"
     ]
    }
   ],
   "source": [
    "a=0\n",
    "b=1\n",
    "for i in range(1,11):\n",
    "    c=a\n",
    "    a=b\n",
    "    b=a+c\n",
    "    print(c)"
   ]
  },
  {
   "cell_type": "code",
   "execution_count": null,
   "id": "e67112f3",
   "metadata": {},
   "outputs": [],
   "source": [
    "WAP to take input from a user regarding a number and count it"
   ]
  },
  {
   "cell_type": "code",
   "execution_count": 27,
   "id": "62f3bb73",
   "metadata": {},
   "outputs": [
    {
     "name": "stdout",
     "output_type": "stream",
     "text": [
      "Enter the no:899\n",
      "3\n"
     ]
    }
   ],
   "source": [
    "n=int(input(\"Enter the no:\"))\n",
    "c=0\n",
    "n=str(n)\n",
    "for i in n:\n",
    "    c=c+1\n",
    "print(c)"
   ]
  },
  {
   "cell_type": "code",
   "execution_count": 125,
   "id": "e9594b9e",
   "metadata": {},
   "outputs": [
    {
     "name": "stdout",
     "output_type": "stream",
     "text": [
      "mercury\n",
      "jupiter\n"
     ]
    }
   ],
   "source": [
    "p=[\"mercury\",\"venus\",\"earth\",\"mars\",\"jupiter\",]\n",
    "for i in p:\n",
    "    c=0\n",
    "    for j in i:\n",
    "        c=c+1\n",
    "    if c>5:\n",
    "        print(i)\n",
    "\n"
   ]
  },
  {
   "cell_type": "code",
   "execution_count": null,
   "id": "b6e8fad1",
   "metadata": {},
   "outputs": [],
   "source": [
    "take a input n in int, convert that to str,then to float,then to int and at last\n",
    "string again"
   ]
  },
  {
   "cell_type": "code",
   "execution_count": 4,
   "id": "45fd207b",
   "metadata": {},
   "outputs": [
    {
     "name": "stdout",
     "output_type": "stream",
     "text": [
      "Enter The Number:00\n"
     ]
    },
    {
     "data": {
      "text/plain": [
       "'0'"
      ]
     },
     "execution_count": 4,
     "metadata": {},
     "output_type": "execute_result"
    }
   ],
   "source": [
    "n=int(input(\"Enter The Number:\"))\n",
    "a=str(int(float(str(n))))\n",
    "a\n",
    "\n"
   ]
  },
  {
   "cell_type": "code",
   "execution_count": null,
   "id": "265449d4",
   "metadata": {},
   "outputs": [],
   "source": [
    "given a list of numbers square the even nos and cube the odd numbers \n",
    "list is[11,9,10,15,6,78]"
   ]
  },
  {
   "cell_type": "code",
   "execution_count": 104,
   "id": "d65c2ba8",
   "metadata": {},
   "outputs": [
    {
     "name": "stdout",
     "output_type": "stream",
     "text": [
      "11 is Odd   1331\n",
      "9 is Odd   729\n",
      "10 is Even   100\n",
      "15 is Odd   3375\n",
      "6 is Even   36\n",
      "78 is Even   6084\n"
     ]
    }
   ],
   "source": [
    "l=[11,9,10,15,6,78]\n",
    "for i in l:\n",
    "    if i%2==0:\n",
    "        print(i,\"is Even\",\" \",i*i)\n",
    "    else:\n",
    "        print(i,\"is Odd\",\" \",i*i*i)"
   ]
  },
  {
   "cell_type": "code",
   "execution_count": null,
   "id": "b8d2ec1d",
   "metadata": {},
   "outputs": [],
   "source": []
  }
 ],
 "metadata": {
  "kernelspec": {
   "display_name": "Python 3 (ipykernel)",
   "language": "python",
   "name": "python3"
  },
  "language_info": {
   "codemirror_mode": {
    "name": "ipython",
    "version": 3
   },
   "file_extension": ".py",
   "mimetype": "text/x-python",
   "name": "python",
   "nbconvert_exporter": "python",
   "pygments_lexer": "ipython3",
   "version": "3.9.7"
  }
 },
 "nbformat": 4,
 "nbformat_minor": 5
}
