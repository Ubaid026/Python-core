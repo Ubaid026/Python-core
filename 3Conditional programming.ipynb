{
 "cells": [
  {
   "cell_type": "code",
   "execution_count": 34,
   "id": "71ae5bd5",
   "metadata": {},
   "outputs": [
    {
     "name": "stdout",
     "output_type": "stream",
     "text": [
      "i want to play cricket\n",
      "Enter the wheather:rainy\n",
      "not play\n"
     ]
    }
   ],
   "source": [
    "print(\"i want to play cricket\")     #condition\n",
    "wheather=input(\"Enter the wheather:\")\n",
    "if wheather==\"sunny\":\n",
    "    print(\"lets us play\")\n",
    "elif wheather==\"rainy\":\n",
    "    print(\"not play\")\n"
   ]
  },
  {
   "cell_type": "code",
   "execution_count": null,
   "id": "37c36174",
   "metadata": {},
   "outputs": [],
   "source": [
    "#WAP to take input from the user regarding the weight and height the calculate bmi\n",
    "and print BMI to be underweight(o-16),normal(16-20),overweight(20-25),above25 obese"
   ]
  },
  {
   "cell_type": "code",
   "execution_count": 3,
   "id": "cfe5b7e8",
   "metadata": {},
   "outputs": [
    {
     "name": "stdout",
     "output_type": "stream",
     "text": [
      "Enter the weight:12\n",
      "enter the height:12.4\n",
      "underweight 0.07804370447450572\n"
     ]
    }
   ],
   "source": [
    "w=float(input(\"Enter the weight:\"))\n",
    "h=float(input(\"enter the height:\"))\n",
    "BMI=w/h**2\n",
    "if BMI>0 and BMI<=16:\n",
    "    print(\"underweight\",BMI)\n",
    "elif BMI>16 and BMI<=20:\n",
    "    print(\"normal\",BMI)\n",
    "elif 25>=BMI>20:\n",
    "    print(\"overweight\",BMI)\n",
    "else:\n",
    "    print(\"obese\",BMI)"
   ]
  },
  {
   "cell_type": "code",
   "execution_count": 4,
   "id": "86de1288",
   "metadata": {},
   "outputs": [],
   "source": [
    "#WAP to give grades to students based on marks from user\n",
    "\n"
   ]
  },
  {
   "cell_type": "code",
   "execution_count": 5,
   "id": "019e60d9",
   "metadata": {},
   "outputs": [
    {
     "ename": "SyntaxError",
     "evalue": "cannot assign to comparison (Temp/ipykernel_10952/3273512582.py, line 2)",
     "output_type": "error",
     "traceback": [
      "\u001b[1;36m  File \u001b[1;32m\"C:\\Users\\dell\\AppData\\Local\\Temp/ipykernel_10952/3273512582.py\"\u001b[1;36m, line \u001b[1;32m2\u001b[0m\n\u001b[1;33m    marks>90 = A+\u001b[0m\n\u001b[1;37m    ^\u001b[0m\n\u001b[1;31mSyntaxError\u001b[0m\u001b[1;31m:\u001b[0m cannot assign to comparison\n"
     ]
    }
   ],
   "source": [
    "#marks=int(input())\n",
    "marks>90 = A+\n",
    "marks=80-90 a\n",
    "marks=70-80 b\n",
    "marks=60-70 c\n",
    "marks=50-60 d\n",
    "marks less than 50 fail"
   ]
  },
  {
   "cell_type": "raw",
   "id": "7243e7c5",
   "metadata": {},
   "source": [
    "\n",
    "\n"
   ]
  },
  {
   "cell_type": "markdown",
   "id": "0993d4bc",
   "metadata": {},
   "source": [
    "marks=int(input(\"enter the marks:\"))"
   ]
  },
  {
   "cell_type": "code",
   "execution_count": 10,
   "id": "2d309917",
   "metadata": {},
   "outputs": [
    {
     "name": "stdout",
     "output_type": "stream",
     "text": [
      "enter the marks:45\n",
      "fail\n"
     ]
    }
   ],
   "source": [
    "marks=int(input(\"enter the marks:\"))\n",
    "if marks>90:\n",
    "    print(\"A+\")\n",
    "elif marks<90 and marks>80:\n",
    "    print(\"A\")\n",
    "elif marks<80 and marks>70:\n",
    "    print(\"B\")\n",
    "elif marks<70 and marks>60:\n",
    "    print(\"C\")\n",
    "elif marks<60 and marks>=50:\n",
    "    print(\"D\")\n",
    "else:\n",
    "    print(\"fail\")"
   ]
  },
  {
   "cell_type": "code",
   "execution_count": null,
   "id": "9dfb7ea2",
   "metadata": {},
   "outputs": [],
   "source": [
    "#election are to be happen in delhi and we need a cm,\n",
    "eligible conditions for the post of cm are :\n",
    "    1)no of criminal records=0\n",
    "    2)he should a past cm=\"yes\"\n",
    "    3)education=\"graduate\"\n",
    "    4)age>45"
   ]
  },
  {
   "cell_type": "code",
   "execution_count": 35,
   "id": "6e5f1256",
   "metadata": {},
   "outputs": [
    {
     "name": "stdout",
     "output_type": "stream",
     "text": [
      "enter the no of criminal record:0\n",
      "yes or no:yes\n",
      "graduate or not:no\n",
      "enter the age:45\n",
      "not eligible for cm\n"
     ]
    }
   ],
   "source": [
    "criminal_record=int(input(\"enter the no of criminal record:\"))\n",
    "past_cm=input(\"yes or no:\")\n",
    "edu=input(\"graduate or not:\")\n",
    "age=int(input(\"enter the age:\"))\n",
    "if criminal_record==0 and past_cm==\"yes\" and edu==\"yes\" and age>45:\n",
    "    print(\"eligible for cm\")\n",
    "else:\n",
    "    print(\"not eligible for cm\")"
   ]
  },
  {
   "cell_type": "code",
   "execution_count": null,
   "id": "0a42bd69",
   "metadata": {},
   "outputs": [],
   "source": [
    "#WAP to take input regarding the TRP of a channel:\n",
    "    if the trp>10k=5\n",
    "    if it is between 8-10=4\n",
    "    if it is between 6-8=3\n",
    "                     4-6=2\n",
    "        2-4=1\n",
    "        "
   ]
  },
  {
   "cell_type": "code",
   "execution_count": null,
   "id": "602d8ae9",
   "metadata": {},
   "outputs": [],
   "source": [
    "wap to check if number is divisible by 5 or not\n",
    "if it is div by 5 print \"hooray\"\n",
    "if not print \"bad luck\"      modulas operation"
   ]
  },
  {
   "cell_type": "code",
   "execution_count": 30,
   "id": "ac157271",
   "metadata": {},
   "outputs": [
    {
     "name": "stdout",
     "output_type": "stream",
     "text": [
      "Enter the no.:22\n",
      "bad luck\n"
     ]
    }
   ],
   "source": [
    "a=int(input(\"Enter the no.:\"))\n",
    "if a%5==0:\n",
    "    print(\"hooray\")\n",
    "else:\n",
    "    print(\"bad luck\")"
   ]
  },
  {
   "cell_type": "code",
   "execution_count": 32,
   "id": "842b0cd0",
   "metadata": {},
   "outputs": [
    {
     "name": "stdout",
     "output_type": "stream",
     "text": [
      "Enter the trp:12000\n",
      "5 star\n"
     ]
    }
   ],
   "source": [
    "trp=int(input(\"Enter the trp:\"))\n",
    "if trp>=10000:\n",
    "    print(\"5 star\")\n",
    "elif trp>=8000 and trp<10000:\n",
    "    print(\"4 star\")\n",
    "elif trp>=6000 and trp<8000:\n",
    "    print(\"3 star\")\n",
    "elif trp>=4000 and trp<6000:\n",
    "    print(\"2 star\")\n",
    "elif trp>=2000 and trp<4000:\n",
    "    print(\"1 star\")\n",
    "else:\n",
    "    print(\"0 star\")"
   ]
  },
  {
   "cell_type": "code",
   "execution_count": 1,
   "id": "f033d356",
   "metadata": {},
   "outputs": [
    {
     "name": "stdout",
     "output_type": "stream",
     "text": [
      "END OF CLASS\n"
     ]
    }
   ],
   "source": [
    "print(\"END OF CLASS\")"
   ]
  },
  {
   "cell_type": "code",
   "execution_count": null,
   "id": "788d1324",
   "metadata": {},
   "outputs": [],
   "source": []
  }
 ],
 "metadata": {
  "kernelspec": {
   "display_name": "Python 3 (ipykernel)",
   "language": "python",
   "name": "python3"
  },
  "language_info": {
   "codemirror_mode": {
    "name": "ipython",
    "version": 3
   },
   "file_extension": ".py",
   "mimetype": "text/x-python",
   "name": "python",
   "nbconvert_exporter": "python",
   "pygments_lexer": "ipython3",
   "version": "3.9.7"
  }
 },
 "nbformat": 4,
 "nbformat_minor": 5
}
