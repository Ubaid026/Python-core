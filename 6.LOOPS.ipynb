{
 "cells": [
  {
   "cell_type": "code",
   "execution_count": null,
   "id": "0f6d559c",
   "metadata": {},
   "outputs": [],
   "source": [
    "WAP to take input from the user regarding the course\n",
    "if course is data science ask him which he wants to learn first choices are\n",
    "python ,sql,ml,stats and tableau\n",
    "if he chooses python ,ask him the level at present,basic,intermediate and advanced\n",
    "if he is at intermediate level ask him to do  practice on hackerrearth,\n",
    "if he is at advanced level he should apply for jobs of python developer\n",
    "tableau go for business intelligence roles\n",
    "ml apply for ml engineer"
   ]
  },
  {
   "cell_type": "code",
   "execution_count": 3,
   "id": "af52752f",
   "metadata": {},
   "outputs": [
    {
     "name": "stdout",
     "output_type": "stream",
     "text": [
      "Enter ur course:data science\n",
      "what u want to learn:tableau\n",
      "go for business intelligence roles\n"
     ]
    }
   ],
   "source": [
    "course=input(\"Enter ur course:\")\n",
    "if course==\"data science\":\n",
    "    choices=input(\"what u want to learn:\")\n",
    "    if choices==\"python\":\n",
    "        level=input(\"what is your level:\")\n",
    "        if level==\"intermediate\":\n",
    "            print(\"Do practice on hackerrearth\")\n",
    "        elif level==\"advanced\":\n",
    "            print(\"apply for jobs of python developer\")\n",
    "        else:\n",
    "            print(\"learn\")\n",
    "    elif choices==\"tableau\":\n",
    "        print(\"go for business intelligence roles\")\n",
    "    elif choices==\"ML\":\n",
    "        print(\"apply for ML engineer \")"
   ]
  },
  {
   "cell_type": "markdown",
   "id": "09972d50",
   "metadata": {},
   "source": [
    "# loops\n",
    "-for loop \n",
    "\n",
    "-while loop"
   ]
  },
  {
   "cell_type": "code",
   "execution_count": null,
   "id": "f2bfc6e5",
   "metadata": {},
   "outputs": [],
   "source": [
    "#range(start,stop,step)"
   ]
  },
  {
   "cell_type": "code",
   "execution_count": 4,
   "id": "6e592597",
   "metadata": {},
   "outputs": [
    {
     "data": {
      "text/plain": [
       "[1, 2, 3, 4, 5]"
      ]
     },
     "execution_count": 4,
     "metadata": {},
     "output_type": "execute_result"
    }
   ],
   "source": [
    "list(range(1,6))"
   ]
  },
  {
   "cell_type": "code",
   "execution_count": 5,
   "id": "4616f3ee",
   "metadata": {},
   "outputs": [
    {
     "name": "stdout",
     "output_type": "stream",
     "text": [
      "1\n",
      "2\n",
      "3\n",
      "4\n",
      "5\n"
     ]
    }
   ],
   "source": [
    "for i in range(1,6):\n",
    "    print(i)"
   ]
  },
  {
   "cell_type": "code",
   "execution_count": 7,
   "id": "421d6b3a",
   "metadata": {},
   "outputs": [
    {
     "name": "stdout",
     "output_type": "stream",
     "text": [
      "1\n",
      "2\n",
      "3\n",
      "4\n",
      "5\n",
      "6\n",
      "7\n",
      "8\n",
      "9\n",
      "10\n"
     ]
    }
   ],
   "source": [
    "for i in range(1,11):\n",
    "    print(i)"
   ]
  },
  {
   "cell_type": "code",
   "execution_count": 12,
   "id": "6bf0e479",
   "metadata": {},
   "outputs": [
    {
     "name": "stdout",
     "output_type": "stream",
     "text": [
      "10\n",
      "9\n",
      "8\n",
      "7\n",
      "6\n",
      "5\n",
      "4\n",
      "3\n",
      "2\n",
      "1\n"
     ]
    }
   ],
   "source": [
    "for i in range(10,0,-1):\n",
    "    print(i)"
   ]
  },
  {
   "cell_type": "code",
   "execution_count": 16,
   "id": "4ba643c4",
   "metadata": {},
   "outputs": [
    {
     "name": "stdout",
     "output_type": "stream",
     "text": [
      "5\n",
      "10\n",
      "15\n",
      "20\n",
      "25\n",
      "30\n",
      "35\n",
      "40\n",
      "45\n",
      "50\n"
     ]
    }
   ],
   "source": [
    "for i in range(5,55,5):\n",
    "    print(i)"
   ]
  },
  {
   "cell_type": "code",
   "execution_count": 4,
   "id": "865b2086",
   "metadata": {},
   "outputs": [
    {
     "name": "stdout",
     "output_type": "stream",
     "text": [
      "Enter the no.:8\n",
      "80\n",
      "72\n",
      "64\n",
      "56\n",
      "48\n",
      "40\n",
      "32\n",
      "24\n",
      "16\n",
      "8\n"
     ]
    }
   ],
   "source": [
    "n=int(input(\"Enter the no.:\"))\n",
    "for i in range(10,0,-1):\n",
    "    print(i*n)"
   ]
  },
  {
   "cell_type": "code",
   "execution_count": 36,
   "id": "6258b486",
   "metadata": {},
   "outputs": [
    {
     "name": "stdout",
     "output_type": "stream",
     "text": [
      "odd: 1\n",
      "even: 2\n",
      "odd: 3\n",
      "even: 4\n",
      "odd: 5\n",
      "even: 6\n",
      "odd: 7\n",
      "even: 8\n",
      "odd: 9\n",
      "even: 10\n",
      "odd: 11\n",
      "even: 12\n",
      "odd: 13\n",
      "even: 14\n",
      "odd: 15\n",
      "even: 16\n",
      "odd: 17\n",
      "even: 18\n",
      "odd: 19\n",
      "even: 20\n"
     ]
    }
   ],
   "source": [
    "for i in range(1,21):\n",
    "    if i%2==0:\n",
    "        print(\"even:\",i)\n",
    "    else:\n",
    "        print(\"odd:\",i)"
   ]
  },
  {
   "cell_type": "code",
   "execution_count": null,
   "id": "1f5fc7ff",
   "metadata": {},
   "outputs": [],
   "source": [
    "wap to count no of factors of a no entered by a user"
   ]
  },
  {
   "cell_type": "code",
   "execution_count": 5,
   "id": "394ef247",
   "metadata": {},
   "outputs": [
    {
     "name": "stdout",
     "output_type": "stream",
     "text": [
      "enter the number:67\n",
      "1\n",
      "67\n",
      "no of factors: 2\n"
     ]
    }
   ],
   "source": [
    "n=int(input(\"enter the number:\"))\n",
    "count=0\n",
    "for i in range(1,n+1):\n",
    "    if n%i==0:\n",
    "        print(i)\n",
    "        count=count+1\n",
    "print(\"no of factors:\",count)\n",
    "        "
   ]
  },
  {
   "cell_type": "code",
   "execution_count": null,
   "id": "201538d0",
   "metadata": {},
   "outputs": [],
   "source": [
    "w3resourses"
   ]
  },
  {
   "cell_type": "code",
   "execution_count": null,
   "id": "6c17b181",
   "metadata": {},
   "outputs": [],
   "source": []
  }
 ],
 "metadata": {
  "kernelspec": {
   "display_name": "Python 3 (ipykernel)",
   "language": "python",
   "name": "python3"
  },
  "language_info": {
   "codemirror_mode": {
    "name": "ipython",
    "version": 3
   },
   "file_extension": ".py",
   "mimetype": "text/x-python",
   "name": "python",
   "nbconvert_exporter": "python",
   "pygments_lexer": "ipython3",
   "version": "3.9.7"
  }
 },
 "nbformat": 4,
 "nbformat_minor": 5
}
