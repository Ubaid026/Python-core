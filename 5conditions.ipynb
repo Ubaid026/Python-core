{
 "cells": [
  {
   "cell_type": "code",
   "execution_count": null,
   "id": "7f70457b",
   "metadata": {},
   "outputs": [],
   "source": [
    "WAP"
   ]
  },
  {
   "cell_type": "code",
   "execution_count": 7,
   "id": "965efba2",
   "metadata": {},
   "outputs": [
    {
     "name": "stdout",
     "output_type": "stream",
     "text": [
      "Enter the no. of sides:0\n",
      "Enter the radius:3\n",
      "28.26\n"
     ]
    }
   ],
   "source": [
    "side=int(input(\"Enter the no. of sides:\"))\n",
    "if side==0:\n",
    "    radius=float(input(\"Enter the radius:\"))\n",
    "    ar_cir=3.14*radius**2\n",
    "    print(ar_cir)\n",
    "elif side==1:\n",
    "    sq_side=int(input(\"Enter the side of the square:\"))\n",
    "    print(sq_side*sq_side)\n",
    "elif side==2:\n",
    "    l=int(input(\"enter length:\"))\n",
    "    b=int(input(\"enter breadth:\"))\n",
    "    print(l*b)\n"
   ]
  },
  {
   "cell_type": "code",
   "execution_count": null,
   "id": "1bbb7f4e",
   "metadata": {},
   "outputs": [],
   "source": [
    "WAP to check if entered number is positive ,negative or zero,\n",
    "if the number is positive ,multiply that with 2 and if the product is greater than 40,\n",
    "print 'bigger' else print \"smaller\". similarlly if the entered no is zero add any multiple of 7\n",
    "to it and check the sum is div by 3.print \"done\" else print not done\n",
    "and if the number is negative then divide it with negative multiple by 4.if the result is greater than 20,print 'got that'\n",
    "else print \"try again\""
   ]
  },
  {
   "cell_type": "code",
   "execution_count": 8,
   "id": "f1189fd2",
   "metadata": {},
   "outputs": [
    {
     "name": "stdout",
     "output_type": "stream",
     "text": [
      "enter the number:5\n",
      "positive\n"
     ]
    }
   ],
   "source": [
    "number=int(input(\"enter the number:\"))\n",
    "if number>0:\n",
    "    print(\"positive\")\n",
    "elif number<0:\n",
    "    print(\"negative\")\n",
    "else:x\n",
    "    print(\"0\")\n",
    "if number>0 and "
   ]
  },
  {
   "cell_type": "code",
   "execution_count": 35,
   "id": "a2b7ae97",
   "metadata": {},
   "outputs": [
    {
     "ename": "SyntaxError",
     "evalue": "invalid syntax (Temp/ipykernel_12408/3177461141.py, line 6)",
     "output_type": "error",
     "traceback": [
      "\u001b[1;36m  File \u001b[1;32m\"C:\\Users\\dell\\AppData\\Local\\Temp/ipykernel_12408/3177461141.py\"\u001b[1;36m, line \u001b[1;32m6\u001b[0m\n\u001b[1;33m    elif number==0:\u001b[0m\n\u001b[1;37m    ^\u001b[0m\n\u001b[1;31mSyntaxError\u001b[0m\u001b[1;31m:\u001b[0m invalid syntax\n"
     ]
    }
   ],
   "source": [
    "number=int(input(\"Enter the number:\"))\n",
    "if number>0 and number*2 and number*2>40:\n",
    "        print(\"bigger\")\n",
    "else:\n",
    "        print(\"smaller\")\n",
    "elif number==0:\n",
    "    sum=number+14\n",
    "    if sum%3==0:\n",
    "        print(\"done\")"
   ]
  },
  {
   "cell_type": "code",
   "execution_count": null,
   "id": "53b9ed96",
   "metadata": {},
   "outputs": [],
   "source": []
  },
  {
   "cell_type": "code",
   "execution_count": 42,
   "id": "0369b4fe",
   "metadata": {},
   "outputs": [
    {
     "name": "stdout",
     "output_type": "stream",
     "text": [
      "Enter the no.:-2000\n",
      "got that\n"
     ]
    }
   ],
   "source": [
    "num=int(input(\"Enter the no.:\"))\n",
    "if num>0:\n",
    "    num1=num*2\n",
    "    if num1>40:\n",
    "        print(\"bigger\")\n",
    "    else:\n",
    "        print(\"smaller\")\n",
    "elif num==0:\n",
    "    sum1=num+21\n",
    "    if sum1%3==0:\n",
    "        print(\"done\")\n",
    "    else:\n",
    "        print(\"not done\")\n",
    "elif num<0:\n",
    "    div=num/-8\n",
    "    if div>20:\n",
    "        print(\"got that\")\n",
    "    else:\n",
    "        print(\"try again\")"
   ]
  },
  {
   "cell_type": "code",
   "execution_count": 25,
   "id": "28f97df8",
   "metadata": {},
   "outputs": [
    {
     "ename": "SyntaxError",
     "evalue": "invalid syntax (Temp/ipykernel_4284/3399035598.py, line 3)",
     "output_type": "error",
     "traceback": [
      "\u001b[1;36m  File \u001b[1;32m\"C:\\Users\\dell\\AppData\\Local\\Temp/ipykernel_4284/3399035598.py\"\u001b[1;36m, line \u001b[1;32m3\u001b[0m\n\u001b[1;33m    if he chooses indian give him choices of sherwni and kurtha\u001b[0m\n\u001b[1;37m          ^\u001b[0m\n\u001b[1;31mSyntaxError\u001b[0m\u001b[1;31m:\u001b[0m invalid syntax\n"
     ]
    }
   ],
   "source": [
    "#wap to take input from the user regarding his\\her cloth choice\n",
    "indian and western\n",
    "if he chooses indian give him choices of sherwni and kurtha\n",
    "print prices of sherwani or kurta\n",
    "for females we saree and suit.\n",
    "then print the price\n",
    "western jeans trouser for men and their prices\n",
    "females jeans ,skirt,frock,trouser and their price\n"
   ]
  },
  {
   "cell_type": "code",
   "execution_count": 2,
   "id": "d6110e1b",
   "metadata": {},
   "outputs": [
    {
     "name": "stdout",
     "output_type": "stream",
     "text": [
      "enter the gender:female\n",
      "Indian or western:western\n",
      "jeans, skirt or trouser:trouser\n",
      "Rs 2000\n"
     ]
    }
   ],
   "source": [
    "gender=input(\"enter the gender:\")\n",
    "if gender==\"male\":\n",
    "    choice=input(\"Indian or western:\")\n",
    "    if choice==\"Indian\":\n",
    "        type=input(\"sherwani or kurta:\")\n",
    "        if type==\"kurta\":\n",
    "            print(\"Rs 10000\")\n",
    "        else:\n",
    "            print(\"Rs 14000\")\n",
    "    elif choice==\"western\":\n",
    "        type=input(\"jeans or trousers\")\n",
    "        if type==\"jeans\":\n",
    "            print(\"Rs 5000\")\n",
    "        else:\n",
    "            print(\"RS 3000\")\n",
    "elif gender==\"female\":\n",
    "    choice=input(\"Indian or western:\")\n",
    "    if choice==\"Indian\":\n",
    "        type=input(\"saree or suit\")\n",
    "        if type==\"saree\":\n",
    "            print(\"Rs 200000\")\n",
    "        else:\n",
    "            print(\"Rs 25000\")\n",
    "    elif choice==\"western\":\n",
    "        type=input(\"jeans, skirt or trouser:\")\n",
    "        if type==\"jeans\":\n",
    "            print(\"RS 1000\")\n",
    "        elif type==\"skirt\":\n",
    "            print(\"Rs 1500\")\n",
    "        else:\n",
    "            print(\"Rs 2000\")"
   ]
  },
  {
   "cell_type": "code",
   "execution_count": null,
   "id": "6c156560",
   "metadata": {},
   "outputs": [],
   "source": []
  }
 ],
 "metadata": {
  "kernelspec": {
   "display_name": "Python 3 (ipykernel)",
   "language": "python",
   "name": "python3"
  },
  "language_info": {
   "codemirror_mode": {
    "name": "ipython",
    "version": 3
   },
   "file_extension": ".py",
   "mimetype": "text/x-python",
   "name": "python",
   "nbconvert_exporter": "python",
   "pygments_lexer": "ipython3",
   "version": "3.9.7"
  }
 },
 "nbformat": 4,
 "nbformat_minor": 5
}
