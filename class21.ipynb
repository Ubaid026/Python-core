{
 "cells": [
  {
   "cell_type": "markdown",
   "id": "48c412f5",
   "metadata": {},
   "source": [
    "# Object Oriented Programming"
   ]
  },
  {
   "cell_type": "code",
   "execution_count": 1,
   "id": "51972341",
   "metadata": {},
   "outputs": [
    {
     "name": "stdout",
     "output_type": "stream",
     "text": [
      "<class 'list'>\n"
     ]
    }
   ],
   "source": [
    "l=[1,2,3]\n",
    "print(type(l))"
   ]
  },
  {
   "cell_type": "code",
   "execution_count": 29,
   "id": "8204864f",
   "metadata": {},
   "outputs": [
    {
     "data": {
      "text/plain": [
       "'mercedes'"
      ]
     },
     "execution_count": 29,
     "metadata": {},
     "output_type": "execute_result"
    }
   ],
   "source": [
    "class car:\n",
    "    car_brand=\"mercedes\"\n",
    "c=car()\n",
    "c.car_brand"
   ]
  },
  {
   "cell_type": "code",
   "execution_count": 32,
   "id": "0dc2b0f0",
   "metadata": {},
   "outputs": [
    {
     "name": "stdout",
     "output_type": "stream",
     "text": [
      "the glseries of black color is having top speed of 220\n"
     ]
    }
   ],
   "source": [
    "class car:\n",
    "    car_brand=\"M\"\n",
    "    def __init__(self,name,color,ts):\n",
    "        self.name=name\n",
    "        self.color=color\n",
    "        self.ts=ts\n",
    "    def hatchback(self):\n",
    "            print(f\"the {self.name} of {self.color} color is having top speed of {self.ts}\")\n",
    "            \n",
    "c=car(\"glseries\",\"black\",220)\n",
    "c.hatchback()"
   ]
  },
  {
   "cell_type": "code",
   "execution_count": 42,
   "id": "e4a898d2",
   "metadata": {},
   "outputs": [
    {
     "name": "stdout",
     "output_type": "stream",
     "text": [
      "8\n",
      "9\n",
      "the perimeter is: 34\n",
      "the area is :  72\n"
     ]
    }
   ],
   "source": [
    "class shape:\n",
    "    shape_type = \"rectangle\"\n",
    "    def __init__(self,length,breadth):\n",
    "        self.length=length\n",
    "        self.breadth=breadth\n",
    "    def pr(self):\n",
    "        print(\"the perimeter is:\",2*(self.length+self.breadth))\n",
    "        \n",
    "    def ar(self):\n",
    "        print(\"the area is : \",(self.length*self.breadth))\n",
    "s=shape(int(input()),int(input()))\n",
    "s.pr()\n",
    "s.ar()"
   ]
  },
  {
   "cell_type": "code",
   "execution_count": 43,
   "id": "c28f8e61",
   "metadata": {},
   "outputs": [
    {
     "name": "stdout",
     "output_type": "stream",
     "text": [
      "enter length:8\n",
      "enter breadth:9\n",
      "the perimeter is: 34\n",
      "the area is :  72\n"
     ]
    }
   ],
   "source": [
    "class shape:\n",
    "    shape_type = \"rectangle\"\n",
    "    def __init__(self,length,breadth):\n",
    "        self.length=int(input(\"enter length:\"))\n",
    "        self.breadth=int(input(\"enter breadth:\"))\n",
    "    def pr(self):\n",
    "        print(\"the perimeter is:\",2*(self.length+self.breadth))\n",
    "        \n",
    "    def ar(self):\n",
    "        print(\"the area is : \",(self.length*self.breadth))\n",
    "s=shape(1,6)\n",
    "s.pr()\n",
    "s.ar()"
   ]
  },
  {
   "cell_type": "code",
   "execution_count": null,
   "id": "949b4989",
   "metadata": {},
   "outputs": [],
   "source": [
    "class vehicle:\n",
    "    def __init__(self,wofv,ft):\n",
    "        self.wofv=int(input(\"Enter the wheeler:\"))\n",
    "        self.ft=input(\"fuel type of wheeler:\")\n",
    "    def details(self):\n",
    "        print(f\"the {self.wofv} wheeler is having fuel type {self.ft}\")\n",
    "    def capacity(self):\n",
    "        if self.wofv==2:\n",
    "            print(\"capacity is:\",self.wofv)\n",
    "        elif self.wofv==3:\n",
    "            print(\"capacity is:\",self.wofv)\n",
    "        elif self.wofv==4:\n",
    "            type1=input(\"Enter bus or car:\")\n",
    "            if type1==\"bus\":\n",
    "                print(\"capacity is 50\")\n",
    "            else:\n",
    "                print(\"capacity is 6\")\n",
    "v=vehicle(1,\"petrol\")\n",
    "v.details()\n",
    "v.capacity()\n",
    "        \n",
    "    "
   ]
  },
  {
   "cell_type": "code",
   "execution_count": null,
   "id": "270f50d1",
   "metadata": {},
   "outputs": [],
   "source": []
  }
 ],
 "metadata": {
  "kernelspec": {
   "display_name": "Python 3 (ipykernel)",
   "language": "python",
   "name": "python3"
  },
  "language_info": {
   "codemirror_mode": {
    "name": "ipython",
    "version": 3
   },
   "file_extension": ".py",
   "mimetype": "text/x-python",
   "name": "python",
   "nbconvert_exporter": "python",
   "pygments_lexer": "ipython3",
   "version": "3.9.7"
  }
 },
 "nbformat": 4,
 "nbformat_minor": 5
}
