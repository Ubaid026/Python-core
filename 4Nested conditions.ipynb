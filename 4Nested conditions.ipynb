{
 "cells": [
  {
   "cell_type": "code",
   "execution_count": null,
   "id": "ca5ec007",
   "metadata": {},
   "outputs": [],
   "source": [
    "WAP to print if a no is even or odd"
   ]
  },
  {
   "cell_type": "code",
   "execution_count": 3,
   "id": "28fda508",
   "metadata": {},
   "outputs": [
    {
     "name": "stdout",
     "output_type": "stream",
     "text": [
      "enter the no:52\n",
      "even\n"
     ]
    }
   ],
   "source": [
    "a=int(input(\"enter the no:\"))\n",
    "if a%2==0:\n",
    "    print(\"even\")\n",
    "else:\n",
    "    print(\"odd\")"
   ]
  },
  {
   "cell_type": "markdown",
   "id": "442da7f1",
   "metadata": {},
   "source": [
    "# Nested condions\n"
   ]
  },
  {
   "cell_type": "code",
   "execution_count": 4,
   "id": "eb2d50c9",
   "metadata": {},
   "outputs": [
    {
     "ename": "IndentationError",
     "evalue": "unexpected indent (Temp/ipykernel_5192/382157412.py, line 2)",
     "output_type": "error",
     "traceback": [
      "\u001b[1;36m  File \u001b[1;32m\"C:\\Users\\dell\\AppData\\Local\\Temp/ipykernel_5192/382157412.py\"\u001b[1;36m, line \u001b[1;32m2\u001b[0m\n\u001b[1;33m    if c==d:\u001b[0m\n\u001b[1;37m    ^\u001b[0m\n\u001b[1;31mIndentationError\u001b[0m\u001b[1;31m:\u001b[0m unexpected indent\n"
     ]
    }
   ],
   "source": [
    "#if a>b:\n",
    " if c==d:"
   ]
  },
  {
   "cell_type": "code",
   "execution_count": 24,
   "id": "028c14c8",
   "metadata": {},
   "outputs": [
    {
     "name": "stdout",
     "output_type": "stream",
     "text": [
      "Enter the wheather:cold\n",
      "enter the temperature:7\n",
      "play\n"
     ]
    }
   ],
   "source": [
    "w=input(\"Enter the wheather:\")\n",
    "if w==\"sunny\":\n",
    "    temp=float(input(\"Enter the temperature:\"))\n",
    "    if temp>45:\n",
    "        humid=input(\"Enter humid or not:\")\n",
    "        if humid==\"yes\":\n",
    "            print(\"not play\")\n",
    "        else:\n",
    "            print(\"play\")\n",
    "    elif temp<=45:\n",
    "        print(\"play\")\n",
    "elif w==\"stormy\":\n",
    "    w_speed=float(input(\"Enter the speed of the wind:\"))\n",
    "    if w_speed>80:\n",
    "        print(\"not play\")\n",
    "    elif w_speed<=80:\n",
    "        print(\"play\")\n",
    "elif w==\"cold\":\n",
    "        temp=float(input(\"enter the temperature:\"))\n",
    "        if temp<5:\n",
    "            print(\"not play\")\n",
    "        elif temp>=5:\n",
    "            print(\"play\")"
   ]
  },
  {
   "cell_type": "code",
   "execution_count": null,
   "id": "e598ba1b",
   "metadata": {},
   "outputs": [],
   "source": [
    "w=is cold now\n"
   ]
  },
  {
   "cell_type": "code",
   "execution_count": null,
   "id": "f0efab95",
   "metadata": {},
   "outputs": [],
   "source": [
    "You are owner of a restraunt and menu:\n",
    "    1)Pizza\n",
    "    2)chinese\n",
    "    3)italian\n",
    "    4)indian\n",
    "    5)continental"
   ]
  },
  {
   "cell_type": "code",
   "execution_count": null,
   "id": "91732eb4",
   "metadata": {},
   "outputs": [],
   "source": [
    "piza:\n",
    "    1)veg\n",
    "    2)non-veg\n",
    "size 1)regular\n",
    "     2)medium\n",
    "     3)large\n",
    "topping 1)paneer\n",
    "        2)chicken sausages"
   ]
  },
  {
   "cell_type": "code",
   "execution_count": null,
   "id": "fbe25274",
   "metadata": {},
   "outputs": [],
   "source": [
    "menu=input(\"Enter the choice:\\n 1.pizza\\n 2.burger\\n\")\n",
    "type=input(\"enter veg or non-veg:\")\n",
    "toppings=input(\"Enter the toppings :paneer and chicken:\")\n",
    "if menu==\"pizza\":\n",
    "    if type==\"veg\":\n",
    "        size=input(\"enter the size:\")\n",
    "        if size==\"regular\" and toppings==\"paneer\":\n",
    "            print(\"Rs 180\")\n",
    "        elif size==\"medium\" and toppings==\"paneer\":\n",
    "            print(\"Rs 320\")\n",
    "        elif size==\"large\" and toppings==\"paneer\":\n",
    "            print(\"Rs 520\")\n",
    "    else:\n",
    "        size=input(\"enter the size:\")\n",
    "        if size==\"regular\" and toppings==\"chicken\":\n",
    "            print(\"rs 280\")\n",
    "        elif size==\"medium\" and toppings==\"chicken\":\n",
    "            print(\"rs 420\")\n",
    "        elif size==\"large\" and toppings==\"chicken\":\n",
    "            print(\"rs 600\")\n",
    "elif menu==\"burger\":\n",
    "    if type==\"veg\":\n",
    "        size=input(\"enter the size:\")\n",
    "        if size==\"regular\" and toppings==\"paneer\":\n",
    "            print(\"Rs 120\")\n",
    "        elif size==\"medium\" and toppings==\"paneer\":\n",
    "            print(\"Rs 240\")\n",
    "        elif size==\"large\" and toppings==\"paneer\":\n",
    "            print(\"Rs 460\")\n",
    "    else:\n",
    "        size=input(\"enter the size:\")\n",
    "        if size==\"regular\" and toppings==\"chicken\":\n",
    "            print(\"Rs 180\")\n",
    "        elif size==\"mediun\" and toppings==\"chicken\":\n",
    "            print(\"RS 300\")\n",
    "        elif size==\"large\" and toppings==\"chicken\":\n",
    "            print(\"RS 520\")\n",
    "        \n"
   ]
  },
  {
   "cell_type": "code",
   "execution_count": null,
   "id": "8beffc64",
   "metadata": {},
   "outputs": [],
   "source": []
  },
  {
   "cell_type": "code",
   "execution_count": null,
   "id": "5b21c2ad",
   "metadata": {},
   "outputs": [],
   "source": [
    "there is big billion sale at flipkart:\n",
    "    and\n",
    "products category=electronics,baby products,clothes,grooming,grociers\n",
    "electronis;\n",
    "laptop=30%\n",
    "phones=10%\n",
    "tv=20%\n",
    "headphones=5%\n",
    "\n",
    "baby products:\n",
    "    flat 40% off\n",
    "\n",
    "clothes:\n",
    "    males=15%\n",
    "    females=20%"
   ]
  },
  {
   "cell_type": "code",
   "execution_count": null,
   "id": "2a22725b",
   "metadata": {},
   "outputs": [],
   "source": [
    "a=input(\"Enter the category:\\n 1)Electronics\\n 2)Baby products\\n 3)Clothes\\n\")\n",
    "if a==\"Electronics\":\n",
    "    product=input(\"Enter the product:\")\n",
    "    if product==\"laptop\":\n",
    "        print(\"30% off\") \n",
    "    elif product==\"phones\":\n",
    "        print(\"10% off\")\n",
    "    elif product==\"Tv\":\n",
    "        print(\"20% off\")\n",
    "    else:\n",
    "        print(\"5% off\")\n",
    "if a==\"Baby products\":\n",
    "    print(\"flat 40% off\")\n",
    "if a==\"Clothes\":\n",
    "    gender=input(\"Enter the gender:\")\n",
    "    if gender==\"male\":\n",
    "        print(\"15% off\")\n",
    "    else:\n",
    "        print(\"20% off\")"
   ]
  },
  {
   "cell_type": "code",
   "execution_count": null,
   "id": "77263591",
   "metadata": {},
   "outputs": [],
   "source": [
    "we talked about deciding whether we are prepared for the wheather .i said that i am safe from today wheather if..\n",
    "\n",
    "i have an umbrella\n",
    "or if the rain is not too heaavy and i have a hood\n",
    "otherwise i m still fine unless it is raining and it is a workday"
   ]
  },
  {
   "cell_type": "code",
   "execution_count": 5,
   "id": "24b813d6",
   "metadata": {},
   "outputs": [
    {
     "name": "stdout",
     "output_type": "stream",
     "text": [
      "DO u have umbrella:no\n",
      "Do u have hood:yes\n",
      "Is rain heavy:no\n",
      "Is it workday:yes\n",
      "safe\n"
     ]
    }
   ],
   "source": [
    "umbrella=input(\"DO u have umbrella:\")\n",
    "hood=input(\"Do u have hood:\")\n",
    "rain=input(\"Is rain heavy:\")\n",
    "workday=input(\"Is it workday:\")\n",
    "if workday==\"yes\":\n",
    "    if rain==\"yes\":\n",
    "        if umbrella==\"yes\":\n",
    "            print(\"safe\")\n",
    "        else:\n",
    "            print(\"not safe\")\n",
    "    else:\n",
    "        if hood==\"yes\":\n",
    "            print(\"safe\")\n",
    "        else:\n",
    "            print(\"not safe\")\n",
    "else:\n",
    "    print(\"safe\")\n",
    "        \n",
    "        \n",
    "        \n"
   ]
  },
  {
   "cell_type": "code",
   "execution_count": null,
   "id": "1c94e040",
   "metadata": {},
   "outputs": [],
   "source": []
  }
 ],
 "metadata": {
  "kernelspec": {
   "display_name": "Python 3 (ipykernel)",
   "language": "python",
   "name": "python3"
  },
  "language_info": {
   "codemirror_mode": {
    "name": "ipython",
    "version": 3
   },
   "file_extension": ".py",
   "mimetype": "text/x-python",
   "name": "python",
   "nbconvert_exporter": "python",
   "pygments_lexer": "ipython3",
   "version": "3.9.7"
  }
 },
 "nbformat": 4,
 "nbformat_minor": 5
}
