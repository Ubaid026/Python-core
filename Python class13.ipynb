{
 "cells": [
  {
   "cell_type": "markdown",
   "id": "0236b0d3",
   "metadata": {},
   "source": [
    "# FUNCTIONS"
   ]
  },
  {
   "cell_type": "code",
   "execution_count": 7,
   "id": "5b908342",
   "metadata": {},
   "outputs": [
    {
     "name": "stdout",
     "output_type": "stream",
     "text": [
      "300\n"
     ]
    }
   ],
   "source": [
    "def function_name(a,b):\n",
    "    c=a+b\n",
    "    print(c)\n",
    "function_name(100,200)"
   ]
  },
  {
   "cell_type": "code",
   "execution_count": 8,
   "id": "4dd57275",
   "metadata": {},
   "outputs": [
    {
     "name": "stdout",
     "output_type": "stream",
     "text": [
      "600\n"
     ]
    }
   ],
   "source": [
    "function_name(200,400)        #multiple outputs on single program"
   ]
  },
  {
   "cell_type": "code",
   "execution_count": null,
   "id": "fb730695",
   "metadata": {},
   "outputs": [],
   "source": [
    "functions are of two types:\n",
    "    1)built in\n",
    "    2)user-defined"
   ]
  },
  {
   "cell_type": "code",
   "execution_count": null,
   "id": "5dd2e354",
   "metadata": {},
   "outputs": [],
   "source": [
    "built in:"
   ]
  },
  {
   "cell_type": "code",
   "execution_count": null,
   "id": "392edfda",
   "metadata": {},
   "outputs": [],
   "source": [
    "waf to calculate temperature in "
   ]
  },
  {
   "cell_type": "code",
   "execution_count": 12,
   "id": "dc3ee0df",
   "metadata": {},
   "outputs": [
    {
     "name": "stdout",
     "output_type": "stream",
     "text": [
      "enter the temp in f:32\n",
      "0.0 in degree celcius\n"
     ]
    }
   ],
   "source": [
    "f=int(input(\"enter the temp in f:\"))\n",
    "def temp(f):\n",
    "    c=(5/9)*(f-32)                       \n",
    "    print(c,\"in degree celcius\")\n",
    "temp(f)"
   ]
  },
  {
   "cell_type": "code",
   "execution_count": null,
   "id": "1601dd36",
   "metadata": {},
   "outputs": [],
   "source": [
    "waf to give grades to a student basis his marks"
   ]
  },
  {
   "cell_type": "code",
   "execution_count": 18,
   "id": "7a2bcefa",
   "metadata": {},
   "outputs": [
    {
     "name": "stdout",
     "output_type": "stream",
     "text": [
      "A\n"
     ]
    }
   ],
   "source": [
    "def grades(m):\n",
    "    if m>90:\n",
    "        print(\"A\")\n",
    "    elif 90>m>80:\n",
    "        print(\"B\")\n",
    "grades(94)\n"
   ]
  },
  {
   "cell_type": "code",
   "execution_count": null,
   "id": "52843772",
   "metadata": {},
   "outputs": [],
   "source": [
    "waf to print the list in reverse order"
   ]
  },
  {
   "cell_type": "code",
   "execution_count": 26,
   "id": "f4a5c238",
   "metadata": {},
   "outputs": [
    {
     "name": "stdout",
     "output_type": "stream",
     "text": [
      "10\n",
      "8\n",
      "6\n",
      "4\n",
      "1\n"
     ]
    }
   ],
   "source": [
    "def reverse(l):\n",
    "    for i in range(-1,-6,-1):\n",
    "        print(l[i])\n",
    "reverse([1,4,6,8,10])\n",
    "        "
   ]
  },
  {
   "cell_type": "code",
   "execution_count": 31,
   "id": "3775aba4",
   "metadata": {},
   "outputs": [
    {
     "name": "stdout",
     "output_type": "stream",
     "text": [
      "e\n",
      "d\n",
      "c\n",
      "b\n",
      "a\n"
     ]
    }
   ],
   "source": [
    "def reverse(s):\n",
    "    for i in range(-1,-6,-1):\n",
    "        print(s[i])\n",
    "reverse(\"abcde\")"
   ]
  },
  {
   "cell_type": "code",
   "execution_count": 98,
   "id": "2fbfc874",
   "metadata": {},
   "outputs": [
    {
     "name": "stdout",
     "output_type": "stream",
     "text": [
      "false\n"
     ]
    }
   ],
   "source": [
    "def prime(n):\n",
    "    for i in range(2,n):\n",
    "        if n%i!=0:\n",
    "            print(\"true\")\n",
    "            break\n",
    "        else:\n",
    "            print(\"false\")\n",
    "            break\n",
    "prime(86)"
   ]
  },
  {
   "cell_type": "markdown",
   "id": "5b07aa6c",
   "metadata": {},
   "source": [
    "# Different types of parameters to my function:\n",
    "   1)required\n",
    "     2)default\n",
    "     3)keyword\n",
    "     4)arbitrary"
   ]
  },
  {
   "cell_type": "code",
   "execution_count": 32,
   "id": "d24268dc",
   "metadata": {},
   "outputs": [
    {
     "name": "stdout",
     "output_type": "stream",
     "text": [
      "11 qw sdd\n"
     ]
    }
   ],
   "source": [
    "#required: it is how many parameters we basically need to carry out the logic\n",
    "def a(v,m,x):\n",
    "    print(v,m,x)\n",
    "a(11,\"qw\",\"sdd\")"
   ]
  },
  {
   "cell_type": "code",
   "execution_count": 34,
   "id": "0239a963",
   "metadata": {},
   "outputs": [
    {
     "name": "stdout",
     "output_type": "stream",
     "text": [
      "11 aman singh\n"
     ]
    }
   ],
   "source": [
    "#2)Default:-values of parameters are already defined\n",
    "def a(v,m=\"aman\",x=\"singh\"):\n",
    "    print(v,m,x)\n",
    "a(11)"
   ]
  },
  {
   "cell_type": "markdown",
   "id": "d1be2a29",
   "metadata": {},
   "source": [
    "# 3)Keyword:particular value to particular argument"
   ]
  },
  {
   "cell_type": "code",
   "execution_count": 35,
   "id": "8aa14a11",
   "metadata": {},
   "outputs": [
    {
     "name": "stdout",
     "output_type": "stream",
     "text": [
      "11 as 23\n"
     ]
    }
   ],
   "source": [
    "def a(v,m,x):\n",
    "    print(v,m,x)\n",
    "a(v=11,m=\"as\",x=23)"
   ]
  },
  {
   "cell_type": "code",
   "execution_count": 1,
   "id": "3bc489b8",
   "metadata": {},
   "outputs": [
    {
     "ename": "SyntaxError",
     "evalue": "unmatched ')' (Temp/ipykernel_1976/2903299739.py, line 2)",
     "output_type": "error",
     "traceback": [
      "\u001b[1;36m  File \u001b[1;32m\"C:\\Users\\dell\\AppData\\Local\\Temp/ipykernel_1976/2903299739.py\"\u001b[1;36m, line \u001b[1;32m2\u001b[0m\n\u001b[1;33m    1) *args   2) **Kwargs\u001b[0m\n\u001b[1;37m     ^\u001b[0m\n\u001b[1;31mSyntaxError\u001b[0m\u001b[1;31m:\u001b[0m unmatched ')'\n"
     ]
    }
   ],
   "source": [
    "# 4)Arbitrary:-no of parameters not defined\n",
    "1) *args   2) **Kwargs"
   ]
  },
  {
   "cell_type": "code",
   "execution_count": 3,
   "id": "253f0764",
   "metadata": {},
   "outputs": [
    {
     "name": "stdout",
     "output_type": "stream",
     "text": [
      "(1, 3, 45, True, 'aman')\n",
      "<class 'tuple'>\n",
      "1\n",
      "3\n",
      "45\n",
      "True\n",
      "aman\n"
     ]
    }
   ],
   "source": [
    "def escape(*a):\n",
    "    print(a)\n",
    "    print(type(a))\n",
    "    for i in a:\n",
    "        print(i)\n",
    "escape(1,3,45,True,\"aman\")"
   ]
  },
  {
   "cell_type": "code",
   "execution_count": 5,
   "id": "683bf90a",
   "metadata": {},
   "outputs": [
    {
     "name": "stdout",
     "output_type": "stream",
     "text": [
      "{'a': 1, 'b': 3, 'rt': 45.5, 'd': True, 'e': 'aman'}\n",
      "<class 'dict'>\n",
      "a 1\n",
      "b 3\n",
      "rt 45.5\n",
      "d True\n",
      "e aman\n"
     ]
    }
   ],
   "source": [
    "def escape(**a):\n",
    "    print(a)\n",
    "    print(type(a))\n",
    "    for i,j in a.items():\n",
    "        print(i,j)\n",
    "escape(a=1,b=3,rt=45.5,d=True,e=\"aman\")"
   ]
  },
  {
   "cell_type": "code",
   "execution_count": 6,
   "id": "bdff5e8a",
   "metadata": {},
   "outputs": [],
   "source": [
    "import math"
   ]
  },
  {
   "cell_type": "code",
   "execution_count": 8,
   "id": "22a49b12",
   "metadata": {},
   "outputs": [
    {
     "name": "stdout",
     "output_type": "stream",
     "text": [
      "Help on built-in module math:\n",
      "\n",
      "NAME\n",
      "    math\n",
      "\n",
      "DESCRIPTION\n",
      "    This module provides access to the mathematical functions\n",
      "    defined by the C standard.\n",
      "\n",
      "FUNCTIONS\n",
      "    acos(x, /)\n",
      "        Return the arc cosine (measured in radians) of x.\n",
      "        \n",
      "        The result is between 0 and pi.\n",
      "    \n",
      "    acosh(x, /)\n",
      "        Return the inverse hyperbolic cosine of x.\n",
      "    \n",
      "    asin(x, /)\n",
      "        Return the arc sine (measured in radians) of x.\n",
      "        \n",
      "        The result is between -pi/2 and pi/2.\n",
      "    \n",
      "    asinh(x, /)\n",
      "        Return the inverse hyperbolic sine of x.\n",
      "    \n",
      "    atan(x, /)\n",
      "        Return the arc tangent (measured in radians) of x.\n",
      "        \n",
      "        The result is between -pi/2 and pi/2.\n",
      "    \n",
      "    atan2(y, x, /)\n",
      "        Return the arc tangent (measured in radians) of y/x.\n",
      "        \n",
      "        Unlike atan(y/x), the signs of both x and y are considered.\n",
      "    \n",
      "    atanh(x, /)\n",
      "        Return the inverse hyperbolic tangent of x.\n",
      "    \n",
      "    ceil(x, /)\n",
      "        Return the ceiling of x as an Integral.\n",
      "        \n",
      "        This is the smallest integer >= x.\n",
      "    \n",
      "    comb(n, k, /)\n",
      "        Number of ways to choose k items from n items without repetition and without order.\n",
      "        \n",
      "        Evaluates to n! / (k! * (n - k)!) when k <= n and evaluates\n",
      "        to zero when k > n.\n",
      "        \n",
      "        Also called the binomial coefficient because it is equivalent\n",
      "        to the coefficient of k-th term in polynomial expansion of the\n",
      "        expression (1 + x)**n.\n",
      "        \n",
      "        Raises TypeError if either of the arguments are not integers.\n",
      "        Raises ValueError if either of the arguments are negative.\n",
      "    \n",
      "    copysign(x, y, /)\n",
      "        Return a float with the magnitude (absolute value) of x but the sign of y.\n",
      "        \n",
      "        On platforms that support signed zeros, copysign(1.0, -0.0)\n",
      "        returns -1.0.\n",
      "    \n",
      "    cos(x, /)\n",
      "        Return the cosine of x (measured in radians).\n",
      "    \n",
      "    cosh(x, /)\n",
      "        Return the hyperbolic cosine of x.\n",
      "    \n",
      "    degrees(x, /)\n",
      "        Convert angle x from radians to degrees.\n",
      "    \n",
      "    dist(p, q, /)\n",
      "        Return the Euclidean distance between two points p and q.\n",
      "        \n",
      "        The points should be specified as sequences (or iterables) of\n",
      "        coordinates.  Both inputs must have the same dimension.\n",
      "        \n",
      "        Roughly equivalent to:\n",
      "            sqrt(sum((px - qx) ** 2.0 for px, qx in zip(p, q)))\n",
      "    \n",
      "    erf(x, /)\n",
      "        Error function at x.\n",
      "    \n",
      "    erfc(x, /)\n",
      "        Complementary error function at x.\n",
      "    \n",
      "    exp(x, /)\n",
      "        Return e raised to the power of x.\n",
      "    \n",
      "    expm1(x, /)\n",
      "        Return exp(x)-1.\n",
      "        \n",
      "        This function avoids the loss of precision involved in the direct evaluation of exp(x)-1 for small x.\n",
      "    \n",
      "    fabs(x, /)\n",
      "        Return the absolute value of the float x.\n",
      "    \n",
      "    factorial(x, /)\n",
      "        Find x!.\n",
      "        \n",
      "        Raise a ValueError if x is negative or non-integral.\n",
      "    \n",
      "    floor(x, /)\n",
      "        Return the floor of x as an Integral.\n",
      "        \n",
      "        This is the largest integer <= x.\n",
      "    \n",
      "    fmod(x, y, /)\n",
      "        Return fmod(x, y), according to platform C.\n",
      "        \n",
      "        x % y may differ.\n",
      "    \n",
      "    frexp(x, /)\n",
      "        Return the mantissa and exponent of x, as pair (m, e).\n",
      "        \n",
      "        m is a float and e is an int, such that x = m * 2.**e.\n",
      "        If x is 0, m and e are both 0.  Else 0.5 <= abs(m) < 1.0.\n",
      "    \n",
      "    fsum(seq, /)\n",
      "        Return an accurate floating point sum of values in the iterable seq.\n",
      "        \n",
      "        Assumes IEEE-754 floating point arithmetic.\n",
      "    \n",
      "    gamma(x, /)\n",
      "        Gamma function at x.\n",
      "    \n",
      "    gcd(*integers)\n",
      "        Greatest Common Divisor.\n",
      "    \n",
      "    hypot(...)\n",
      "        hypot(*coordinates) -> value\n",
      "        \n",
      "        Multidimensional Euclidean distance from the origin to a point.\n",
      "        \n",
      "        Roughly equivalent to:\n",
      "            sqrt(sum(x**2 for x in coordinates))\n",
      "        \n",
      "        For a two dimensional point (x, y), gives the hypotenuse\n",
      "        using the Pythagorean theorem:  sqrt(x*x + y*y).\n",
      "        \n",
      "        For example, the hypotenuse of a 3/4/5 right triangle is:\n",
      "        \n",
      "            >>> hypot(3.0, 4.0)\n",
      "            5.0\n",
      "    \n",
      "    isclose(a, b, *, rel_tol=1e-09, abs_tol=0.0)\n",
      "        Determine whether two floating point numbers are close in value.\n",
      "        \n",
      "          rel_tol\n",
      "            maximum difference for being considered \"close\", relative to the\n",
      "            magnitude of the input values\n",
      "          abs_tol\n",
      "            maximum difference for being considered \"close\", regardless of the\n",
      "            magnitude of the input values\n",
      "        \n",
      "        Return True if a is close in value to b, and False otherwise.\n",
      "        \n",
      "        For the values to be considered close, the difference between them\n",
      "        must be smaller than at least one of the tolerances.\n",
      "        \n",
      "        -inf, inf and NaN behave similarly to the IEEE 754 Standard.  That\n",
      "        is, NaN is not close to anything, even itself.  inf and -inf are\n",
      "        only close to themselves.\n",
      "    \n",
      "    isfinite(x, /)\n",
      "        Return True if x is neither an infinity nor a NaN, and False otherwise.\n",
      "    \n",
      "    isinf(x, /)\n",
      "        Return True if x is a positive or negative infinity, and False otherwise.\n",
      "    \n",
      "    isnan(x, /)\n",
      "        Return True if x is a NaN (not a number), and False otherwise.\n",
      "    \n",
      "    isqrt(n, /)\n",
      "        Return the integer part of the square root of the input.\n",
      "    \n",
      "    lcm(*integers)\n",
      "        Least Common Multiple.\n",
      "    \n",
      "    ldexp(x, i, /)\n",
      "        Return x * (2**i).\n",
      "        \n",
      "        This is essentially the inverse of frexp().\n",
      "    \n",
      "    lgamma(x, /)\n",
      "        Natural logarithm of absolute value of Gamma function at x.\n",
      "    \n",
      "    log(...)\n",
      "        log(x, [base=math.e])\n",
      "        Return the logarithm of x to the given base.\n",
      "        \n",
      "        If the base not specified, returns the natural logarithm (base e) of x.\n",
      "    \n",
      "    log10(x, /)\n",
      "        Return the base 10 logarithm of x.\n",
      "    \n",
      "    log1p(x, /)\n",
      "        Return the natural logarithm of 1+x (base e).\n",
      "        \n",
      "        The result is computed in a way which is accurate for x near zero.\n",
      "    \n",
      "    log2(x, /)\n",
      "        Return the base 2 logarithm of x.\n",
      "    \n",
      "    modf(x, /)\n",
      "        Return the fractional and integer parts of x.\n",
      "        \n",
      "        Both results carry the sign of x and are floats.\n",
      "    \n",
      "    nextafter(x, y, /)\n",
      "        Return the next floating-point value after x towards y.\n",
      "    \n",
      "    perm(n, k=None, /)\n",
      "        Number of ways to choose k items from n items without repetition and with order.\n",
      "        \n",
      "        Evaluates to n! / (n - k)! when k <= n and evaluates\n",
      "        to zero when k > n.\n",
      "        \n",
      "        If k is not specified or is None, then k defaults to n\n",
      "        and the function returns n!.\n",
      "        \n",
      "        Raises TypeError if either of the arguments are not integers.\n",
      "        Raises ValueError if either of the arguments are negative.\n",
      "    \n",
      "    pow(x, y, /)\n",
      "        Return x**y (x to the power of y).\n",
      "    \n",
      "    prod(iterable, /, *, start=1)\n",
      "        Calculate the product of all the elements in the input iterable.\n",
      "        \n",
      "        The default start value for the product is 1.\n",
      "        \n",
      "        When the iterable is empty, return the start value.  This function is\n",
      "        intended specifically for use with numeric values and may reject\n",
      "        non-numeric types.\n",
      "    \n",
      "    radians(x, /)\n",
      "        Convert angle x from degrees to radians.\n",
      "    \n",
      "    remainder(x, y, /)\n",
      "        Difference between x and the closest integer multiple of y.\n",
      "        \n",
      "        Return x - n*y where n*y is the closest integer multiple of y.\n",
      "        In the case where x is exactly halfway between two multiples of\n",
      "        y, the nearest even value of n is used. The result is always exact.\n",
      "    \n",
      "    sin(x, /)\n",
      "        Return the sine of x (measured in radians).\n",
      "    \n",
      "    sinh(x, /)\n",
      "        Return the hyperbolic sine of x.\n",
      "    \n",
      "    sqrt(x, /)\n",
      "        Return the square root of x.\n",
      "    \n",
      "    tan(x, /)\n",
      "        Return the tangent of x (measured in radians).\n",
      "    \n",
      "    tanh(x, /)\n",
      "        Return the hyperbolic tangent of x.\n",
      "    \n",
      "    trunc(x, /)\n",
      "        Truncates the Real x to the nearest Integral toward 0.\n",
      "        \n",
      "        Uses the __trunc__ magic method.\n",
      "    \n",
      "    ulp(x, /)\n",
      "        Return the value of the least significant bit of the float x.\n",
      "\n",
      "DATA\n",
      "    e = 2.718281828459045\n",
      "    inf = inf\n",
      "    nan = nan\n",
      "    pi = 3.141592653589793\n",
      "    tau = 6.283185307179586\n",
      "\n",
      "FILE\n",
      "    (built-in)\n",
      "\n",
      "\n"
     ]
    }
   ],
   "source": [
    "help(math)"
   ]
  },
  {
   "cell_type": "code",
   "execution_count": null,
   "id": "622410a7",
   "metadata": {},
   "outputs": [],
   "source": [
    "wap to build your range function"
   ]
  },
  {
   "cell_type": "code",
   "execution_count": 16,
   "id": "3dcbecd5",
   "metadata": {},
   "outputs": [
    {
     "name": "stdout",
     "output_type": "stream",
     "text": [
      "1 2 3 4 5 6 7 8 9 "
     ]
    }
   ],
   "source": [
    "def r(start,end,step):\n",
    "    while start<end or end<start:\n",
    "        print(start,\"\",end=\"\")\n",
    "        start=start+step\n",
    "r(1,10,1)\n",
    "    "
   ]
  },
  {
   "cell_type": "code",
   "execution_count": null,
   "id": "c007cf8e",
   "metadata": {},
   "outputs": [],
   "source": [
    "WAF to greet people with good morning it their names has a in it"
   ]
  },
  {
   "cell_type": "code",
   "execution_count": 25,
   "id": "62c7ab68",
   "metadata": {},
   "outputs": [
    {
     "name": "stdout",
     "output_type": "stream",
     "text": [
      "Enter the names:ubaid,atir,wess\n",
      "good morning ubaid\n",
      "good morning atir\n",
      "hello wess\n"
     ]
    }
   ],
   "source": [
    "def greet(n):\n",
    "    for i in n:\n",
    "        if \"a\" in i:\n",
    "            print(\"good morning\",i)\n",
    "        else:\n",
    "            print(\"hello\",i)\n",
    "greet(n=input(\"Enter the names:\").split(sep=\",\"))"
   ]
  },
  {
   "cell_type": "code",
   "execution_count": 4,
   "id": "6cb6a50a",
   "metadata": {},
   "outputs": [
    {
     "name": "stdout",
     "output_type": "stream",
     "text": [
      "enter names:dar\n",
      "good morning dar\n"
     ]
    }
   ],
   "source": [
    "def greet():\n",
    "    n=input(\"enter names:\").split()\n",
    "    for i in n:\n",
    "        if \"a\" in i:\n",
    "            print(\"good morning\",i)\n",
    "        else:\n",
    "            print(\"hello\",i)\n",
    "greet()"
   ]
  },
  {
   "cell_type": "code",
   "execution_count": null,
   "id": "87d566ee",
   "metadata": {},
   "outputs": [],
   "source": [
    "WAP to take the input as the shape from the user and print the area of the shape"
   ]
  },
  {
   "cell_type": "code",
   "execution_count": 36,
   "id": "366fd99e",
   "metadata": {},
   "outputs": [
    {
     "name": "stdout",
     "output_type": "stream",
     "text": [
      "enter length:8\n",
      "enter breadth:6\n",
      "48\n"
     ]
    }
   ],
   "source": [
    "def area(shape):\n",
    "    if shape==\"rectangle\":\n",
    "        l=int(input(\"enter length:\"))\n",
    "        b=int(input(\"enter breadth:\"))\n",
    "        ar=l*b\n",
    "        print(ar)\n",
    "area(\"rectangle\")\n",
    "\n",
    "    "
   ]
  },
  {
   "cell_type": "code",
   "execution_count": 30,
   "id": "0e322937",
   "metadata": {},
   "outputs": [
    {
     "data": {
      "text/plain": [
       "4"
      ]
     },
     "execution_count": 30,
     "metadata": {},
     "output_type": "execute_result"
    }
   ],
   "source": [
    "s=\"aman\"\n",
    "len(s)"
   ]
  },
  {
   "cell_type": "code",
   "execution_count": 32,
   "id": "f925a53c",
   "metadata": {},
   "outputs": [
    {
     "data": {
      "text/plain": [
       "456"
      ]
     },
     "execution_count": 32,
     "metadata": {},
     "output_type": "execute_result"
    }
   ],
   "source": [
    "l=[123,145,122,100,99,456]\n",
    "max(l)"
   ]
  },
  {
   "cell_type": "code",
   "execution_count": 35,
   "id": "e43ed02b",
   "metadata": {},
   "outputs": [
    {
     "data": {
      "text/plain": [
       "'y'"
      ]
     },
     "execution_count": 35,
     "metadata": {},
     "output_type": "execute_result"
    }
   ],
   "source": [
    "s=\"FoXy\"\n",
    "max(s)"
   ]
  },
  {
   "cell_type": "code",
   "execution_count": 37,
   "id": "e651d083",
   "metadata": {},
   "outputs": [
    {
     "name": "stdout",
     "output_type": "stream",
     "text": [
      "70\n",
      "111\n",
      "88\n",
      "121\n"
     ]
    }
   ],
   "source": [
    "a=\"FoXy\"\n",
    "for i in a:\n",
    "    print(ord(i))"
   ]
  },
  {
   "cell_type": "code",
   "execution_count": 38,
   "id": "cd3ffcb3",
   "metadata": {},
   "outputs": [
    {
     "data": {
      "text/plain": [
       "99"
      ]
     },
     "execution_count": 38,
     "metadata": {},
     "output_type": "execute_result"
    }
   ],
   "source": [
    "l=[123,145,122,100,99,456]\n",
    "min(l)"
   ]
  },
  {
   "cell_type": "code",
   "execution_count": 39,
   "id": "e635b39f",
   "metadata": {},
   "outputs": [
    {
     "data": {
      "text/plain": [
       "'F'"
      ]
     },
     "execution_count": 39,
     "metadata": {},
     "output_type": "execute_result"
    }
   ],
   "source": [
    "s=\"FoXy\"\n",
    "min(s)"
   ]
  },
  {
   "cell_type": "code",
   "execution_count": null,
   "id": "0cbbf79d",
   "metadata": {},
   "outputs": [],
   "source": [
    "WAF to"
   ]
  },
  {
   "cell_type": "code",
   "execution_count": 40,
   "id": "d8ea53a5",
   "metadata": {},
   "outputs": [
    {
     "data": {
      "text/plain": [
       "120"
      ]
     },
     "execution_count": 40,
     "metadata": {},
     "output_type": "execute_result"
    }
   ],
   "source": [
    "def mul(a,b):\n",
    "    c=a*b\n",
    "    return c\n",
    "    print(\"aman\")\n",
    "mul(12,10)\n"
   ]
  },
  {
   "cell_type": "markdown",
   "id": "ad78fd8b",
   "metadata": {},
   "source": [
    "# scope of variable:"
   ]
  },
  {
   "cell_type": "markdown",
   "id": "035819d8",
   "metadata": {},
   "source": [
    "## 1)local\n",
    "## 2)global"
   ]
  },
  {
   "cell_type": "code",
   "execution_count": 42,
   "id": "7bf70e0f",
   "metadata": {},
   "outputs": [
    {
     "name": "stdout",
     "output_type": "stream",
     "text": [
      "10\n"
     ]
    },
    {
     "data": {
      "text/plain": [
       "10"
      ]
     },
     "execution_count": 42,
     "metadata": {},
     "output_type": "execute_result"
    }
   ],
   "source": [
    "def fun():\n",
    "    global a\n",
    "    a=10\n",
    "    print(a)\n",
    "fun()\n",
    "a"
   ]
  },
  {
   "cell_type": "code",
   "execution_count": null,
   "id": "dc821359",
   "metadata": {},
   "outputs": [],
   "source": [
    "WAF to take 3 meals as input from the user if the meal is south indian print \"rombanala\" .\n",
    "if the meal is punjabi print \"vadhiyaa haigi\" if the meal is north indian print \"yummy\""
   ]
  },
  {
   "cell_type": "code",
   "execution_count": null,
   "id": "a2ae636f",
   "metadata": {},
   "outputs": [],
   "source": [
    "def meals():\n",
    "    d=input(\"Enter dishes:\").split()\n",
    "    for i in d:\n",
    "        if i==\"idli\":\n",
    "            print(i,\"rombanala\")\n",
    "        elif i==\"rajma\":\n",
    "            print(i,\"vadhiyaa\")\n",
    "        else:\n",
    "            print(i,\"yummy\")\n",
    "meals()"
   ]
  }
 ],
 "metadata": {
  "kernelspec": {
   "display_name": "Python 3 (ipykernel)",
   "language": "python",
   "name": "python3"
  },
  "language_info": {
   "codemirror_mode": {
    "name": "ipython",
    "version": 3
   },
   "file_extension": ".py",
   "mimetype": "text/x-python",
   "name": "python",
   "nbconvert_exporter": "python",
   "pygments_lexer": "ipython3",
   "version": "3.9.7"
  }
 },
 "nbformat": 4,
 "nbformat_minor": 5
}
